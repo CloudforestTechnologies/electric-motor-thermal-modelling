{
 "cells": [
  {
   "cell_type": "code",
   "execution_count": 6,
   "metadata": {},
   "outputs": [],
   "source": [
    "# Module Importations\n",
    "from sklearn.model_selection import train_test_split"
   ]
  },
  {
   "cell_type": "code",
   "execution_count": 1,
   "metadata": {
    "tags": []
   },
   "outputs": [
    {
     "output_type": "stream",
     "name": "stderr",
     "text": "Using TensorFlow backend.\n"
    }
   ],
   "source": [
    "# Project Module Importations\n",
    "from src.data import load_data\n",
    "from src.data import split_data\n",
    "from src.models import keras_helpers"
   ]
  },
  {
   "cell_type": "code",
   "execution_count": 2,
   "metadata": {},
   "outputs": [],
   "source": [
    "# Load dataset\n",
    "original_dataset = load_data.load_motor_data()"
   ]
  },
  {
   "cell_type": "code",
   "execution_count": 3,
   "metadata": {},
   "outputs": [],
   "source": [
    "# Split data into training / evaluation sets\n",
    "training_set, evaluation_set = split_data.split_train_test(original_dataset, 0.8)"
   ]
  },
  {
   "cell_type": "code",
   "execution_count": 4,
   "metadata": {
    "tags": []
   },
   "outputs": [
    {
     "output_type": "stream",
     "name": "stdout",
     "text": "ambient        coolant            u_d            u_q  \\\ncount  199614.000000  199614.000000  199614.000000  199614.000000   \nmean       -0.005043       0.005308       0.003792      -0.005359   \nstd         0.996490       1.002488       0.998747       1.001464   \nmin        -5.239872      -1.270450      -1.654002      -1.852853   \n25%        -0.601386      -1.037872      -0.831843      -0.924537   \n50%         0.266671      -0.178200       0.267391      -0.098490   \n75%         0.686838       0.673512       0.358587       0.848608   \nmax         2.954662       2.296845       2.273808       1.788773   \n\n         motor_speed         torque            i_d            i_q  \\\ncount  199614.000000  199614.000000  199614.000000  199614.000000   \nmean       -0.004852      -0.001687       0.004184      -0.001570   \nstd         1.001954       0.998525       0.999021       0.998389   \nmin        -1.353747      -3.339106      -3.235659      -3.329749   \n25%        -0.951892      -0.267419      -0.759524      -0.257273   \n50%        -0.140246      -0.186549       0.206151      -0.183473   \n75%         0.856986       0.548676       1.013975       0.501003   \nmax         2.024162       3.016479       1.060718       2.914179   \n\n                  pm    stator_yoke   stator_tooth  stator_winding  \ncount  199614.000000  199614.000000  199614.000000   199614.000000  \nmean       -0.004875       0.001077      -0.001664       -0.003221  \nstd         0.997822       1.002443       1.000849        0.998714  \nmin        -2.631581      -1.833552      -2.063137       -2.019349  \n25%        -0.677244      -0.747915      -0.761951       -0.725616  \n50%         0.095507      -0.057212       0.005475        0.008515  \n75%         0.682715       0.698267       0.772167        0.729825  \nmax         2.917456       2.443347       2.325405        2.633611  \n"
    }
   ],
   "source": [
    "# Drop profile id data column\n",
    "training_set = training_set.drop(\"profile_id\", axis = 1)\n",
    "print(training_set.describe())"
   ]
  },
  {
   "cell_type": "code",
   "execution_count": 5,
   "metadata": {},
   "outputs": [],
   "source": [
    "# Create rotor target\n",
    "rotor_training_data = training_set.drop(\"pm\", axis = 1)\n",
    "rotor_label_data = training_set[\"pm\"].copy()"
   ]
  },
  {
   "cell_type": "code",
   "execution_count": 8,
   "metadata": {
    "tags": []
   },
   "outputs": [
    {
     "output_type": "stream",
     "name": "stdout",
     "text": "ambient   coolant       u_d       u_q  motor_speed    torque  \\\n226387 -1.413809 -1.057052 -0.467056  1.478700     1.834744 -0.004685   \n420886  0.635738  2.199731 -0.389888 -0.858250    -0.900093  2.673872   \n109412 -0.829217 -1.075907  0.296190  1.744337     0.265571 -0.265274   \n288816 -0.565807  0.301264 -0.190638 -0.825263    -0.951901  1.938591   \n2472   -0.628137 -1.042617  0.183006  1.684369     2.024118 -0.264763   \n...          ...       ...       ...       ...          ...       ...   \n127838  0.504238  1.009462 -0.939062  0.885982    -0.004974  0.801617   \n695834  0.372681  0.580977  0.302005 -1.298735    -1.222431 -0.255640   \n158264 -0.084264 -1.073956 -1.091103  0.853113    -0.004971  0.931768   \n548826  1.569962 -0.053349  0.239269  1.758611     0.815972 -0.250909   \n591460  1.369382 -0.140655 -1.549056 -0.477226     0.738642  0.997745   \n\n             i_d       i_q  stator_yoke  stator_tooth  stator_winding  \n226387 -0.782285 -0.018301    -0.769430     -0.437997       -0.290508  \n420886 -1.292565  2.703197     1.922334      1.675834        1.764122  \n109412  1.029256 -0.245957    -1.432343     -1.522443       -1.634227  \n288816 -0.476546  2.013814     1.149623      1.416695        1.589234  \n2472   -0.755980 -0.254938    -0.808048     -0.455793       -0.342101  \n...          ...       ...          ...           ...             ...  \n127838  0.511218  0.945357     0.869482      0.621859        0.398659  \n695834  1.029143 -0.245713    -0.222530     -0.761951       -0.976923  \n158264  0.437426  1.067493    -0.658608     -0.386279       -0.331845  \n548826  0.231586 -0.240490    -0.057557     -0.131499       -0.328772  \n591460 -1.761748  0.834304     0.365207      0.734185        0.894111  \n\n[159691 rows x 11 columns]          ambient   coolant       u_d       u_q  motor_speed    torque  \\\n465044  1.036664 -0.073353  1.142612 -0.725508    -0.697870 -2.325784   \n671207  0.688609 -0.300785  0.350538 -1.268323    -1.222427 -0.255640   \n993738 -0.127089 -0.693900  0.212188 -0.837442    -1.010400 -0.015576   \n952814 -0.547219 -0.319588  1.126514  0.981893     0.038513 -0.907058   \n414477  0.147621  0.355923 -0.099661  1.673116     0.676815 -0.062858   \n...          ...       ...       ...       ...          ...       ...   \n910663 -0.134193 -0.547246  2.212940 -0.519444    -0.153805 -2.936606   \n623473 -0.090818 -0.635909  0.101186 -0.776481    -0.985588  0.571419   \n260088 -2.953166 -1.036957  0.302209 -1.184748    -1.189969 -0.118893   \n144931 -1.541613 -1.050124 -1.321186  0.320058     1.888850  0.357492   \n209190 -2.749771 -1.064535 -0.839581  0.019084    -0.437844  1.494688   \n\n             i_d       i_q  stator_yoke  stator_tooth  stator_winding  \n465044 -0.215616 -2.408360     0.269455      0.439449        0.581656  \n671207  1.029157 -0.245714    -0.943318     -1.253010       -1.343428  \n993738  0.949910  0.035121    -0.998745     -1.127752       -1.225647  \n952814  0.771660 -0.988059    -0.226347     -0.116880       -0.013479  \n414477  0.301733 -0.043316     0.025941     -0.017729        0.013386  \n...          ...       ...          ...           ...             ...  \n910663 -1.191005 -2.868003    -0.401137     -0.247068        0.017719  \n623473  0.687170  0.700312    -0.480494     -0.420148       -0.424051  \n260088  1.013964 -0.091443    -1.567234     -1.755178       -1.726430  \n144931 -1.444924  0.290727    -0.397535      0.242126        0.647969  \n209190  0.038120  1.561243    -1.235485     -1.170098       -0.917215  \n\n[39923 rows x 11 columns] 226387    0.172685\n420886    0.040608\n109412   -1.437502\n288816    0.732169\n2472     -0.209650\n            ...   \n127838   -0.065030\n695834   -0.637731\n158264    0.866052\n548826    0.206734\n591460    0.591731\nName: pm, Length: 159691, dtype: float64 465044    0.581661\n671207   -1.343553\n993738   -0.874130\n952814    0.216750\n414477   -1.139835\n            ...   \n910663   -1.860982\n623473   -0.545192\n260088   -2.211768\n144931    0.587655\n209190   -1.944802\nName: pm, Length: 39923, dtype: float64\n"
    }
   ],
   "source": [
    "# Create train and test arrays\n",
    "X_train, X_test, y_train, y_test = train_test_split(rotor_training_data, rotor_label_data, test_size = 0.2, random_state = 0)"
   ]
  },
  {
   "cell_type": "code",
   "execution_count": null,
   "metadata": {},
   "outputs": [],
   "source": [
    "\n",
    "    # Make predictions on the test data.\n",
    "    y_pred = model.predict(X_test)\n",
    "\n",
    "    mae = mean_absolute_error(y_test, y_pred)\n",
    "    print(\"mlp nn MAE: \" + str(mae))\n",
    "\n",
    "    rmse = mean_squared_error(y_test, y_pred, squared = False)\n",
    "    print(\"mlp nn MSE: \" + str(rmse))"
   ]
  }
 ],
 "metadata": {
  "language_info": {
   "codemirror_mode": {
    "name": "ipython",
    "version": 3
   },
   "file_extension": ".py",
   "mimetype": "text/x-python",
   "name": "python",
   "nbconvert_exporter": "python",
   "pygments_lexer": "ipython3",
   "version": 3
  },
  "orig_nbformat": 2,
  "kernelspec": {
   "name": "python_defaultSpec_1594722355238",
   "display_name": "Python 3.6.6 64-bit"
  }
 },
 "nbformat": 4,
 "nbformat_minor": 2
}