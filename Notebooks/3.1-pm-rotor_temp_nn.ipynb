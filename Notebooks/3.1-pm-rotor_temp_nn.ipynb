{
 "cells": [
  {
   "cell_type": "code",
   "execution_count": 1,
   "metadata": {
    "tags": []
   },
   "outputs": [
    {
     "output_type": "stream",
     "name": "stderr",
     "text": "Using TensorFlow backend.\n"
    }
   ],
   "source": [
    "# Module Importations\n",
    "from scipy.stats import reciprocal\n",
    "from sklearn.metrics import mean_absolute_error\n",
    "from sklearn.metrics import mean_squared_error\n",
    "from sklearn.model_selection import train_test_split\n",
    "from sklearn.model_selection import RandomizedSearchCV\n",
    "import numpy as np\n",
    "import keras"
   ]
  },
  {
   "cell_type": "code",
   "execution_count": 2,
   "metadata": {
    "tags": []
   },
   "outputs": [],
   "source": [
    "# Project Module Importations\n",
    "from src.data import load_data\n",
    "from src.data import split_data\n",
    "from src.models import keras_helpers"
   ]
  },
  {
   "cell_type": "code",
   "execution_count": 3,
   "metadata": {},
   "outputs": [],
   "source": [
    "# Load dataset\n",
    "original_dataset = load_data.load_motor_data()"
   ]
  },
  {
   "cell_type": "code",
   "execution_count": 4,
   "metadata": {},
   "outputs": [],
   "source": [
    "# Split data into training / evaluation sets\n",
    "training_set, evaluation_set = split_data.split_train_test(original_dataset, 0.8)"
   ]
  },
  {
   "cell_type": "code",
   "execution_count": 5,
   "metadata": {
    "tags": []
   },
   "outputs": [],
   "source": [
    "# Drop profile id data column\n",
    "training_set = training_set.drop(\"profile_id\", axis = 1)"
   ]
  },
  {
   "cell_type": "code",
   "execution_count": 6,
   "metadata": {},
   "outputs": [],
   "source": [
    "# Create rotor target\n",
    "rotor_training_data = training_set.drop(\"pm\", axis = 1)\n",
    "rotor_label_data = training_set[\"pm\"].copy()"
   ]
  },
  {
   "cell_type": "code",
   "execution_count": 7,
   "metadata": {
    "tags": []
   },
   "outputs": [],
   "source": [
    "# Create train and test arrays\n",
    "X_train, X_test, y_train, y_test = train_test_split(rotor_training_data, rotor_label_data, test_size = 0.2, random_state = 0)"
   ]
  },
  {
   "cell_type": "code",
   "execution_count": 8,
   "metadata": {
    "tags": []
   },
   "outputs": [
    {
     "output_type": "stream",
     "name": "stdout",
     "text": "Input Dimension: [8]\nInput Dimension: [8]\nInput Dimension: [8]\nInput Dimension: [8]\nInput Dimension: [8]\nInput Dimension: [8]\nInput Dimension: [8]\nInput Dimension: [8]\nInput Dimension: [8]\nInput Dimension: [8]\nInput Dimension: [8]\nInput Dimension: [8]\nInput Dimension: [8]\nInput Dimension: [8]\nInput Dimension: [8]\nInput Dimension: [8]\nInput Dimension: [8]\nInput Dimension: [8]\nInput Dimension: [8]\nInput Dimension: [8]\nInput Dimension: [8]\nInput Dimension: [8]\nInput Dimension: [8]\nInput Dimension: [8]\nInput Dimension: [8]\nInput Dimension: [8]\nInput Dimension: [8]\nInput Dimension: [8]\nInput Dimension: [8]\nInput Dimension: [8]\n"
    },
    {
     "output_type": "error",
     "ename": "RuntimeError",
     "evalue": "Cannot clone object <keras.wrappers.scikit_learn.KerasRegressor object at 0x00000166CDE9C358>, as the constructor either does not set or modifies parameter learning_rate",
     "traceback": [
      "\u001b[1;31m---------------------------------------------------------------------------\u001b[0m",
      "\u001b[1;31mRuntimeError\u001b[0m                              Traceback (most recent call last)",
      "\u001b[1;32m<ipython-input-8-c85e5680e9e7>\u001b[0m in \u001b[0;36m<module>\u001b[1;34m\u001b[0m\n\u001b[0;32m     17\u001b[0m \u001b[0mrnd_search_cv\u001b[0m \u001b[1;33m=\u001b[0m \u001b[0mRandomizedSearchCV\u001b[0m\u001b[1;33m(\u001b[0m\u001b[0mwrapped_model\u001b[0m\u001b[1;33m,\u001b[0m \u001b[0mparam_distribs\u001b[0m\u001b[1;33m,\u001b[0m \u001b[0mn_iter\u001b[0m \u001b[1;33m=\u001b[0m \u001b[1;36m10\u001b[0m\u001b[1;33m,\u001b[0m \u001b[0mcv\u001b[0m \u001b[1;33m=\u001b[0m \u001b[1;36m3\u001b[0m\u001b[1;33m)\u001b[0m\u001b[1;33m\u001b[0m\u001b[0m\n\u001b[0;32m     18\u001b[0m \u001b[1;33m\u001b[0m\u001b[0m\n\u001b[1;32m---> 19\u001b[1;33m \u001b[0mrnd_search_cv\u001b[0m\u001b[1;33m.\u001b[0m\u001b[0mfit\u001b[0m\u001b[1;33m(\u001b[0m \u001b[0mX_train\u001b[0m\u001b[1;33m,\u001b[0m \u001b[0my_train\u001b[0m\u001b[1;33m,\u001b[0m \u001b[0mepochs\u001b[0m \u001b[1;33m=\u001b[0m \u001b[1;36m100\u001b[0m\u001b[1;33m,\u001b[0m \u001b[0mvalidation_data\u001b[0m \u001b[1;33m=\u001b[0m\u001b[1;33m(\u001b[0m \u001b[0mX_test\u001b[0m\u001b[1;33m,\u001b[0m \u001b[0my_test\u001b[0m\u001b[1;33m)\u001b[0m\u001b[1;33m,\u001b[0m \u001b[0minput_shape\u001b[0m \u001b[1;33m=\u001b[0m \u001b[0mX_train\u001b[0m\u001b[1;33m.\u001b[0m\u001b[0mshape\u001b[0m\u001b[1;33m[\u001b[0m\u001b[1;36m1\u001b[0m\u001b[1;33m]\u001b[0m\u001b[1;33m,\u001b[0m \u001b[0mcallbacks\u001b[0m \u001b[1;33m=\u001b[0m\u001b[1;33m[\u001b[0m \u001b[0mkeras\u001b[0m\u001b[1;33m.\u001b[0m\u001b[0mcallbacks\u001b[0m\u001b[1;33m.\u001b[0m\u001b[0mEarlyStopping\u001b[0m\u001b[1;33m(\u001b[0m \u001b[0mpatience\u001b[0m \u001b[1;33m=\u001b[0m \u001b[1;36m10\u001b[0m\u001b[1;33m)\u001b[0m\u001b[1;33m]\u001b[0m\u001b[1;33m)\u001b[0m\u001b[1;33m\u001b[0m\u001b[0m\n\u001b[0m",
      "\u001b[1;32mC:\\Developer\\Python\\Python366\\lib\\site-packages\\sklearn\\model_selection\\_search.py\u001b[0m in \u001b[0;36mfit\u001b[1;34m(self, X, y, groups, **fit_params)\u001b[0m\n\u001b[0;32m    734\u001b[0m             \u001b[1;31m# of the params are estimators as well.\u001b[0m\u001b[1;33m\u001b[0m\u001b[1;33m\u001b[0m\u001b[0m\n\u001b[0;32m    735\u001b[0m             self.best_estimator_ = clone(clone(base_estimator).set_params(\n\u001b[1;32m--> 736\u001b[1;33m                 **self.best_params_))\n\u001b[0m\u001b[0;32m    737\u001b[0m             \u001b[0mrefit_start_time\u001b[0m \u001b[1;33m=\u001b[0m \u001b[0mtime\u001b[0m\u001b[1;33m.\u001b[0m\u001b[0mtime\u001b[0m\u001b[1;33m(\u001b[0m\u001b[1;33m)\u001b[0m\u001b[1;33m\u001b[0m\u001b[0m\n\u001b[0;32m    738\u001b[0m             \u001b[1;32mif\u001b[0m \u001b[0my\u001b[0m \u001b[1;32mis\u001b[0m \u001b[1;32mnot\u001b[0m \u001b[1;32mNone\u001b[0m\u001b[1;33m:\u001b[0m\u001b[1;33m\u001b[0m\u001b[0m\n",
      "\u001b[1;32mC:\\Developer\\Python\\Python366\\lib\\site-packages\\sklearn\\base.py\u001b[0m in \u001b[0;36mclone\u001b[1;34m(estimator, safe)\u001b[0m\n\u001b[0;32m     80\u001b[0m             raise RuntimeError('Cannot clone object %s, as the constructor '\n\u001b[0;32m     81\u001b[0m                                \u001b[1;34m'either does not set or modifies parameter %s'\u001b[0m \u001b[1;33m%\u001b[0m\u001b[1;33m\u001b[0m\u001b[0m\n\u001b[1;32m---> 82\u001b[1;33m                                (estimator, name))\n\u001b[0m\u001b[0;32m     83\u001b[0m     \u001b[1;32mreturn\u001b[0m \u001b[0mnew_object\u001b[0m\u001b[1;33m\u001b[0m\u001b[0m\n\u001b[0;32m     84\u001b[0m \u001b[1;33m\u001b[0m\u001b[0m\n",
      "\u001b[1;31mRuntimeError\u001b[0m: Cannot clone object <keras.wrappers.scikit_learn.KerasRegressor object at 0x00000166CDE9C358>, as the constructor either does not set or modifies parameter learning_rate"
     ]
    }
   ],
   "source": [
    "# Multilayer Perceptron (Target - Rotor Temperature)\n",
    "model_name = \"YC_0001\"\n",
    "\n",
    "# Clear existing models\n",
    "keras.backend.clear_session()\n",
    "\n",
    "# Parameter distribution\n",
    "param_distribs = { \n",
    "    \"n_hidden\": [0, 1, 2], \n",
    "    \"n_neurons\": np.arange(1, 100), \n",
    "    \"learning_rate\": reciprocal( 3e-4, 3e-2)\n",
    "    }\n",
    "\n",
    "wrapped_model = keras_helpers.train_multilayer_perceptron()\n",
    "\n",
    "# Random Search\n",
    "rnd_search_cv = RandomizedSearchCV(wrapped_model, param_distribs, n_iter = 10, cv = 3) \n",
    "\n",
    "rnd_search_cv.fit( X_train, y_train, epochs = 5, validation_data =(X_test, y_test), input_shape = X_train.shape[1], callbacks =[ keras.callbacks.EarlyStopping( patience = 10)])"
   ]
  },
  {
   "cell_type": "code",
   "execution_count": 9,
   "metadata": {
    "tags": []
   },
   "outputs": [
    {
     "output_type": "error",
     "ename": "AttributeError",
     "evalue": "module 'src.models.keras_helpers' has no attribute 'create_multilayer_perceptron'",
     "traceback": [
      "\u001b[1;31m---------------------------------------------------------------------------\u001b[0m",
      "\u001b[1;31mAttributeError\u001b[0m                            Traceback (most recent call last)",
      "\u001b[1;32m<ipython-input-9-61df332baa96>\u001b[0m in \u001b[0;36m<module>\u001b[1;34m\u001b[0m\n\u001b[0;32m      7\u001b[0m \u001b[1;33m\u001b[0m\u001b[0m\n\u001b[0;32m      8\u001b[0m \u001b[1;31m# Create model\u001b[0m\u001b[1;33m\u001b[0m\u001b[1;33m\u001b[0m\u001b[0m\n\u001b[1;32m----> 9\u001b[1;33m \u001b[0mmlp_model\u001b[0m \u001b[1;33m=\u001b[0m \u001b[0mkeras_helpers\u001b[0m\u001b[1;33m.\u001b[0m\u001b[0mcreate_multilayer_perceptron\u001b[0m\u001b[1;33m(\u001b[0m\u001b[0mX_train\u001b[0m\u001b[1;33m.\u001b[0m\u001b[0mshape\u001b[0m\u001b[1;33m[\u001b[0m\u001b[1;36m1\u001b[0m\u001b[1;33m]\u001b[0m\u001b[1;33m)\u001b[0m\u001b[1;33m\u001b[0m\u001b[0m\n\u001b[0m\u001b[0;32m     10\u001b[0m \u001b[1;33m\u001b[0m\u001b[0m\n\u001b[0;32m     11\u001b[0m \u001b[1;31m# Train model\u001b[0m\u001b[1;33m\u001b[0m\u001b[1;33m\u001b[0m\u001b[0m\n",
      "\u001b[1;31mAttributeError\u001b[0m: module 'src.models.keras_helpers' has no attribute 'create_multilayer_perceptron'"
     ]
    }
   ],
   "source": [
    "# Multilayer Perceptron (Target - Rotor Temperature)\n",
    "model_name = \"YC_0001\"\n",
    "\n",
    "\n",
    "# Clear existing models\n",
    "keras.backend.clear_session()\n",
    "\n",
    "# Create model\n",
    "mlp_model = keras_helpers.create_multilayer_perceptron(X_train.shape[1])\n",
    "\n",
    "# Train model\n",
    "mlp_model = keras_helpers.train_multilayer_perceptron(mlp_model, X_train, X_test, y_train, y_test)\n",
    "\n",
    "# Evaluate model\n",
    "y_pred = mlp_model.predict(X_test)\n",
    "\n",
    "rmse = mean_squared_error(y_test, y_pred, squared = False)\n",
    "mae = mean_absolute_error(y_test, y_pred)\n",
    "\n",
    "print(model_name, \"MSE: \", str(rmse))\n",
    "print(model_name, \"MAE\", str(mae))"
   ]
  },
  {
   "cell_type": "code",
   "execution_count": 10,
   "metadata": {
    "tags": []
   },
   "outputs": [
    {
     "output_type": "error",
     "ename": "AttributeError",
     "evalue": "module 'src.models.keras_helpers' has no attribute 'create_multilayer_perceptron'",
     "traceback": [
      "\u001b[1;31m---------------------------------------------------------------------------\u001b[0m",
      "\u001b[1;31mAttributeError\u001b[0m                            Traceback (most recent call last)",
      "\u001b[1;32m<ipython-input-10-aedcc5321ea9>\u001b[0m in \u001b[0;36m<module>\u001b[1;34m\u001b[0m\n\u001b[0;32m      6\u001b[0m \u001b[1;33m\u001b[0m\u001b[0m\n\u001b[0;32m      7\u001b[0m \u001b[1;31m# Create model\u001b[0m\u001b[1;33m\u001b[0m\u001b[1;33m\u001b[0m\u001b[0m\n\u001b[1;32m----> 8\u001b[1;33m \u001b[0mmlp_model\u001b[0m \u001b[1;33m=\u001b[0m \u001b[0mkeras_helpers\u001b[0m\u001b[1;33m.\u001b[0m\u001b[0mcreate_multilayer_perceptron\u001b[0m\u001b[1;33m(\u001b[0m\u001b[0mX_train\u001b[0m\u001b[1;33m.\u001b[0m\u001b[0mshape\u001b[0m\u001b[1;33m[\u001b[0m\u001b[1;36m1\u001b[0m\u001b[1;33m]\u001b[0m\u001b[1;33m)\u001b[0m\u001b[1;33m\u001b[0m\u001b[0m\n\u001b[0m\u001b[0;32m      9\u001b[0m \u001b[1;33m\u001b[0m\u001b[0m\n\u001b[0;32m     10\u001b[0m \u001b[1;31m# Train model\u001b[0m\u001b[1;33m\u001b[0m\u001b[1;33m\u001b[0m\u001b[0m\n",
      "\u001b[1;31mAttributeError\u001b[0m: module 'src.models.keras_helpers' has no attribute 'create_multilayer_perceptron'"
     ]
    }
   ],
   "source": [
    "# Multilayer Perceptron (Target - Rotor Temperature)\n",
    "model_name = \"YC_0002\"\n",
    "\n",
    "# Clear existing models\n",
    "keras.backend.clear_session()\n",
    "\n",
    "# Create model\n",
    "mlp_model = keras_helpers.create_multilayer_perceptron(X_train.shape[1])\n",
    "\n",
    "# Train model\n",
    "mlp_model = keras_helpers.train_multilayer_perceptron(mlp_model, X_train, X_test, y_train, y_test)\n",
    "\n",
    "# Evaluate model\n",
    "y_pred = mlp_model.predict(X_test)\n",
    "\n",
    "rmse = mean_squared_error(y_test, y_pred, squared = False)\n",
    "mae = mean_absolute_error(y_test, y_pred)\n",
    "\n",
    "print(model_name, \"MSE: \", str(rmse))\n",
    "print(model_name, \"MAE\", str(mae))"
   ]
  },
  {
   "cell_type": "code",
   "execution_count": 11,
   "metadata": {
    "tags": []
   },
   "outputs": [
    {
     "output_type": "error",
     "ename": "AttributeError",
     "evalue": "module 'src.models.keras_helpers' has no attribute 'create_multilayer_perceptron'",
     "traceback": [
      "\u001b[1;31m---------------------------------------------------------------------------\u001b[0m",
      "\u001b[1;31mAttributeError\u001b[0m                            Traceback (most recent call last)",
      "\u001b[1;32m<ipython-input-11-8116ddf1af9b>\u001b[0m in \u001b[0;36m<module>\u001b[1;34m\u001b[0m\n\u001b[0;32m      6\u001b[0m \u001b[1;33m\u001b[0m\u001b[0m\n\u001b[0;32m      7\u001b[0m \u001b[1;31m# Create model\u001b[0m\u001b[1;33m\u001b[0m\u001b[1;33m\u001b[0m\u001b[0m\n\u001b[1;32m----> 8\u001b[1;33m \u001b[0mmlp_model\u001b[0m \u001b[1;33m=\u001b[0m \u001b[0mkeras_helpers\u001b[0m\u001b[1;33m.\u001b[0m\u001b[0mcreate_multilayer_perceptron\u001b[0m\u001b[1;33m(\u001b[0m\u001b[0mX_train\u001b[0m\u001b[1;33m.\u001b[0m\u001b[0mshape\u001b[0m\u001b[1;33m[\u001b[0m\u001b[1;36m1\u001b[0m\u001b[1;33m]\u001b[0m\u001b[1;33m)\u001b[0m\u001b[1;33m\u001b[0m\u001b[0m\n\u001b[0m\u001b[0;32m      9\u001b[0m \u001b[1;33m\u001b[0m\u001b[0m\n\u001b[0;32m     10\u001b[0m \u001b[1;31m# Train model\u001b[0m\u001b[1;33m\u001b[0m\u001b[1;33m\u001b[0m\u001b[0m\n",
      "\u001b[1;31mAttributeError\u001b[0m: module 'src.models.keras_helpers' has no attribute 'create_multilayer_perceptron'"
     ]
    }
   ],
   "source": [
    "# Multilayer Perceptron (Target - Rotor Temperature)\n",
    "model_name = \"YC_0003\"\n",
    "\n",
    "# Clear existing models\n",
    "keras.backend.clear_session()\n",
    "\n",
    "# Create model\n",
    "mlp_model = keras_helpers.create_multilayer_perceptron(X_train.shape[1])\n",
    "\n",
    "# Train model\n",
    "mlp_model = keras_helpers.train_multilayer_perceptron(mlp_model, X_train, X_test, y_train, y_test)\n",
    "\n",
    "# Evaluate model\n",
    "y_pred = mlp_model.predict(X_test)\n",
    "\n",
    "rmse = mean_squared_error(y_test, y_pred, squared = False)\n",
    "mae = mean_absolute_error(y_test, y_pred)\n",
    "\n",
    "print(model_name, \"MSE: \", str(rmse))\n",
    "print(model_name, \"MAE\", str(mae))"
   ]
  },
  {
   "cell_type": "code",
   "execution_count": 12,
   "metadata": {
    "tags": []
   },
   "outputs": [
    {
     "output_type": "error",
     "ename": "AttributeError",
     "evalue": "module 'src.models.keras_helpers' has no attribute 'create_multilayer_perceptron'",
     "traceback": [
      "\u001b[1;31m---------------------------------------------------------------------------\u001b[0m",
      "\u001b[1;31mAttributeError\u001b[0m                            Traceback (most recent call last)",
      "\u001b[1;32m<ipython-input-12-71a0fa851a17>\u001b[0m in \u001b[0;36m<module>\u001b[1;34m\u001b[0m\n\u001b[0;32m      6\u001b[0m \u001b[1;33m\u001b[0m\u001b[0m\n\u001b[0;32m      7\u001b[0m \u001b[1;31m# Create model\u001b[0m\u001b[1;33m\u001b[0m\u001b[1;33m\u001b[0m\u001b[0m\n\u001b[1;32m----> 8\u001b[1;33m \u001b[0mmlp_model\u001b[0m \u001b[1;33m=\u001b[0m \u001b[0mkeras_helpers\u001b[0m\u001b[1;33m.\u001b[0m\u001b[0mcreate_multilayer_perceptron\u001b[0m\u001b[1;33m(\u001b[0m\u001b[0mX_train\u001b[0m\u001b[1;33m.\u001b[0m\u001b[0mshape\u001b[0m\u001b[1;33m[\u001b[0m\u001b[1;36m1\u001b[0m\u001b[1;33m]\u001b[0m\u001b[1;33m)\u001b[0m\u001b[1;33m\u001b[0m\u001b[0m\n\u001b[0m\u001b[0;32m      9\u001b[0m \u001b[1;33m\u001b[0m\u001b[0m\n\u001b[0;32m     10\u001b[0m \u001b[1;31m# Train model\u001b[0m\u001b[1;33m\u001b[0m\u001b[1;33m\u001b[0m\u001b[0m\n",
      "\u001b[1;31mAttributeError\u001b[0m: module 'src.models.keras_helpers' has no attribute 'create_multilayer_perceptron'"
     ]
    }
   ],
   "source": [
    "# Multilayer Perceptron (Target - Rotor Temperature)\n",
    "model_name = \"YC_0004\"\n",
    "\n",
    "# Clear existing models\n",
    "keras.backend.clear_session()\n",
    "\n",
    "# Create model\n",
    "mlp_model = keras_helpers.create_multilayer_perceptron(X_train.shape[1])\n",
    "\n",
    "# Train model\n",
    "mlp_model = keras_helpers.train_multilayer_perceptron(mlp_model, X_train, X_test, y_train, y_test)\n",
    "\n",
    "# Evaluate model\n",
    "y_pred = mlp_model.predict(X_test)\n",
    "\n",
    "rmse = mean_squared_error(y_test, y_pred, squared = False)\n",
    "mae = mean_absolute_error(y_test, y_pred)\n",
    "\n",
    "print(model_name, \"MSE: \", str(rmse))\n",
    "print(model_name, \"MAE\", str(mae))"
   ]
  },
  {
   "cell_type": "code",
   "execution_count": 13,
   "metadata": {
    "tags": []
   },
   "outputs": [
    {
     "output_type": "error",
     "ename": "AttributeError",
     "evalue": "module 'src.models.keras_helpers' has no attribute 'create_multilayer_perceptron'",
     "traceback": [
      "\u001b[1;31m---------------------------------------------------------------------------\u001b[0m",
      "\u001b[1;31mAttributeError\u001b[0m                            Traceback (most recent call last)",
      "\u001b[1;32m<ipython-input-13-9417ff01d9f5>\u001b[0m in \u001b[0;36m<module>\u001b[1;34m\u001b[0m\n\u001b[0;32m      6\u001b[0m \u001b[1;33m\u001b[0m\u001b[0m\n\u001b[0;32m      7\u001b[0m \u001b[1;31m# Create model\u001b[0m\u001b[1;33m\u001b[0m\u001b[1;33m\u001b[0m\u001b[0m\n\u001b[1;32m----> 8\u001b[1;33m \u001b[0mmlp_model\u001b[0m \u001b[1;33m=\u001b[0m \u001b[0mkeras_helpers\u001b[0m\u001b[1;33m.\u001b[0m\u001b[0mcreate_multilayer_perceptron\u001b[0m\u001b[1;33m(\u001b[0m\u001b[0mX_train\u001b[0m\u001b[1;33m.\u001b[0m\u001b[0mshape\u001b[0m\u001b[1;33m[\u001b[0m\u001b[1;36m1\u001b[0m\u001b[1;33m]\u001b[0m\u001b[1;33m)\u001b[0m\u001b[1;33m\u001b[0m\u001b[0m\n\u001b[0m\u001b[0;32m      9\u001b[0m \u001b[1;33m\u001b[0m\u001b[0m\n\u001b[0;32m     10\u001b[0m \u001b[1;31m# Train model\u001b[0m\u001b[1;33m\u001b[0m\u001b[1;33m\u001b[0m\u001b[0m\n",
      "\u001b[1;31mAttributeError\u001b[0m: module 'src.models.keras_helpers' has no attribute 'create_multilayer_perceptron'"
     ]
    }
   ],
   "source": [
    "# Multilayer Perceptron (Target - Rotor Temperature)\n",
    "model_name = \"YC_0005\"\n",
    "\n",
    "# Clear existing models\n",
    "keras.backend.clear_session()\n",
    "\n",
    "# Create model\n",
    "mlp_model = keras_helpers.create_multilayer_perceptron(X_train.shape[1])\n",
    "\n",
    "# Train model\n",
    "mlp_model = keras_helpers.train_multilayer_perceptron(mlp_model, X_train, X_test, y_train, y_test)\n",
    "\n",
    "# Evaluate model\n",
    "y_pred = mlp_model.predict(X_test)\n",
    "\n",
    "rmse = mean_squared_error(y_test, y_pred, squared = False)\n",
    "mae = mean_absolute_error(y_test, y_pred)\n",
    "\n",
    "print(model_name, \"MSE: \", str(rmse))\n",
    "print(model_name, \"MAE\", str(mae))"
   ]
  },
  {
   "cell_type": "code",
   "execution_count": 14,
   "metadata": {
    "tags": []
   },
   "outputs": [
    {
     "output_type": "error",
     "ename": "NameError",
     "evalue": "name 'mlp_model' is not defined",
     "traceback": [
      "\u001b[1;31m---------------------------------------------------------------------------\u001b[0m",
      "\u001b[1;31mNameError\u001b[0m                                 Traceback (most recent call last)",
      "\u001b[1;32m<ipython-input-14-da78863865a0>\u001b[0m in \u001b[0;36m<module>\u001b[1;34m\u001b[0m\n\u001b[0;32m      1\u001b[0m \u001b[0mfull_name\u001b[0m \u001b[1;33m=\u001b[0m \u001b[1;34m\"YC_0005_SEQ_11-100-60-30-1_ReLU_MSE_Adam\"\u001b[0m\u001b[1;33m\u001b[0m\u001b[0m\n\u001b[0;32m      2\u001b[0m \u001b[1;33m\u001b[0m\u001b[0m\n\u001b[1;32m----> 3\u001b[1;33m \u001b[0mkeras_helpers\u001b[0m\u001b[1;33m.\u001b[0m\u001b[0msave_sequential_model\u001b[0m\u001b[1;33m(\u001b[0m\u001b[0mmlp_model\u001b[0m\u001b[1;33m,\u001b[0m \u001b[0mfull_name\u001b[0m\u001b[1;33m)\u001b[0m\u001b[1;33m\u001b[0m\u001b[0m\n\u001b[0m",
      "\u001b[1;31mNameError\u001b[0m: name 'mlp_model' is not defined"
     ]
    }
   ],
   "source": [
    "full_name = \"YC_0005_SEQ_11-100-60-30-1_ReLU_MSE_Adam\"\n",
    "\n",
    "keras_helpers.save_sequential_model(mlp_model, full_name)"
   ]
  }
 ],
 "metadata": {
  "language_info": {
   "codemirror_mode": {
    "name": "ipython",
    "version": 3
   },
   "file_extension": ".py",
   "mimetype": "text/x-python",
   "name": "python",
   "nbconvert_exporter": "python",
   "pygments_lexer": "ipython3",
   "version": 3
  },
  "orig_nbformat": 2,
  "kernelspec": {
   "name": "python_defaultSpec_1595318553523",
   "display_name": "Python 3.6.6 64-bit"
  }
 },
 "nbformat": 4,
 "nbformat_minor": 2
}