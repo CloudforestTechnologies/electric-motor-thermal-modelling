{
 "cells": [
  {
   "cell_type": "code",
   "execution_count": 15,
   "metadata": {
    "tags": []
   },
   "outputs": [],
   "source": [
    "# Module Importations\n",
    "from scipy.stats import reciprocal\n",
    "from sklearn.metrics import mean_absolute_error\n",
    "from sklearn.metrics import mean_squared_error\n",
    "from sklearn.model_selection import train_test_split\n",
    "from sklearn.model_selection import RandomizedSearchCV\n",
    "import keras\n",
    "import numpy as np\n",
    "import time"
   ]
  },
  {
   "cell_type": "code",
   "execution_count": 16,
   "metadata": {
    "tags": []
   },
   "outputs": [],
   "source": [
    "# Project Module Importations\n",
    "from src.data import load_data\n",
    "from src.data import split_data\n",
    "from src.models import keras_helpers"
   ]
  },
  {
   "cell_type": "code",
   "execution_count": 17,
   "metadata": {},
   "outputs": [],
   "source": [
    "# Load dataset\n",
    "original_dataset = load_data.load_motor_data()"
   ]
  },
  {
   "cell_type": "code",
   "execution_count": 18,
   "metadata": {},
   "outputs": [],
   "source": [
    "# Split data into training / evaluation sets\n",
    "training_set, evaluation_set = split_data.split_train_test(original_dataset, 0.8)"
   ]
  },
  {
   "cell_type": "code",
   "execution_count": 19,
   "metadata": {
    "tags": []
   },
   "outputs": [],
   "source": [
    "# Drop profile id data column\n",
    "training_set = training_set.drop(\"profile_id\", axis = 1)"
   ]
  },
  {
   "cell_type": "code",
   "execution_count": 20,
   "metadata": {},
   "outputs": [],
   "source": [
    "# Create rotor target\n",
    "rotor_training_data = training_set.drop(\"pm\", axis = 1)\n",
    "rotor_label_data = training_set[\"pm\"].copy()"
   ]
  },
  {
   "cell_type": "code",
   "execution_count": 21,
   "metadata": {
    "tags": []
   },
   "outputs": [],
   "source": [
    "# Create train and test arrays\n",
    "X_train, X_test, y_train, y_test = train_test_split(rotor_training_data, rotor_label_data, test_size = 0.2, random_state = 0)"
   ]
  },
  {
   "cell_type": "code",
   "execution_count": 22,
   "metadata": {
    "tags": [
     "outputPrepend"
    ]
   },
   "outputs": [
    {
     "output_type": "stream",
     "name": "stdout",
     "text": "461 [==============================] - 3s 28us/step - loss: 0.2368 - val_loss: 0.2382\nEpoch 10/50\n106461/106461 [==============================] - 3s 28us/step - loss: 0.2340 - val_loss: 0.2358\nEpoch 11/50\n106461/106461 [==============================] - 4s 39us/step - loss: 0.2314 - val_loss: 0.2330\nEpoch 12/50\n106461/106461 [==============================] - 4s 33us/step - loss: 0.2289 - val_loss: 0.2306\nEpoch 13/50\n106461/106461 [==============================] - 3s 33us/step - loss: 0.2267 - val_loss: 0.2287\nEpoch 14/50\n106461/106461 [==============================] - 4s 34us/step - loss: 0.2246 - val_loss: 0.2265\nEpoch 15/50\n106461/106461 [==============================] - 4s 34us/step - loss: 0.2226 - val_loss: 0.2246\nEpoch 16/50\n106461/106461 [==============================] - 4s 34us/step - loss: 0.2207 - val_loss: 0.2227\nEpoch 17/50\n106461/106461 [==============================] - 3s 33us/step - loss: 0.2189 - val_loss: 0.2210\nEpoch 18/50\n106461/106461 [==============================] - 4s 33us/step - loss: 0.2171 - val_loss: 0.2193\nEpoch 19/50\n106461/106461 [==============================] - 4s 38us/step - loss: 0.2155 - val_loss: 0.2178\nEpoch 20/50\n106461/106461 [==============================] - 4s 34us/step - loss: 0.2139 - val_loss: 0.2161\nEpoch 21/50\n106461/106461 [==============================] - 4s 35us/step - loss: 0.2124 - val_loss: 0.2147\nEpoch 22/50\n106461/106461 [==============================] - 3s 33us/step - loss: 0.2109 - val_loss: 0.2134\nEpoch 23/50\n106461/106461 [==============================] - 4s 33us/step - loss: 0.2096 - val_loss: 0.2120\nEpoch 24/50\n106461/106461 [==============================] - 4s 36us/step - loss: 0.2082 - val_loss: 0.2108\nEpoch 25/50\n106461/106461 [==============================] - 3s 33us/step - loss: 0.2070 - val_loss: 0.2095\nEpoch 26/50\n106461/106461 [==============================] - 4s 34us/step - loss: 0.2058 - val_loss: 0.2084\nEpoch 27/50\n106461/106461 [==============================] - 4s 40us/step - loss: 0.2046 - val_loss: 0.2072\nEpoch 28/50\n106461/106461 [==============================] - 4s 34us/step - loss: 0.2034 - val_loss: 0.2061\nEpoch 29/50\n106461/106461 [==============================] - 4s 35us/step - loss: 0.2023 - val_loss: 0.2054\nEpoch 30/50\n106461/106461 [==============================] - 4s 34us/step - loss: 0.2013 - val_loss: 0.2040\nEpoch 31/50\n106461/106461 [==============================] - 4s 34us/step - loss: 0.2002 - val_loss: 0.2031\nEpoch 32/50\n106461/106461 [==============================] - 4s 36us/step - loss: 0.1991 - val_loss: 0.2019\nEpoch 33/50\n106461/106461 [==============================] - 5s 43us/step - loss: 0.1980 - val_loss: 0.2010\nEpoch 34/50\n106461/106461 [==============================] - 4s 37us/step - loss: 0.1971 - val_loss: 0.2001\nEpoch 35/50\n106461/106461 [==============================] - 4s 38us/step - loss: 0.1962 - val_loss: 0.1992\nEpoch 36/50\n106461/106461 [==============================] - 4s 38us/step - loss: 0.1953 - val_loss: 0.1985\nEpoch 37/50\n106461/106461 [==============================] - 4s 37us/step - loss: 0.1944 - val_loss: 0.1975\nEpoch 38/50\n106461/106461 [==============================] - 4s 37us/step - loss: 0.1936 - val_loss: 0.1969\nEpoch 39/50\n106461/106461 [==============================] - 4s 36us/step - loss: 0.1928 - val_loss: 0.1961\nEpoch 40/50\n106461/106461 [==============================] - 4s 37us/step - loss: 0.1920 - val_loss: 0.1952\nEpoch 41/50\n106461/106461 [==============================] - 4s 42us/step - loss: 0.1913 - val_loss: 0.1945\nEpoch 42/50\n106461/106461 [==============================] - 5s 49us/step - loss: 0.1905 - val_loss: 0.1938\nEpoch 43/50\n106461/106461 [==============================] - 4s 35us/step - loss: 0.1898 - val_loss: 0.1931\nEpoch 44/50\n106461/106461 [==============================] - 4s 33us/step - loss: 0.1891 - val_loss: 0.1924\nEpoch 45/50\n106461/106461 [==============================] - 4s 34us/step - loss: 0.1884 - val_loss: 0.1919\nEpoch 46/50\n106461/106461 [==============================] - 4s 34us/step - loss: 0.1878 - val_loss: 0.1911\nEpoch 47/50\n106461/106461 [==============================] - 4s 33us/step - loss: 0.1871 - val_loss: 0.1905\nEpoch 48/50\n106461/106461 [==============================] - 4s 39us/step - loss: 0.1865 - val_loss: 0.1899\nEpoch 49/50\n106461/106461 [==============================] - 5s 51us/step - loss: 0.1859 - val_loss: 0.1894\nEpoch 50/50\n106461/106461 [==============================] - 6s 58us/step - loss: 0.1854 - val_loss: 0.1888\n53230/53230 [==============================] - 1s 19us/step\nTrain on 106460 samples, validate on 39923 samples\nEpoch 1/50\n106460/106460 [==============================] - 5s 49us/step - loss: 0.2736 - val_loss: 0.2412\nEpoch 2/50\n106460/106460 [==============================] - 6s 58us/step - loss: 0.2267 - val_loss: 0.2207\nEpoch 3/50\n106460/106460 [==============================] - 6s 54us/step - loss: 0.2104 - val_loss: 0.2079\nEpoch 4/50\n106460/106460 [==============================] - 6s 53us/step - loss: 0.1993 - val_loss: 0.1978\nEpoch 5/50\n106460/106460 [==============================] - 8s 79us/step - loss: 0.1914 - val_loss: 0.1922\nEpoch 6/50\n106460/106460 [==============================] - 6s 60us/step - loss: 0.1854 - val_loss: 0.1856\nEpoch 7/50\n106460/106460 [==============================] - 5s 46us/step - loss: 0.1804 - val_loss: 0.1794\nEpoch 8/50\n106460/106460 [==============================] - 5s 50us/step - loss: 0.1756 - val_loss: 0.1772\nEpoch 9/50\n106460/106460 [==============================] - 6s 55us/step - loss: 0.1722 - val_loss: 0.1730\nEpoch 10/50\n106460/106460 [==============================] - 5s 51us/step - loss: 0.1690 - val_loss: 0.1697\nEpoch 11/50\n106460/106460 [==============================] - 5s 49us/step - loss: 0.1636 - val_loss: 0.1626\nEpoch 12/50\n106460/106460 [==============================] - 5s 48us/step - loss: 0.1592 - val_loss: 0.1581\nEpoch 13/50\n106460/106460 [==============================] - 5s 46us/step - loss: 0.1556 - val_loss: 0.1544\nEpoch 14/50\n106460/106460 [==============================] - 5s 46us/step - loss: 0.1528 - val_loss: 0.1522\nEpoch 15/50\n106460/106460 [==============================] - 7s 66us/step - loss: 0.1506 - val_loss: 0.1501\nEpoch 16/50\n106460/106460 [==============================] - 6s 54us/step - loss: 0.1489 - val_loss: 0.1537\nEpoch 17/50\n106460/106460 [==============================] - 5s 45us/step - loss: 0.1474 - val_loss: 0.1478\nEpoch 18/50\n106460/106460 [==============================] - 6s 57us/step - loss: 0.1463 - val_loss: 0.1489\nEpoch 19/50\n106460/106460 [==============================] - 7s 68us/step - loss: 0.1453 - val_loss: 0.1458\nEpoch 20/50\n106460/106460 [==============================] - 7s 66us/step - loss: 0.1444 - val_loss: 0.1462\nEpoch 21/50\n106460/106460 [==============================] - 6s 58us/step - loss: 0.1436 - val_loss: 0.1439\nEpoch 22/50\n106460/106460 [==============================] - 7s 64us/step - loss: 0.1428 - val_loss: 0.1437\nEpoch 23/50\n106460/106460 [==============================] - 6s 53us/step - loss: 0.1420 - val_loss: 0.1431\nEpoch 24/50\n106460/106460 [==============================] - 4s 36us/step - loss: 0.1413 - val_loss: 0.1411\nEpoch 25/50\n106460/106460 [==============================] - 3s 32us/step - loss: 0.1406 - val_loss: 0.1412\nEpoch 26/50\n106460/106460 [==============================] - 5s 44us/step - loss: 0.1401 - val_loss: 0.1413\nEpoch 27/50\n106460/106460 [==============================] - 4s 39us/step - loss: 0.1397 - val_loss: 0.1393\nEpoch 28/50\n106460/106460 [==============================] - 4s 39us/step - loss: 0.1394 - val_loss: 0.1406\nEpoch 29/50\n106460/106460 [==============================] - 4s 38us/step - loss: 0.1390 - val_loss: 0.1407\nEpoch 30/50\n106460/106460 [==============================] - 4s 38us/step - loss: 0.1386 - val_loss: 0.1401\nEpoch 31/50\n106460/106460 [==============================] - 4s 37us/step - loss: 0.1380 - val_loss: 0.1382\nEpoch 32/50\n106460/106460 [==============================] - 4s 37us/step - loss: 0.1377 - val_loss: 0.1371\nEpoch 33/50\n106460/106460 [==============================] - 4s 38us/step - loss: 0.1372 - val_loss: 0.1441\nEpoch 34/50\n106460/106460 [==============================] - 4s 38us/step - loss: 0.1368 - val_loss: 0.1368\nEpoch 35/50\n106460/106460 [==============================] - 4s 38us/step - loss: 0.1362 - val_loss: 0.1351\nEpoch 36/50\n106460/106460 [==============================] - 4s 38us/step - loss: 0.1360 - val_loss: 0.1366\nEpoch 37/50\n106460/106460 [==============================] - 4s 39us/step - loss: 0.1359 - val_loss: 0.1376\nEpoch 38/50\n106460/106460 [==============================] - 4s 40us/step - loss: 0.1353 - val_loss: 0.1375\nEpoch 39/50\n106460/106460 [==============================] - 4s 39us/step - loss: 0.1350 - val_loss: 0.1346\nEpoch 40/50\n106460/106460 [==============================] - 5s 43us/step - loss: 0.1347 - val_loss: 0.1345\nEpoch 41/50\n106460/106460 [==============================] - 4s 39us/step - loss: 0.1343 - val_loss: 0.1332\nEpoch 42/50\n106460/106460 [==============================] - 4s 39us/step - loss: 0.1340 - val_loss: 0.1367\nEpoch 43/50\n106460/106460 [==============================] - 4s 36us/step - loss: 0.1338 - val_loss: 0.1334\nEpoch 44/50\n106460/106460 [==============================] - 4s 37us/step - loss: 0.1335 - val_loss: 0.1354\nEpoch 45/50\n106460/106460 [==============================] - 4s 37us/step - loss: 0.1334 - val_loss: 0.1341\nEpoch 46/50\n106460/106460 [==============================] - 4s 37us/step - loss: 0.1331 - val_loss: 0.1334\n53231/53231 [==============================] - 1s 14us/step\nTrain on 106461 samples, validate on 39923 samples\nEpoch 1/50\n106461/106461 [==============================] - 4s 38us/step - loss: 0.2715 - val_loss: 0.2359\nEpoch 2/50\n106461/106461 [==============================] - 4s 38us/step - loss: 0.2218 - val_loss: 0.2174\nEpoch 3/50\n106461/106461 [==============================] - 4s 38us/step - loss: 0.2078 - val_loss: 0.2055\nEpoch 4/50\n106461/106461 [==============================] - 4s 37us/step - loss: 0.1979 - val_loss: 0.1968\nEpoch 5/50\n106461/106461 [==============================] - 4s 36us/step - loss: 0.1900 - val_loss: 0.1896\nEpoch 6/50\n106461/106461 [==============================] - 5s 48us/step - loss: 0.1842 - val_loss: 0.1838\nEpoch 7/50\n106461/106461 [==============================] - 4s 41us/step - loss: 0.1790 - val_loss: 0.1790\nEpoch 8/50\n106461/106461 [==============================] - 4s 41us/step - loss: 0.1743 - val_loss: 0.1741\nEpoch 9/50\n106461/106461 [==============================] - 4s 41us/step - loss: 0.1698 - val_loss: 0.1692\nEpoch 10/50\n106461/106461 [==============================] - 4s 39us/step - loss: 0.1649 - val_loss: 0.1668\nEpoch 11/50\n106461/106461 [==============================] - 4s 39us/step - loss: 0.1608 - val_loss: 0.1602\nEpoch 12/50\n106461/106461 [==============================] - 4s 39us/step - loss: 0.1571 - val_loss: 0.1575\nEpoch 13/50\n106461/106461 [==============================] - 5s 43us/step - loss: 0.1539 - val_loss: 0.1530\nEpoch 14/50\n106461/106461 [==============================] - 5s 43us/step - loss: 0.1513 - val_loss: 0.1515\nEpoch 15/50\n106461/106461 [==============================] - 5s 46us/step - loss: 0.1494 - val_loss: 0.1495\nEpoch 16/50\n106461/106461 [==============================] - 5s 44us/step - loss: 0.1476 - val_loss: 0.1478\nEpoch 17/50\n106461/106461 [==============================] - 4s 42us/step - loss: 0.1465 - val_loss: 0.1470\nEpoch 18/50\n106461/106461 [==============================] - 5s 44us/step - loss: 0.1455 - val_loss: 0.1480\nEpoch 19/50\n106461/106461 [==============================] - 5s 44us/step - loss: 0.1444 - val_loss: 0.1454\nEpoch 20/50\n106461/106461 [==============================] - 5s 44us/step - loss: 0.1436 - val_loss: 0.1453\nEpoch 21/50\n106461/106461 [==============================] - 5s 43us/step - loss: 0.1428 - val_loss: 0.1434\nEpoch 22/50\n106461/106461 [==============================] - 5s 47us/step - loss: 0.1424 - val_loss: 0.1437\nEpoch 23/50\n106461/106461 [==============================] - 4s 42us/step - loss: 0.1419 - val_loss: 0.1430\nEpoch 24/50\n106461/106461 [==============================] - 5s 42us/step - loss: 0.1413 - val_loss: 0.1419\nEpoch 25/50\n106461/106461 [==============================] - 5s 43us/step - loss: 0.1411 - val_loss: 0.1420\nEpoch 26/50\n106461/106461 [==============================] - 5s 43us/step - loss: 0.1408 - val_loss: 0.1417\nEpoch 27/50\n106461/106461 [==============================] - 5s 43us/step - loss: 0.1404 - val_loss: 0.1430\nEpoch 28/50\n106461/106461 [==============================] - 5s 42us/step - loss: 0.1402 - val_loss: 0.1455\nEpoch 29/50\n106461/106461 [==============================] - 5s 45us/step - loss: 0.1399 - val_loss: 0.1416\nEpoch 30/50\n106461/106461 [==============================] - 4s 34us/step - loss: 0.1395 - val_loss: 0.1404\nEpoch 31/50\n106461/106461 [==============================] - 4s 33us/step - loss: 0.1391 - val_loss: 0.1395\nEpoch 32/50\n106461/106461 [==============================] - 4s 35us/step - loss: 0.1389 - val_loss: 0.1418\nEpoch 33/50\n106461/106461 [==============================] - 3s 32us/step - loss: 0.1385 - val_loss: 0.1385\nEpoch 34/50\n106461/106461 [==============================] - 3s 31us/step - loss: 0.1381 - val_loss: 0.1381\nEpoch 35/50\n106461/106461 [==============================] - 3s 32us/step - loss: 0.1379 - val_loss: 0.1390\nEpoch 36/50\n106461/106461 [==============================] - 4s 41us/step - loss: 0.1376 - val_loss: 0.1378\nEpoch 37/50\n106461/106461 [==============================] - 5s 44us/step - loss: 0.1372 - val_loss: 0.1367\nEpoch 38/50\n106461/106461 [==============================] - 4s 37us/step - loss: 0.1369 - val_loss: 0.1381\nEpoch 39/50\n106461/106461 [==============================] - 4s 35us/step - loss: 0.1368 - val_loss: 0.1406\nEpoch 40/50\n106461/106461 [==============================] - 4s 33us/step - loss: 0.1365 - val_loss: 0.1356\nEpoch 41/50\n106461/106461 [==============================] - 4s 33us/step - loss: 0.1361 - val_loss: 0.1400\nEpoch 42/50\n106461/106461 [==============================] - 4s 34us/step - loss: 0.1360 - val_loss: 0.1371\nEpoch 43/50\n106461/106461 [==============================] - 3s 31us/step - loss: 0.1358 - val_loss: 0.1384\nEpoch 44/50\n106461/106461 [==============================] - 3s 33us/step - loss: 0.1355 - val_loss: 0.1352\nEpoch 45/50\n106461/106461 [==============================] - 4s 33us/step - loss: 0.1354 - val_loss: 0.1346\nEpoch 46/50\n106461/106461 [==============================] - 3s 33us/step - loss: 0.1352 - val_loss: 0.1379\nEpoch 47/50\n106461/106461 [==============================] - 3s 33us/step - loss: 0.1350 - val_loss: 0.1353\nEpoch 48/50\n106461/106461 [==============================] - 3s 32us/step - loss: 0.1348 - val_loss: 0.1350\nEpoch 49/50\n106461/106461 [==============================] - 3s 32us/step - loss: 0.1346 - val_loss: 0.1352\nEpoch 50/50\n106461/106461 [==============================] - 3s 33us/step - loss: 0.1343 - val_loss: 0.1367\n53230/53230 [==============================] - 1s 12us/step\nTrain on 106461 samples, validate on 39923 samples\nEpoch 1/50\n106461/106461 [==============================] - 3s 32us/step - loss: 0.2688 - val_loss: 0.2357\nEpoch 2/50\n106461/106461 [==============================] - 3s 31us/step - loss: 0.2200 - val_loss: 0.2138\nEpoch 3/50\n106461/106461 [==============================] - 4s 41us/step - loss: 0.2034 - val_loss: 0.2029\nEpoch 4/50\n106461/106461 [==============================] - 4s 38us/step - loss: 0.1932 - val_loss: 0.1923\nEpoch 5/50\n106461/106461 [==============================] - 4s 36us/step - loss: 0.1844 - val_loss: 0.1842\nEpoch 6/50\n106461/106461 [==============================] - 4s 37us/step - loss: 0.1783 - val_loss: 0.1794\nEpoch 7/50\n106461/106461 [==============================] - 4s 36us/step - loss: 0.1732 - val_loss: 0.1743\nEpoch 8/50\n106461/106461 [==============================] - 4s 37us/step - loss: 0.1684 - val_loss: 0.1698\nEpoch 9/50\n106461/106461 [==============================] - 4s 36us/step - loss: 0.1643 - val_loss: 0.1653\nEpoch 10/50\n106461/106461 [==============================] - 4s 38us/step - loss: 0.1610 - val_loss: 0.1612\nEpoch 11/50\n106461/106461 [==============================] - 4s 38us/step - loss: 0.1578 - val_loss: 0.1587\nEpoch 12/50\n106461/106461 [==============================] - 4s 39us/step - loss: 0.1555 - val_loss: 0.1557\nEpoch 13/50\n106461/106461 [==============================] - 4s 38us/step - loss: 0.1536 - val_loss: 0.1536\nEpoch 14/50\n106461/106461 [==============================] - 4s 38us/step - loss: 0.1517 - val_loss: 0.1524\nEpoch 15/50\n106461/106461 [==============================] - 4s 37us/step - loss: 0.1500 - val_loss: 0.1505\nEpoch 16/50\n106461/106461 [==============================] - 4s 40us/step - loss: 0.1487 - val_loss: 0.1512\nEpoch 17/50\n106461/106461 [==============================] - 4s 42us/step - loss: 0.1479 - val_loss: 0.1480\nEpoch 18/50\n106461/106461 [==============================] - 4s 39us/step - loss: 0.1471 - val_loss: 0.1506\nEpoch 19/50\n106461/106461 [==============================] - 4s 37us/step - loss: 0.1464 - val_loss: 0.1495\nEpoch 20/50\n106461/106461 [==============================] - 4s 38us/step - loss: 0.1459 - val_loss: 0.1480\nEpoch 21/50\n106461/106461 [==============================] - 5s 44us/step - loss: 0.1454 - val_loss: 0.1490\nEpoch 22/50\n106461/106461 [==============================] - 4s 36us/step - loss: 0.1449 - val_loss: 0.1461\nEpoch 23/50\n106461/106461 [==============================] - 3s 33us/step - loss: 0.1443 - val_loss: 0.1471\nEpoch 24/50\n106461/106461 [==============================] - 3s 31us/step - loss: 0.1438 - val_loss: 0.1461\nEpoch 25/50\n106461/106461 [==============================] - 4s 33us/step - loss: 0.1433 - val_loss: 0.1436\nEpoch 26/50\n106461/106461 [==============================] - 3s 32us/step - loss: 0.1428 - val_loss: 0.1472\nEpoch 27/50\n106461/106461 [==============================] - 4s 33us/step - loss: 0.1423 - val_loss: 0.1452\nEpoch 28/50\n106461/106461 [==============================] - 4s 36us/step - loss: 0.1420 - val_loss: 0.1437\nEpoch 29/50\n106461/106461 [==============================] - 3s 33us/step - loss: 0.1416 - val_loss: 0.1444\nEpoch 30/50\n106461/106461 [==============================] - 4s 34us/step - loss: 0.1413 - val_loss: 0.1433\nEpoch 31/50\n106461/106461 [==============================] - 3s 32us/step - loss: 0.1410 - val_loss: 0.1421\nEpoch 32/50\n106461/106461 [==============================] - 3s 31us/step - loss: 0.1408 - val_loss: 0.1418\nEpoch 33/50\n106461/106461 [==============================] - 3s 32us/step - loss: 0.1403 - val_loss: 0.1414\nEpoch 34/50\n106461/106461 [==============================] - 5s 45us/step - loss: 0.1401 - val_loss: 0.1435\nEpoch 35/50\n106461/106461 [==============================] - 4s 38us/step - loss: 0.1399 - val_loss: 0.1410\nEpoch 36/50\n106461/106461 [==============================] - 4s 38us/step - loss: 0.1397 - val_loss: 0.1408\nEpoch 37/50\n106461/106461 [==============================] - 4s 37us/step - loss: 0.1394 - val_loss: 0.1412\nEpoch 38/50\n106461/106461 [==============================] - 4s 38us/step - loss: 0.1393 - val_loss: 0.1425\nEpoch 39/50\n106461/106461 [==============================] - 5s 44us/step - loss: 0.1390 - val_loss: 0.1399\nEpoch 40/50\n106461/106461 [==============================] - 4s 37us/step - loss: 0.1388 - val_loss: 0.1402\nEpoch 41/50\n106461/106461 [==============================] - 4s 34us/step - loss: 0.1385 - val_loss: 0.1409\nEpoch 42/50\n106461/106461 [==============================] - 4s 34us/step - loss: 0.1383 - val_loss: 0.1409\nEpoch 43/50\n106461/106461 [==============================] - 4s 34us/step - loss: 0.1382 - val_loss: 0.1413\nEpoch 44/50\n106461/106461 [==============================] - 4s 35us/step - loss: 0.1380 - val_loss: 0.1423\n53230/53230 [==============================] - 1s 13us/step\n"
    },
    {
     "output_type": "error",
     "ename": "RuntimeError",
     "evalue": "Cannot clone object <keras.wrappers.scikit_learn.KerasRegressor object at 0x000001E84A38A940>, as the constructor either does not set or modifies parameter learning_rate",
     "traceback": [
      "\u001b[1;31m---------------------------------------------------------------------------\u001b[0m",
      "\u001b[1;31mRuntimeError\u001b[0m                              Traceback (most recent call last)",
      "\u001b[1;32m<ipython-input-22-40ac6fcce52a>\u001b[0m in \u001b[0;36m<module>\u001b[1;34m\u001b[0m\n\u001b[0;32m     26\u001b[0m \u001b[1;33m\u001b[0m\u001b[0m\n\u001b[0;32m     27\u001b[0m \u001b[1;31m# Train model\u001b[0m\u001b[1;33m\u001b[0m\u001b[1;33m\u001b[0m\u001b[0m\n\u001b[1;32m---> 28\u001b[1;33m \u001b[0mrnd_search_cv\u001b[0m\u001b[1;33m.\u001b[0m\u001b[0mfit\u001b[0m\u001b[1;33m(\u001b[0m \u001b[0mX_train\u001b[0m\u001b[1;33m,\u001b[0m \u001b[0my_train\u001b[0m\u001b[1;33m,\u001b[0m \u001b[0mepochs\u001b[0m \u001b[1;33m=\u001b[0m \u001b[1;36m50\u001b[0m\u001b[1;33m,\u001b[0m \u001b[0mvalidation_data\u001b[0m \u001b[1;33m=\u001b[0m\u001b[1;33m(\u001b[0m\u001b[0mX_test\u001b[0m\u001b[1;33m,\u001b[0m \u001b[0my_test\u001b[0m\u001b[1;33m)\u001b[0m\u001b[1;33m,\u001b[0m \u001b[0mcallbacks\u001b[0m \u001b[1;33m=\u001b[0m\u001b[1;33m[\u001b[0m\u001b[0mcheckpoint_cb\u001b[0m\u001b[1;33m,\u001b[0m \u001b[0mearlystop_cb\u001b[0m\u001b[1;33m]\u001b[0m\u001b[1;33m)\u001b[0m\u001b[1;33m\u001b[0m\u001b[0m\n\u001b[0m",
      "\u001b[1;32mC:\\Developer\\Python\\Python366\\lib\\site-packages\\sklearn\\model_selection\\_search.py\u001b[0m in \u001b[0;36mfit\u001b[1;34m(self, X, y, groups, **fit_params)\u001b[0m\n\u001b[0;32m    734\u001b[0m             \u001b[1;31m# of the params are estimators as well.\u001b[0m\u001b[1;33m\u001b[0m\u001b[1;33m\u001b[0m\u001b[0m\n\u001b[0;32m    735\u001b[0m             self.best_estimator_ = clone(clone(base_estimator).set_params(\n\u001b[1;32m--> 736\u001b[1;33m                 **self.best_params_))\n\u001b[0m\u001b[0;32m    737\u001b[0m             \u001b[0mrefit_start_time\u001b[0m \u001b[1;33m=\u001b[0m \u001b[0mtime\u001b[0m\u001b[1;33m.\u001b[0m\u001b[0mtime\u001b[0m\u001b[1;33m(\u001b[0m\u001b[1;33m)\u001b[0m\u001b[1;33m\u001b[0m\u001b[0m\n\u001b[0;32m    738\u001b[0m             \u001b[1;32mif\u001b[0m \u001b[0my\u001b[0m \u001b[1;32mis\u001b[0m \u001b[1;32mnot\u001b[0m \u001b[1;32mNone\u001b[0m\u001b[1;33m:\u001b[0m\u001b[1;33m\u001b[0m\u001b[0m\n",
      "\u001b[1;32mC:\\Developer\\Python\\Python366\\lib\\site-packages\\sklearn\\base.py\u001b[0m in \u001b[0;36mclone\u001b[1;34m(estimator, safe)\u001b[0m\n\u001b[0;32m     80\u001b[0m             raise RuntimeError('Cannot clone object %s, as the constructor '\n\u001b[0;32m     81\u001b[0m                                \u001b[1;34m'either does not set or modifies parameter %s'\u001b[0m \u001b[1;33m%\u001b[0m\u001b[1;33m\u001b[0m\u001b[0m\n\u001b[1;32m---> 82\u001b[1;33m                                (estimator, name))\n\u001b[0m\u001b[0;32m     83\u001b[0m     \u001b[1;32mreturn\u001b[0m \u001b[0mnew_object\u001b[0m\u001b[1;33m\u001b[0m\u001b[0m\n\u001b[0;32m     84\u001b[0m \u001b[1;33m\u001b[0m\u001b[0m\n",
      "\u001b[1;31mRuntimeError\u001b[0m: Cannot clone object <keras.wrappers.scikit_learn.KerasRegressor object at 0x000001E84A38A940>, as the constructor either does not set or modifies parameter learning_rate"
     ]
    }
   ],
   "source": [
    "# Multilayer Perceptron (Target - Rotor Temperature)\n",
    "\n",
    "# Clear existing models\n",
    "keras.backend.clear_session()\n",
    "\n",
    "# Parameter distribution\n",
    "param_distribs = { \n",
    "    \"n_hidden\": [1, 2], \n",
    "    \"n_neurons\": np.arange(1, 100), \n",
    "    \"learning_rate\": reciprocal(3e-4, 3e-2)\n",
    "    }\n",
    "\n",
    "# Build model\n",
    "wrapped_model = keras_helpers.wrap_model()\n",
    "\n",
    "# Initialise Random Search\n",
    "rnd_search_cv = RandomizedSearchCV(wrapped_model, param_distribs, n_iter = 10, cv = 3)\n",
    "\n",
    "# Name model file\n",
    "model_id = keras_helpers.name_model()\n",
    "filepath_full = keras_helpers.make_save_string(model_id)\n",
    "\n",
    "# Set save & earlystop callbacks\n",
    "earlystop_cb = keras.callbacks.EarlyStopping(patience = 5)\n",
    "checkpoint_cb = keras.callbacks.ModelCheckpoint(filepath = filepath_full, save_best_only = True)\n",
    "\n",
    "# Train model\n",
    "rnd_search_cv.fit( X_train, y_train, epochs = 50, validation_data =(X_test, y_test), callbacks =[checkpoint_cb, earlystop_cb])"
   ]
  },
  {
   "cell_type": "code",
   "execution_count": 23,
   "metadata": {
    "tags": []
   },
   "outputs": [
    {
     "output_type": "error",
     "ename": "AttributeError",
     "evalue": "module 'src.models.keras_helpers' has no attribute 'create_multilayer_perceptron'",
     "traceback": [
      "\u001b[1;31m---------------------------------------------------------------------------\u001b[0m",
      "\u001b[1;31mAttributeError\u001b[0m                            Traceback (most recent call last)",
      "\u001b[1;32m<ipython-input-23-61df332baa96>\u001b[0m in \u001b[0;36m<module>\u001b[1;34m\u001b[0m\n\u001b[0;32m      7\u001b[0m \u001b[1;33m\u001b[0m\u001b[0m\n\u001b[0;32m      8\u001b[0m \u001b[1;31m# Create model\u001b[0m\u001b[1;33m\u001b[0m\u001b[1;33m\u001b[0m\u001b[0m\n\u001b[1;32m----> 9\u001b[1;33m \u001b[0mmlp_model\u001b[0m \u001b[1;33m=\u001b[0m \u001b[0mkeras_helpers\u001b[0m\u001b[1;33m.\u001b[0m\u001b[0mcreate_multilayer_perceptron\u001b[0m\u001b[1;33m(\u001b[0m\u001b[0mX_train\u001b[0m\u001b[1;33m.\u001b[0m\u001b[0mshape\u001b[0m\u001b[1;33m[\u001b[0m\u001b[1;36m1\u001b[0m\u001b[1;33m]\u001b[0m\u001b[1;33m)\u001b[0m\u001b[1;33m\u001b[0m\u001b[0m\n\u001b[0m\u001b[0;32m     10\u001b[0m \u001b[1;33m\u001b[0m\u001b[0m\n\u001b[0;32m     11\u001b[0m \u001b[1;31m# Train model\u001b[0m\u001b[1;33m\u001b[0m\u001b[1;33m\u001b[0m\u001b[0m\n",
      "\u001b[1;31mAttributeError\u001b[0m: module 'src.models.keras_helpers' has no attribute 'create_multilayer_perceptron'"
     ]
    }
   ],
   "source": [
    "# Multilayer Perceptron (Target - Rotor Temperature)\n",
    "model_name = \"YC_0001\"\n",
    "\n",
    "\n",
    "# Clear existing models\n",
    "keras.backend.clear_session()\n",
    "\n",
    "# Create model\n",
    "mlp_model = keras_helpers.create_multilayer_perceptron(X_train.shape[1])\n",
    "\n",
    "# Train model\n",
    "mlp_model = keras_helpers.train_multilayer_perceptron(mlp_model, X_train, X_test, y_train, y_test)\n",
    "\n",
    "# Evaluate model\n",
    "y_pred = mlp_model.predict(X_test)\n",
    "\n",
    "rmse = mean_squared_error(y_test, y_pred, squared = False)\n",
    "mae = mean_absolute_error(y_test, y_pred)\n",
    "\n",
    "print(model_name, \"MSE: \", str(rmse))\n",
    "print(model_name, \"MAE\", str(mae))"
   ]
  },
  {
   "cell_type": "code",
   "execution_count": 24,
   "metadata": {
    "tags": []
   },
   "outputs": [
    {
     "output_type": "error",
     "ename": "AttributeError",
     "evalue": "module 'src.models.keras_helpers' has no attribute 'create_multilayer_perceptron'",
     "traceback": [
      "\u001b[1;31m---------------------------------------------------------------------------\u001b[0m",
      "\u001b[1;31mAttributeError\u001b[0m                            Traceback (most recent call last)",
      "\u001b[1;32m<ipython-input-24-aedcc5321ea9>\u001b[0m in \u001b[0;36m<module>\u001b[1;34m\u001b[0m\n\u001b[0;32m      6\u001b[0m \u001b[1;33m\u001b[0m\u001b[0m\n\u001b[0;32m      7\u001b[0m \u001b[1;31m# Create model\u001b[0m\u001b[1;33m\u001b[0m\u001b[1;33m\u001b[0m\u001b[0m\n\u001b[1;32m----> 8\u001b[1;33m \u001b[0mmlp_model\u001b[0m \u001b[1;33m=\u001b[0m \u001b[0mkeras_helpers\u001b[0m\u001b[1;33m.\u001b[0m\u001b[0mcreate_multilayer_perceptron\u001b[0m\u001b[1;33m(\u001b[0m\u001b[0mX_train\u001b[0m\u001b[1;33m.\u001b[0m\u001b[0mshape\u001b[0m\u001b[1;33m[\u001b[0m\u001b[1;36m1\u001b[0m\u001b[1;33m]\u001b[0m\u001b[1;33m)\u001b[0m\u001b[1;33m\u001b[0m\u001b[0m\n\u001b[0m\u001b[0;32m      9\u001b[0m \u001b[1;33m\u001b[0m\u001b[0m\n\u001b[0;32m     10\u001b[0m \u001b[1;31m# Train model\u001b[0m\u001b[1;33m\u001b[0m\u001b[1;33m\u001b[0m\u001b[0m\n",
      "\u001b[1;31mAttributeError\u001b[0m: module 'src.models.keras_helpers' has no attribute 'create_multilayer_perceptron'"
     ]
    }
   ],
   "source": [
    "# Multilayer Perceptron (Target - Rotor Temperature)\n",
    "model_name = \"YC_0002\"\n",
    "\n",
    "# Clear existing models\n",
    "keras.backend.clear_session()\n",
    "\n",
    "# Create model\n",
    "mlp_model = keras_helpers.create_multilayer_perceptron(X_train.shape[1])\n",
    "\n",
    "# Train model\n",
    "mlp_model = keras_helpers.train_multilayer_perceptron(mlp_model, X_train, X_test, y_train, y_test)\n",
    "\n",
    "# Evaluate model\n",
    "y_pred = mlp_model.predict(X_test)\n",
    "\n",
    "rmse = mean_squared_error(y_test, y_pred, squared = False)\n",
    "mae = mean_absolute_error(y_test, y_pred)\n",
    "\n",
    "print(model_name, \"MSE: \", str(rmse))\n",
    "print(model_name, \"MAE\", str(mae))"
   ]
  },
  {
   "cell_type": "code",
   "execution_count": 25,
   "metadata": {
    "tags": []
   },
   "outputs": [
    {
     "output_type": "error",
     "ename": "AttributeError",
     "evalue": "module 'src.models.keras_helpers' has no attribute 'create_multilayer_perceptron'",
     "traceback": [
      "\u001b[1;31m---------------------------------------------------------------------------\u001b[0m",
      "\u001b[1;31mAttributeError\u001b[0m                            Traceback (most recent call last)",
      "\u001b[1;32m<ipython-input-25-8116ddf1af9b>\u001b[0m in \u001b[0;36m<module>\u001b[1;34m\u001b[0m\n\u001b[0;32m      6\u001b[0m \u001b[1;33m\u001b[0m\u001b[0m\n\u001b[0;32m      7\u001b[0m \u001b[1;31m# Create model\u001b[0m\u001b[1;33m\u001b[0m\u001b[1;33m\u001b[0m\u001b[0m\n\u001b[1;32m----> 8\u001b[1;33m \u001b[0mmlp_model\u001b[0m \u001b[1;33m=\u001b[0m \u001b[0mkeras_helpers\u001b[0m\u001b[1;33m.\u001b[0m\u001b[0mcreate_multilayer_perceptron\u001b[0m\u001b[1;33m(\u001b[0m\u001b[0mX_train\u001b[0m\u001b[1;33m.\u001b[0m\u001b[0mshape\u001b[0m\u001b[1;33m[\u001b[0m\u001b[1;36m1\u001b[0m\u001b[1;33m]\u001b[0m\u001b[1;33m)\u001b[0m\u001b[1;33m\u001b[0m\u001b[0m\n\u001b[0m\u001b[0;32m      9\u001b[0m \u001b[1;33m\u001b[0m\u001b[0m\n\u001b[0;32m     10\u001b[0m \u001b[1;31m# Train model\u001b[0m\u001b[1;33m\u001b[0m\u001b[1;33m\u001b[0m\u001b[0m\n",
      "\u001b[1;31mAttributeError\u001b[0m: module 'src.models.keras_helpers' has no attribute 'create_multilayer_perceptron'"
     ]
    }
   ],
   "source": [
    "# Multilayer Perceptron (Target - Rotor Temperature)\n",
    "model_name = \"YC_0003\"\n",
    "\n",
    "# Clear existing models\n",
    "keras.backend.clear_session()\n",
    "\n",
    "# Create model\n",
    "mlp_model = keras_helpers.create_multilayer_perceptron(X_train.shape[1])\n",
    "\n",
    "# Train model\n",
    "mlp_model = keras_helpers.train_multilayer_perceptron(mlp_model, X_train, X_test, y_train, y_test)\n",
    "\n",
    "# Evaluate model\n",
    "y_pred = mlp_model.predict(X_test)\n",
    "\n",
    "rmse = mean_squared_error(y_test, y_pred, squared = False)\n",
    "mae = mean_absolute_error(y_test, y_pred)\n",
    "\n",
    "print(model_name, \"MSE: \", str(rmse))\n",
    "print(model_name, \"MAE\", str(mae))"
   ]
  },
  {
   "cell_type": "code",
   "execution_count": 26,
   "metadata": {
    "tags": []
   },
   "outputs": [
    {
     "output_type": "error",
     "ename": "AttributeError",
     "evalue": "module 'src.models.keras_helpers' has no attribute 'create_multilayer_perceptron'",
     "traceback": [
      "\u001b[1;31m---------------------------------------------------------------------------\u001b[0m",
      "\u001b[1;31mAttributeError\u001b[0m                            Traceback (most recent call last)",
      "\u001b[1;32m<ipython-input-26-71a0fa851a17>\u001b[0m in \u001b[0;36m<module>\u001b[1;34m\u001b[0m\n\u001b[0;32m      6\u001b[0m \u001b[1;33m\u001b[0m\u001b[0m\n\u001b[0;32m      7\u001b[0m \u001b[1;31m# Create model\u001b[0m\u001b[1;33m\u001b[0m\u001b[1;33m\u001b[0m\u001b[0m\n\u001b[1;32m----> 8\u001b[1;33m \u001b[0mmlp_model\u001b[0m \u001b[1;33m=\u001b[0m \u001b[0mkeras_helpers\u001b[0m\u001b[1;33m.\u001b[0m\u001b[0mcreate_multilayer_perceptron\u001b[0m\u001b[1;33m(\u001b[0m\u001b[0mX_train\u001b[0m\u001b[1;33m.\u001b[0m\u001b[0mshape\u001b[0m\u001b[1;33m[\u001b[0m\u001b[1;36m1\u001b[0m\u001b[1;33m]\u001b[0m\u001b[1;33m)\u001b[0m\u001b[1;33m\u001b[0m\u001b[0m\n\u001b[0m\u001b[0;32m      9\u001b[0m \u001b[1;33m\u001b[0m\u001b[0m\n\u001b[0;32m     10\u001b[0m \u001b[1;31m# Train model\u001b[0m\u001b[1;33m\u001b[0m\u001b[1;33m\u001b[0m\u001b[0m\n",
      "\u001b[1;31mAttributeError\u001b[0m: module 'src.models.keras_helpers' has no attribute 'create_multilayer_perceptron'"
     ]
    }
   ],
   "source": [
    "# Multilayer Perceptron (Target - Rotor Temperature)\n",
    "model_name = \"YC_0004\"\n",
    "\n",
    "# Clear existing models\n",
    "keras.backend.clear_session()\n",
    "\n",
    "# Create model\n",
    "mlp_model = keras_helpers.create_multilayer_perceptron(X_train.shape[1])\n",
    "\n",
    "# Train model\n",
    "mlp_model = keras_helpers.train_multilayer_perceptron(mlp_model, X_train, X_test, y_train, y_test)\n",
    "\n",
    "# Evaluate model\n",
    "y_pred = mlp_model.predict(X_test)\n",
    "\n",
    "rmse = mean_squared_error(y_test, y_pred, squared = False)\n",
    "mae = mean_absolute_error(y_test, y_pred)\n",
    "\n",
    "print(model_name, \"MSE: \", str(rmse))\n",
    "print(model_name, \"MAE\", str(mae))"
   ]
  },
  {
   "cell_type": "code",
   "execution_count": 27,
   "metadata": {
    "tags": []
   },
   "outputs": [
    {
     "output_type": "error",
     "ename": "AttributeError",
     "evalue": "module 'src.models.keras_helpers' has no attribute 'create_multilayer_perceptron'",
     "traceback": [
      "\u001b[1;31m---------------------------------------------------------------------------\u001b[0m",
      "\u001b[1;31mAttributeError\u001b[0m                            Traceback (most recent call last)",
      "\u001b[1;32m<ipython-input-27-9417ff01d9f5>\u001b[0m in \u001b[0;36m<module>\u001b[1;34m\u001b[0m\n\u001b[0;32m      6\u001b[0m \u001b[1;33m\u001b[0m\u001b[0m\n\u001b[0;32m      7\u001b[0m \u001b[1;31m# Create model\u001b[0m\u001b[1;33m\u001b[0m\u001b[1;33m\u001b[0m\u001b[0m\n\u001b[1;32m----> 8\u001b[1;33m \u001b[0mmlp_model\u001b[0m \u001b[1;33m=\u001b[0m \u001b[0mkeras_helpers\u001b[0m\u001b[1;33m.\u001b[0m\u001b[0mcreate_multilayer_perceptron\u001b[0m\u001b[1;33m(\u001b[0m\u001b[0mX_train\u001b[0m\u001b[1;33m.\u001b[0m\u001b[0mshape\u001b[0m\u001b[1;33m[\u001b[0m\u001b[1;36m1\u001b[0m\u001b[1;33m]\u001b[0m\u001b[1;33m)\u001b[0m\u001b[1;33m\u001b[0m\u001b[0m\n\u001b[0m\u001b[0;32m      9\u001b[0m \u001b[1;33m\u001b[0m\u001b[0m\n\u001b[0;32m     10\u001b[0m \u001b[1;31m# Train model\u001b[0m\u001b[1;33m\u001b[0m\u001b[1;33m\u001b[0m\u001b[0m\n",
      "\u001b[1;31mAttributeError\u001b[0m: module 'src.models.keras_helpers' has no attribute 'create_multilayer_perceptron'"
     ]
    }
   ],
   "source": [
    "# Multilayer Perceptron (Target - Rotor Temperature)\n",
    "model_name = \"YC_0005\"\n",
    "\n",
    "# Clear existing models\n",
    "keras.backend.clear_session()\n",
    "\n",
    "# Create model\n",
    "mlp_model = keras_helpers.create_multilayer_perceptron(X_train.shape[1])\n",
    "\n",
    "# Train model\n",
    "mlp_model = keras_helpers.train_multilayer_perceptron(mlp_model, X_train, X_test, y_train, y_test)\n",
    "\n",
    "# Evaluate model\n",
    "y_pred = mlp_model.predict(X_test)\n",
    "\n",
    "rmse = mean_squared_error(y_test, y_pred, squared = False)\n",
    "mae = mean_absolute_error(y_test, y_pred)\n",
    "\n",
    "print(model_name, \"MSE: \", str(rmse))\n",
    "print(model_name, \"MAE\", str(mae))"
   ]
  },
  {
   "cell_type": "code",
   "execution_count": 28,
   "metadata": {
    "tags": []
   },
   "outputs": [
    {
     "output_type": "error",
     "ename": "AttributeError",
     "evalue": "module 'src.models.keras_helpers' has no attribute 'save_sequential_model'",
     "traceback": [
      "\u001b[1;31m---------------------------------------------------------------------------\u001b[0m",
      "\u001b[1;31mAttributeError\u001b[0m                            Traceback (most recent call last)",
      "\u001b[1;32m<ipython-input-28-da78863865a0>\u001b[0m in \u001b[0;36m<module>\u001b[1;34m\u001b[0m\n\u001b[0;32m      1\u001b[0m \u001b[0mfull_name\u001b[0m \u001b[1;33m=\u001b[0m \u001b[1;34m\"YC_0005_SEQ_11-100-60-30-1_ReLU_MSE_Adam\"\u001b[0m\u001b[1;33m\u001b[0m\u001b[0m\n\u001b[0;32m      2\u001b[0m \u001b[1;33m\u001b[0m\u001b[0m\n\u001b[1;32m----> 3\u001b[1;33m \u001b[0mkeras_helpers\u001b[0m\u001b[1;33m.\u001b[0m\u001b[0msave_sequential_model\u001b[0m\u001b[1;33m(\u001b[0m\u001b[0mmlp_model\u001b[0m\u001b[1;33m,\u001b[0m \u001b[0mfull_name\u001b[0m\u001b[1;33m)\u001b[0m\u001b[1;33m\u001b[0m\u001b[0m\n\u001b[0m",
      "\u001b[1;31mAttributeError\u001b[0m: module 'src.models.keras_helpers' has no attribute 'save_sequential_model'"
     ]
    }
   ],
   "source": [
    "full_name = \"YC_0005_SEQ_11-100-60-30-1_ReLU_MSE_Adam\"\n",
    "\n",
    "keras_helpers.save_sequential_model(mlp_model, full_name)"
   ]
  }
 ],
 "metadata": {
  "language_info": {
   "codemirror_mode": {
    "name": "ipython",
    "version": 3
   },
   "file_extension": ".py",
   "mimetype": "text/x-python",
   "name": "python",
   "nbconvert_exporter": "python",
   "pygments_lexer": "ipython3",
   "version": 3
  },
  "orig_nbformat": 2,
  "kernelspec": {
   "name": "python_defaultSpec_1595503065068",
   "display_name": "Python 3.6.6 64-bit"
  }
 },
 "nbformat": 4,
 "nbformat_minor": 2
}