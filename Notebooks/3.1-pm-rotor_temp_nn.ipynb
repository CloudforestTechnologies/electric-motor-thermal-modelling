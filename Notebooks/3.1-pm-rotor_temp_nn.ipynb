{
 "cells": [
  {
   "cell_type": "code",
   "execution_count": 1,
   "metadata": {
    "tags": []
   },
   "outputs": [
    {
     "output_type": "stream",
     "name": "stderr",
     "text": "Using TensorFlow backend.\n"
    }
   ],
   "source": [
    "# Module Importations\n",
    "from sklearn.model_selection import train_test_split\n",
    "from sklearn.metrics import mean_absolute_error\n",
    "from sklearn.metrics import mean_squared_error\n",
    "import keras"
   ]
  },
  {
   "cell_type": "code",
   "execution_count": 2,
   "metadata": {
    "tags": []
   },
   "outputs": [],
   "source": [
    "# Project Module Importations\n",
    "from src.data import load_data\n",
    "from src.data import split_data\n",
    "from src.models import keras_helpers"
   ]
  },
  {
   "cell_type": "code",
   "execution_count": 3,
   "metadata": {},
   "outputs": [],
   "source": [
    "# Load dataset\n",
    "original_dataset = load_data.load_motor_data()"
   ]
  },
  {
   "cell_type": "code",
   "execution_count": 4,
   "metadata": {},
   "outputs": [],
   "source": [
    "# Split data into training / evaluation sets\n",
    "training_set, evaluation_set = split_data.split_train_test(original_dataset, 0.8)"
   ]
  },
  {
   "cell_type": "code",
   "execution_count": 5,
   "metadata": {
    "tags": []
   },
   "outputs": [
    {
     "output_type": "stream",
     "name": "stdout",
     "text": "ambient        coolant            u_d            u_q  \\\ncount  199614.000000  199614.000000  199614.000000  199614.000000   \nmean       -0.005043       0.005308       0.003792      -0.005359   \nstd         0.996490       1.002488       0.998747       1.001464   \nmin        -5.239872      -1.270450      -1.654002      -1.852853   \n25%        -0.601386      -1.037872      -0.831843      -0.924537   \n50%         0.266671      -0.178200       0.267391      -0.098490   \n75%         0.686838       0.673512       0.358587       0.848608   \nmax         2.954662       2.296845       2.273808       1.788773   \n\n         motor_speed         torque            i_d            i_q  \\\ncount  199614.000000  199614.000000  199614.000000  199614.000000   \nmean       -0.004852      -0.001687       0.004184      -0.001570   \nstd         1.001954       0.998525       0.999021       0.998389   \nmin        -1.353747      -3.339106      -3.235659      -3.329749   \n25%        -0.951892      -0.267419      -0.759524      -0.257273   \n50%        -0.140246      -0.186549       0.206151      -0.183473   \n75%         0.856986       0.548676       1.013975       0.501003   \nmax         2.024162       3.016479       1.060718       2.914179   \n\n                  pm    stator_yoke   stator_tooth  stator_winding  \ncount  199614.000000  199614.000000  199614.000000   199614.000000  \nmean       -0.004875       0.001077      -0.001664       -0.003221  \nstd         0.997822       1.002443       1.000849        0.998714  \nmin        -2.631581      -1.833552      -2.063137       -2.019349  \n25%        -0.677244      -0.747915      -0.761951       -0.725616  \n50%         0.095507      -0.057212       0.005475        0.008515  \n75%         0.682715       0.698267       0.772167        0.729825  \nmax         2.917456       2.443347       2.325405        2.633611  \n"
    }
   ],
   "source": [
    "# Drop profile id data column\n",
    "training_set = training_set.drop(\"profile_id\", axis = 1)\n",
    "print(training_set.describe())"
   ]
  },
  {
   "cell_type": "code",
   "execution_count": 6,
   "metadata": {},
   "outputs": [],
   "source": [
    "# Create rotor target\n",
    "rotor_training_data = training_set.drop(\"pm\", axis = 1)\n",
    "rotor_label_data = training_set[\"pm\"].copy()"
   ]
  },
  {
   "cell_type": "code",
   "execution_count": 7,
   "metadata": {
    "tags": []
   },
   "outputs": [],
   "source": [
    "# Create train and test arrays\n",
    "X_train, X_test, y_train, y_test = train_test_split(rotor_training_data, rotor_label_data, test_size = 0.2, random_state = 0)"
   ]
  },
  {
   "cell_type": "code",
   "execution_count": 8,
   "metadata": {
    "tags": []
   },
   "outputs": [
    {
     "output_type": "stream",
     "name": "stdout",
     "text": "[mlp nn] Training model ...\nTrain on 159691 samples, validate on 39923 samples\nEpoch 1/20\n159691/159691 [==============================] - 26s 165us/step - loss: 110.6072 - val_loss: 100.7071\nEpoch 2/20\n159691/159691 [==============================] - 25s 157us/step - loss: 102.0306 - val_loss: 248.5856\nEpoch 3/20\n159691/159691 [==============================] - 29s 183us/step - loss: 96.9405 - val_loss: 98.7907\nEpoch 4/20\n159691/159691 [==============================] - 27s 166us/step - loss: 95.3330 - val_loss: 133.6185\nEpoch 5/20\n159691/159691 [==============================] - 27s 171us/step - loss: 92.6376 - val_loss: 87.7359\nEpoch 6/20\n159691/159691 [==============================] - 29s 183us/step - loss: 90.9904 - val_loss: 92.1044\nEpoch 7/20\n159691/159691 [==============================] - 28s 173us/step - loss: 89.2291 - val_loss: 87.2373\nEpoch 8/20\n159691/159691 [==============================] - 23s 147us/step - loss: 88.8884 - val_loss: 87.0466\nEpoch 9/20\n159691/159691 [==============================] - 23s 142us/step - loss: 88.8137 - val_loss: 86.2405\nEpoch 10/20\n159691/159691 [==============================] - 22s 138us/step - loss: 87.8210 - val_loss: 98.2293\nEpoch 11/20\n159691/159691 [==============================] - 23s 144us/step - loss: 88.2038 - val_loss: 85.2851\nEpoch 12/20\n159691/159691 [==============================] - 24s 153us/step - loss: 88.7684 - val_loss: 87.6275\nEpoch 13/20\n159691/159691 [==============================] - 23s 143us/step - loss: 86.9434 - val_loss: 104.4842\nEpoch 14/20\n159691/159691 [==============================] - 25s 154us/step - loss: 87.6043 - val_loss: 85.5928\nEpoch 15/20\n159691/159691 [==============================] - 27s 166us/step - loss: 86.9776 - val_loss: 84.5886\nEpoch 16/20\n159691/159691 [==============================] - 28s 173us/step - loss: 88.2782 - val_loss: 91.0314\nEpoch 17/20\n159691/159691 [==============================] - 25s 155us/step - loss: 87.4971 - val_loss: 89.4980\nEpoch 18/20\n159691/159691 [==============================] - 26s 163us/step - loss: 87.6209 - val_loss: 91.8419\nEpoch 19/20\n159691/159691 [==============================] - 24s 153us/step - loss: 85.3405 - val_loss: 85.1617\nEpoch 20/20\n159691/159691 [==============================] - 25s 155us/step - loss: 86.3929 - val_loss: 83.6263\nmlp nn MSE: 0.7626031005704942\nmlp nn MAE: 0.5745277105728241\n"
    }
   ],
   "source": [
    "# Multilayer Perceptron (Target - Rotor Temperature)\n",
    "\n",
    "# Clear existing models\n",
    "keras.backend.clear_session()\n",
    "\n",
    "# Create model\n",
    "mlp_model = keras_helpers.create_multilayer_perceptron(X_train.shape[1])\n",
    "\n",
    "# Train model\n",
    "mlp_model = keras_helpers.train_multilayer_perceptron(mlp_model, X_train, X_test, y_train, y_test)\n",
    "\n",
    "# Evaluate model\n",
    "y_pred = mlp_model.predict(X_test)\n",
    " \n",
    "rmse = mean_squared_error(y_test, y_pred, squared = False)\n",
    "print(\"mlp nn MSE: \" + str(rmse))\n",
    " \n",
    "mae = mean_absolute_error(y_test, y_pred)\n",
    "print(\"mlp nn MAE: \" + str(mae))"
   ]
  }
 ],
 "metadata": {
  "language_info": {
   "codemirror_mode": {
    "name": "ipython",
    "version": 3
   },
   "file_extension": ".py",
   "mimetype": "text/x-python",
   "name": "python",
   "nbconvert_exporter": "python",
   "pygments_lexer": "ipython3",
   "version": 3
  },
  "orig_nbformat": 2,
  "kernelspec": {
   "name": "python_defaultSpec_1594722355238",
   "display_name": "Python 3.6.6 64-bit"
  }
 },
 "nbformat": 4,
 "nbformat_minor": 2
}