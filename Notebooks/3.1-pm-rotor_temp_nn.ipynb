{
 "cells": [
  {
   "cell_type": "code",
   "execution_count": 1,
   "metadata": {
    "tags": []
   },
   "outputs": [
    {
     "output_type": "stream",
     "name": "stderr",
     "text": "Using TensorFlow backend.\nkeras.__version__= 2.3.1\n"
    }
   ],
   "source": [
    "# Module Importations\n",
    "from scipy.stats import reciprocal\n",
    "from sklearn.metrics import mean_absolute_error\n",
    "from sklearn.metrics import mean_squared_error\n",
    "from sklearn.model_selection import train_test_split\n",
    "from sklearn.model_selection import RandomizedSearchCV\n",
    "import keras\n",
    "import numpy as np\n",
    "import time\n",
    "\n",
    "print('keras.__version__=', keras.__version__)"
   ]
  },
  {
   "cell_type": "code",
   "execution_count": 2,
   "metadata": {
    "tags": []
   },
   "outputs": [],
   "source": [
    "# Project Module Importations\n",
    "from src.data import load_data\n",
    "from src.data import split_data\n",
    "from src.models import keras_helpers"
   ]
  },
  {
   "cell_type": "code",
   "execution_count": 3,
   "metadata": {},
   "outputs": [],
   "source": [
    "# Load dataset\n",
    "original_dataset = load_data.load_motor_data()"
   ]
  },
  {
   "cell_type": "code",
   "execution_count": 4,
   "metadata": {},
   "outputs": [],
   "source": [
    "# Split data into training / evaluation sets\n",
    "training_set, evaluation_set = split_data.split_train_test(original_dataset, 0.8)"
   ]
  },
  {
   "cell_type": "code",
   "execution_count": 5,
   "metadata": {
    "tags": []
   },
   "outputs": [],
   "source": [
    "# Drop profile id data column\n",
    "training_set = training_set.drop(\"profile_id\", axis = 1)\n",
    "evaluation_set = evaluation_set.drop(\"profile_id\", axis = 1)"
   ]
  },
  {
   "cell_type": "code",
   "execution_count": 6,
   "metadata": {},
   "outputs": [],
   "source": [
    "# Create rotor target\n",
    "rotor_training_data = training_set.drop(\"pm\", axis = 1)\n",
    "rotor_label_data = training_set[\"pm\"].copy()\n",
    "\n",
    "rotor_test_data = evaluation_set.drop(\"pm\", axis = 1)\n",
    "rotor_test_label = evaluation_set[\"pm\"].copy()"
   ]
  },
  {
   "cell_type": "code",
   "execution_count": 7,
   "metadata": {
    "tags": []
   },
   "outputs": [],
   "source": [
    "# Create train and test arrays\n",
    "X_train, X_test, y_train, y_test = train_test_split(rotor_training_data, rotor_label_data, test_size = 0.2, random_state = 0)"
   ]
  },
  {
   "cell_type": "code",
   "execution_count": 8,
   "metadata": {
    "tags": [
     "outputPrepend"
    ]
   },
   "outputs": [
    {
     "output_type": "stream",
     "name": "stdout",
     "text": "06461 [==============================] - 3s 33us/step - loss: 0.1675 - val_loss: 0.1660\nEpoch 8/50\n106461/106461 [==============================] - 3s 33us/step - loss: 0.1620 - val_loss: 0.1609\nEpoch 9/50\n106461/106461 [==============================] - 3s 32us/step - loss: 0.1581 - val_loss: 0.1592\nEpoch 10/50\n106461/106461 [==============================] - 3s 33us/step - loss: 0.1555 - val_loss: 0.1561\nEpoch 11/50\n106461/106461 [==============================] - 3s 32us/step - loss: 0.1532 - val_loss: 0.1533\nEpoch 12/50\n106461/106461 [==============================] - 3s 33us/step - loss: 0.1512 - val_loss: 0.1510\nEpoch 13/50\n106461/106461 [==============================] - 4s 34us/step - loss: 0.1497 - val_loss: 0.1497\nEpoch 14/50\n106461/106461 [==============================] - 4s 35us/step - loss: 0.1484 - val_loss: 0.1487\nEpoch 15/50\n106461/106461 [==============================] - 4s 35us/step - loss: 0.1473 - val_loss: 0.1479\nEpoch 16/50\n106461/106461 [==============================] - 4s 35us/step - loss: 0.1461 - val_loss: 0.1474\nEpoch 17/50\n106461/106461 [==============================] - 4s 35us/step - loss: 0.1452 - val_loss: 0.1485\nEpoch 18/50\n106461/106461 [==============================] - 4s 35us/step - loss: 0.1443 - val_loss: 0.1465\nEpoch 19/50\n106461/106461 [==============================] - 4s 35us/step - loss: 0.1437 - val_loss: 0.1465\nEpoch 20/50\n106461/106461 [==============================] - 4s 35us/step - loss: 0.1430 - val_loss: 0.1440\nEpoch 21/50\n106461/106461 [==============================] - 4s 34us/step - loss: 0.1425 - val_loss: 0.1433\nEpoch 22/50\n106461/106461 [==============================] - 4s 34us/step - loss: 0.1419 - val_loss: 0.1432\nEpoch 23/50\n106461/106461 [==============================] - 4s 33us/step - loss: 0.1414 - val_loss: 0.1426\nEpoch 24/50\n106461/106461 [==============================] - 4s 34us/step - loss: 0.1411 - val_loss: 0.1423\nEpoch 25/50\n106461/106461 [==============================] - 3s 31us/step - loss: 0.1407 - val_loss: 0.1448\nEpoch 26/50\n106461/106461 [==============================] - 3s 31us/step - loss: 0.1405 - val_loss: 0.1417\nEpoch 27/50\n106461/106461 [==============================] - 3s 31us/step - loss: 0.1404 - val_loss: 0.1436\nEpoch 28/50\n106461/106461 [==============================] - 3s 31us/step - loss: 0.1401 - val_loss: 0.1429\nEpoch 29/50\n106461/106461 [==============================] - 3s 31us/step - loss: 0.1398 - val_loss: 0.1400\nEpoch 30/50\n106461/106461 [==============================] - 3s 30us/step - loss: 0.1396 - val_loss: 0.1407\nEpoch 31/50\n106461/106461 [==============================] - 3s 30us/step - loss: 0.1394 - val_loss: 0.1442\nEpoch 32/50\n106461/106461 [==============================] - 3s 31us/step - loss: 0.1392 - val_loss: 0.1430\nEpoch 33/50\n106461/106461 [==============================] - 3s 32us/step - loss: 0.1391 - val_loss: 0.1393\nEpoch 34/50\n106461/106461 [==============================] - 3s 31us/step - loss: 0.1390 - val_loss: 0.1397\nEpoch 35/50\n106461/106461 [==============================] - 3s 31us/step - loss: 0.1387 - val_loss: 0.1398\nEpoch 36/50\n106461/106461 [==============================] - 3s 31us/step - loss: 0.1386 - val_loss: 0.1418\nEpoch 37/50\n106461/106461 [==============================] - 3s 31us/step - loss: 0.1384 - val_loss: 0.1413\nEpoch 38/50\n106461/106461 [==============================] - 3s 31us/step - loss: 0.1382 - val_loss: 0.1448\n53230/53230 [==============================] - 1s 10us/step\nTrain on 106460 samples, validate on 39923 samples\nEpoch 1/50\n106460/106460 [==============================] - 4s 38us/step - loss: 0.5024 - val_loss: 0.4081\nEpoch 2/50\n106460/106460 [==============================] - 4s 38us/step - loss: 0.3703 - val_loss: 0.3525\nEpoch 3/50\n106460/106460 [==============================] - 4s 38us/step - loss: 0.3307 - val_loss: 0.3212\nEpoch 4/50\n106460/106460 [==============================] - 4s 39us/step - loss: 0.3064 - val_loss: 0.3014\nEpoch 5/50\n106460/106460 [==============================] - 4s 38us/step - loss: 0.2901 - val_loss: 0.2872\nEpoch 6/50\n106460/106460 [==============================] - 4s 38us/step - loss: 0.2780 - val_loss: 0.2767\nEpoch 7/50\n106460/106460 [==============================] - 4s 38us/step - loss: 0.2690 - val_loss: 0.2682\nEpoch 8/50\n106460/106460 [==============================] - 4s 38us/step - loss: 0.2615 - val_loss: 0.2612\nEpoch 9/50\n106460/106460 [==============================] - 4s 38us/step - loss: 0.2554 - val_loss: 0.2553\nEpoch 10/50\n106460/106460 [==============================] - 4s 37us/step - loss: 0.2504 - val_loss: 0.2504\nEpoch 11/50\n106460/106460 [==============================] - 4s 38us/step - loss: 0.2462 - val_loss: 0.2469\nEpoch 12/50\n106460/106460 [==============================] - 4s 38us/step - loss: 0.2428 - val_loss: 0.2432\nEpoch 13/50\n106460/106460 [==============================] - 4s 37us/step - loss: 0.2399 - val_loss: 0.2404\nEpoch 14/50\n106460/106460 [==============================] - 4s 38us/step - loss: 0.2374 - val_loss: 0.2379\nEpoch 15/50\n106460/106460 [==============================] - 4s 39us/step - loss: 0.2350 - val_loss: 0.2356\nEpoch 16/50\n106460/106460 [==============================] - 4s 38us/step - loss: 0.2328 - val_loss: 0.2332\nEpoch 17/50\n106460/106460 [==============================] - 4s 39us/step - loss: 0.2306 - val_loss: 0.2313\nEpoch 18/50\n106460/106460 [==============================] - 4s 39us/step - loss: 0.2286 - val_loss: 0.2290\nEpoch 19/50\n106460/106460 [==============================] - 4s 39us/step - loss: 0.2265 - val_loss: 0.2269\nEpoch 20/50\n106460/106460 [==============================] - 4s 38us/step - loss: 0.2244 - val_loss: 0.2254\nEpoch 21/50\n106460/106460 [==============================] - 4s 38us/step - loss: 0.2224 - val_loss: 0.2234\nEpoch 22/50\n106460/106460 [==============================] - 4s 39us/step - loss: 0.2204 - val_loss: 0.2210\nEpoch 23/50\n106460/106460 [==============================] - 4s 38us/step - loss: 0.2184 - val_loss: 0.2192\nEpoch 24/50\n106460/106460 [==============================] - 4s 38us/step - loss: 0.2165 - val_loss: 0.2171\nEpoch 25/50\n106460/106460 [==============================] - 4s 38us/step - loss: 0.2144 - val_loss: 0.2150\nEpoch 26/50\n106460/106460 [==============================] - 4s 40us/step - loss: 0.2125 - val_loss: 0.2133\nEpoch 27/50\n106460/106460 [==============================] - 4s 40us/step - loss: 0.2106 - val_loss: 0.2111\nEpoch 28/50\n106460/106460 [==============================] - 4s 41us/step - loss: 0.2086 - val_loss: 0.2088\nEpoch 29/50\n106460/106460 [==============================] - 4s 41us/step - loss: 0.2064 - val_loss: 0.2067\nEpoch 30/50\n106460/106460 [==============================] - 4s 41us/step - loss: 0.2044 - val_loss: 0.2047\nEpoch 31/50\n106460/106460 [==============================] - 4s 40us/step - loss: 0.2024 - val_loss: 0.2028\nEpoch 32/50\n106460/106460 [==============================] - 4s 40us/step - loss: 0.2008 - val_loss: 0.2015\nEpoch 33/50\n106460/106460 [==============================] - 4s 41us/step - loss: 0.1991 - val_loss: 0.1997\nEpoch 34/50\n106460/106460 [==============================] - 5s 51us/step - loss: 0.1976 - val_loss: 0.1979\nEpoch 35/50\n106460/106460 [==============================] - 5s 43us/step - loss: 0.1961 - val_loss: 0.1966\nEpoch 36/50\n106460/106460 [==============================] - 4s 41us/step - loss: 0.1947 - val_loss: 0.1954\nEpoch 37/50\n106460/106460 [==============================] - 4s 38us/step - loss: 0.1934 - val_loss: 0.1941\nEpoch 38/50\n106460/106460 [==============================] - 4s 39us/step - loss: 0.1922 - val_loss: 0.1925\nEpoch 39/50\n106460/106460 [==============================] - 4s 39us/step - loss: 0.1909 - val_loss: 0.1914\nEpoch 40/50\n106460/106460 [==============================] - 4s 38us/step - loss: 0.1897 - val_loss: 0.1904\nEpoch 41/50\n106460/106460 [==============================] - 4s 38us/step - loss: 0.1883 - val_loss: 0.1888\nEpoch 42/50\n106460/106460 [==============================] - 4s 39us/step - loss: 0.1870 - val_loss: 0.1875\nEpoch 43/50\n106460/106460 [==============================] - 4s 39us/step - loss: 0.1857 - val_loss: 0.1866\nEpoch 44/50\n106460/106460 [==============================] - 4s 38us/step - loss: 0.1844 - val_loss: 0.1856\nEpoch 45/50\n106460/106460 [==============================] - 4s 37us/step - loss: 0.1831 - val_loss: 0.1833\nEpoch 46/50\n106460/106460 [==============================] - 4s 37us/step - loss: 0.1819 - val_loss: 0.1824\nEpoch 47/50\n106460/106460 [==============================] - 4s 39us/step - loss: 0.1809 - val_loss: 0.1815\nEpoch 48/50\n106460/106460 [==============================] - 4s 38us/step - loss: 0.1801 - val_loss: 0.1803\nEpoch 49/50\n106460/106460 [==============================] - 4s 39us/step - loss: 0.1792 - val_loss: 0.1799\nEpoch 50/50\n106460/106460 [==============================] - 4s 39us/step - loss: 0.1785 - val_loss: 0.1791\n53231/53231 [==============================] - 1s 14us/step\nTrain on 106461 samples, validate on 39923 samples\nEpoch 1/50\n106461/106461 [==============================] - 4s 39us/step - loss: 0.5830 - val_loss: 0.4329\nEpoch 2/50\n106461/106461 [==============================] - 4s 37us/step - loss: 0.3734 - val_loss: 0.3417\nEpoch 3/50\n106461/106461 [==============================] - 4s 38us/step - loss: 0.3178 - val_loss: 0.3084\nEpoch 4/50\n106461/106461 [==============================] - 4s 40us/step - loss: 0.2936 - val_loss: 0.2898\nEpoch 5/50\n106461/106461 [==============================] - 4s 40us/step - loss: 0.2785 - val_loss: 0.2768\nEpoch 6/50\n106461/106461 [==============================] - 4s 41us/step - loss: 0.2676 - val_loss: 0.2674\nEpoch 7/50\n106461/106461 [==============================] - 4s 40us/step - loss: 0.2595 - val_loss: 0.2602\nEpoch 8/50\n106461/106461 [==============================] - 4s 42us/step - loss: 0.2533 - val_loss: 0.2550\nEpoch 9/50\n106461/106461 [==============================] - 4s 38us/step - loss: 0.2485 - val_loss: 0.2506\nEpoch 10/50\n106461/106461 [==============================] - 4s 38us/step - loss: 0.2444 - val_loss: 0.2465\nEpoch 11/50\n106461/106461 [==============================] - 4s 38us/step - loss: 0.2407 - val_loss: 0.2432\nEpoch 12/50\n106461/106461 [==============================] - 4s 37us/step - loss: 0.2375 - val_loss: 0.2400\nEpoch 13/50\n106461/106461 [==============================] - 4s 38us/step - loss: 0.2346 - val_loss: 0.2371\nEpoch 14/50\n106461/106461 [==============================] - 4s 38us/step - loss: 0.2319 - val_loss: 0.2343\nEpoch 15/50\n106461/106461 [==============================] - 4s 39us/step - loss: 0.2292 - val_loss: 0.2314\nEpoch 16/50\n106461/106461 [==============================] - 4s 38us/step - loss: 0.2265 - val_loss: 0.2287\nEpoch 17/50\n106461/106461 [==============================] - 4s 37us/step - loss: 0.2239 - val_loss: 0.2262\nEpoch 18/50\n106461/106461 [==============================] - 4s 39us/step - loss: 0.2214 - val_loss: 0.2237\nEpoch 19/50\n106461/106461 [==============================] - 4s 38us/step - loss: 0.2189 - val_loss: 0.2210\nEpoch 20/50\n106461/106461 [==============================] - 4s 37us/step - loss: 0.2166 - val_loss: 0.2187\nEpoch 21/50\n106461/106461 [==============================] - 4s 37us/step - loss: 0.2143 - val_loss: 0.2165\nEpoch 22/50\n106461/106461 [==============================] - 4s 38us/step - loss: 0.2122 - val_loss: 0.2144\nEpoch 23/50\n106461/106461 [==============================] - 4s 39us/step - loss: 0.2101 - val_loss: 0.2123\nEpoch 24/50\n106461/106461 [==============================] - 4s 40us/step - loss: 0.2080 - val_loss: 0.2101\nEpoch 25/50\n106461/106461 [==============================] - 4s 40us/step - loss: 0.2060 - val_loss: 0.2082\nEpoch 26/50\n106461/106461 [==============================] - 4s 40us/step - loss: 0.2039 - val_loss: 0.2058\nEpoch 27/50\n106461/106461 [==============================] - 4s 40us/step - loss: 0.2019 - val_loss: 0.2037\nEpoch 28/50\n106461/106461 [==============================] - 4s 40us/step - loss: 0.2000 - val_loss: 0.2017\nEpoch 29/50\n106461/106461 [==============================] - 4s 40us/step - loss: 0.1981 - val_loss: 0.1998\nEpoch 30/50\n106461/106461 [==============================] - 4s 40us/step - loss: 0.1964 - val_loss: 0.1982\nEpoch 31/50\n106461/106461 [==============================] - 4s 41us/step - loss: 0.1948 - val_loss: 0.1967\nEpoch 32/50\n106461/106461 [==============================] - 4s 41us/step - loss: 0.1934 - val_loss: 0.1951\nEpoch 33/50\n106461/106461 [==============================] - 4s 40us/step - loss: 0.1919 - val_loss: 0.1937\nEpoch 34/50\n106461/106461 [==============================] - 4s 38us/step - loss: 0.1906 - val_loss: 0.1922\nEpoch 35/50\n106461/106461 [==============================] - 4s 38us/step - loss: 0.1893 - val_loss: 0.1909\nEpoch 36/50\n106461/106461 [==============================] - 4s 38us/step - loss: 0.1881 - val_loss: 0.1904\nEpoch 37/50\n106461/106461 [==============================] - 4s 38us/step - loss: 0.1870 - val_loss: 0.1884\nEpoch 38/50\n106461/106461 [==============================] - 4s 37us/step - loss: 0.1858 - val_loss: 0.1875\nEpoch 39/50\n106461/106461 [==============================] - 4s 37us/step - loss: 0.1848 - val_loss: 0.1862\nEpoch 40/50\n106461/106461 [==============================] - 4s 38us/step - loss: 0.1837 - val_loss: 0.1851\nEpoch 41/50\n106461/106461 [==============================] - 4s 37us/step - loss: 0.1826 - val_loss: 0.1840\nEpoch 42/50\n106461/106461 [==============================] - 4s 38us/step - loss: 0.1817 - val_loss: 0.1830\nEpoch 43/50\n106461/106461 [==============================] - 4s 37us/step - loss: 0.1807 - val_loss: 0.1821\nEpoch 44/50\n106461/106461 [==============================] - 4s 39us/step - loss: 0.1798 - val_loss: 0.1811\nEpoch 45/50\n106461/106461 [==============================] - 4s 37us/step - loss: 0.1788 - val_loss: 0.1803\nEpoch 46/50\n106461/106461 [==============================] - 4s 38us/step - loss: 0.1779 - val_loss: 0.1802\nEpoch 47/50\n106461/106461 [==============================] - 4s 38us/step - loss: 0.1771 - val_loss: 0.1784\nEpoch 48/50\n106461/106461 [==============================] - 4s 38us/step - loss: 0.1761 - val_loss: 0.1776\nEpoch 49/50\n106461/106461 [==============================] - 4s 37us/step - loss: 0.1753 - val_loss: 0.1771\nEpoch 50/50\n106461/106461 [==============================] - 4s 38us/step - loss: 0.1744 - val_loss: 0.1759\n53230/53230 [==============================] - 1s 12us/step\nTrain on 106461 samples, validate on 39923 samples\nEpoch 1/50\n106461/106461 [==============================] - 4s 39us/step - loss: 0.5232 - val_loss: 0.4282\nEpoch 2/50\n106461/106461 [==============================] - 4s 38us/step - loss: 0.3764 - val_loss: 0.3464\nEpoch 3/50\n106461/106461 [==============================] - 4s 38us/step - loss: 0.3205 - val_loss: 0.3075\nEpoch 4/50\n106461/106461 [==============================] - 4s 38us/step - loss: 0.2914 - val_loss: 0.2857\nEpoch 5/50\n106461/106461 [==============================] - 4s 38us/step - loss: 0.2744 - val_loss: 0.2723\nEpoch 6/50\n106461/106461 [==============================] - 4s 38us/step - loss: 0.2637 - val_loss: 0.2636\nEpoch 7/50\n106461/106461 [==============================] - 4s 39us/step - loss: 0.2559 - val_loss: 0.2562\nEpoch 8/50\n106461/106461 [==============================] - 4s 38us/step - loss: 0.2497 - val_loss: 0.2508\nEpoch 9/50\n106461/106461 [==============================] - 4s 38us/step - loss: 0.2448 - val_loss: 0.2470\nEpoch 10/50\n106461/106461 [==============================] - 4s 39us/step - loss: 0.2406 - val_loss: 0.2429\nEpoch 11/50\n106461/106461 [==============================] - 4s 37us/step - loss: 0.2371 - val_loss: 0.2396\nEpoch 12/50\n106461/106461 [==============================] - 4s 38us/step - loss: 0.2340 - val_loss: 0.2364\nEpoch 13/50\n106461/106461 [==============================] - 4s 38us/step - loss: 0.2312 - val_loss: 0.2338\nEpoch 14/50\n106461/106461 [==============================] - 4s 39us/step - loss: 0.2286 - val_loss: 0.2315\nEpoch 15/50\n106461/106461 [==============================] - 4s 39us/step - loss: 0.2262 - val_loss: 0.2291\nEpoch 16/50\n106461/106461 [==============================] - 4s 38us/step - loss: 0.2240 - val_loss: 0.2269\nEpoch 17/50\n106461/106461 [==============================] - 4s 38us/step - loss: 0.2220 - val_loss: 0.2249\nEpoch 18/50\n106461/106461 [==============================] - 4s 38us/step - loss: 0.2201 - val_loss: 0.2235\nEpoch 19/50\n106461/106461 [==============================] - 4s 39us/step - loss: 0.2182 - val_loss: 0.2215\nEpoch 20/50\n106461/106461 [==============================] - 4s 38us/step - loss: 0.2164 - val_loss: 0.2205\nEpoch 21/50\n106461/106461 [==============================] - 4s 40us/step - loss: 0.2147 - val_loss: 0.2177\nEpoch 22/50\n106461/106461 [==============================] - 4s 41us/step - loss: 0.2129 - val_loss: 0.2163\nEpoch 23/50\n106461/106461 [==============================] - 4s 41us/step - loss: 0.2113 - val_loss: 0.2148\nEpoch 24/50\n106461/106461 [==============================] - 4s 40us/step - loss: 0.2098 - val_loss: 0.2133\nEpoch 25/50\n106461/106461 [==============================] - 4s 41us/step - loss: 0.2084 - val_loss: 0.2116\nEpoch 26/50\n106461/106461 [==============================] - 4s 41us/step - loss: 0.2069 - val_loss: 0.2104\nEpoch 27/50\n106461/106461 [==============================] - 4s 41us/step - loss: 0.2055 - val_loss: 0.2091\nEpoch 28/50\n106461/106461 [==============================] - 4s 40us/step - loss: 0.2041 - val_loss: 0.2079\nEpoch 29/50\n106461/106461 [==============================] - 4s 40us/step - loss: 0.2029 - val_loss: 0.2064\nEpoch 30/50\n106461/106461 [==============================] - 4s 40us/step - loss: 0.2016 - val_loss: 0.2054\nEpoch 31/50\n106461/106461 [==============================] - 4s 40us/step - loss: 0.2003 - val_loss: 0.2041\nEpoch 32/50\n106461/106461 [==============================] - 4s 38us/step - loss: 0.1991 - val_loss: 0.2033\nEpoch 33/50\n106461/106461 [==============================] - 4s 38us/step - loss: 0.1979 - val_loss: 0.2017\nEpoch 34/50\n106461/106461 [==============================] - 4s 38us/step - loss: 0.1968 - val_loss: 0.2010\nEpoch 35/50\n106461/106461 [==============================] - 4s 38us/step - loss: 0.1957 - val_loss: 0.1996\nEpoch 36/50\n106461/106461 [==============================] - 4s 38us/step - loss: 0.1947 - val_loss: 0.1987\nEpoch 37/50\n106461/106461 [==============================] - 4s 38us/step - loss: 0.1938 - val_loss: 0.1980\nEpoch 38/50\n106461/106461 [==============================] - 4s 38us/step - loss: 0.1928 - val_loss: 0.1965\nEpoch 39/50\n106461/106461 [==============================] - 4s 39us/step - loss: 0.1919 - val_loss: 0.1957\nEpoch 40/50\n106461/106461 [==============================] - 4s 38us/step - loss: 0.1911 - val_loss: 0.1951\nEpoch 41/50\n106461/106461 [==============================] - 4s 39us/step - loss: 0.1903 - val_loss: 0.1943\nEpoch 42/50\n106461/106461 [==============================] - 4s 37us/step - loss: 0.1896 - val_loss: 0.1933\nEpoch 43/50\n106461/106461 [==============================] - 4s 38us/step - loss: 0.1889 - val_loss: 0.1926\nEpoch 44/50\n106461/106461 [==============================] - 4s 38us/step - loss: 0.1881 - val_loss: 0.1924\nEpoch 45/50\n106461/106461 [==============================] - 4s 39us/step - loss: 0.1874 - val_loss: 0.1915\nEpoch 46/50\n106461/106461 [==============================] - 4s 37us/step - loss: 0.1866 - val_loss: 0.1905\nEpoch 47/50\n106461/106461 [==============================] - 4s 39us/step - loss: 0.1858 - val_loss: 0.1896\nEpoch 48/50\n106461/106461 [==============================] - 4s 38us/step - loss: 0.1850 - val_loss: 0.1889\nEpoch 49/50\n106461/106461 [==============================] - 4s 39us/step - loss: 0.1844 - val_loss: 0.1880\nEpoch 50/50\n106461/106461 [==============================] - 4s 39us/step - loss: 0.1837 - val_loss: 0.1875\n53230/53230 [==============================] - 1s 13us/step\n"
    },
    {
     "output_type": "error",
     "ename": "RuntimeError",
     "evalue": "Cannot clone object <keras.wrappers.scikit_learn.KerasRegressor object at 0x0000029D7D3C3E80>, as the constructor either does not set or modifies parameter learning_rate",
     "traceback": [
      "\u001b[1;31m---------------------------------------------------------------------------\u001b[0m",
      "\u001b[1;31mRuntimeError\u001b[0m                              Traceback (most recent call last)",
      "\u001b[1;32m<ipython-input-8-b4f324da7ee5>\u001b[0m in \u001b[0;36m<module>\u001b[1;34m\u001b[0m\n\u001b[0;32m     26\u001b[0m \u001b[1;33m\u001b[0m\u001b[0m\n\u001b[0;32m     27\u001b[0m \u001b[1;31m# Train model\u001b[0m\u001b[1;33m\u001b[0m\u001b[1;33m\u001b[0m\u001b[0m\n\u001b[1;32m---> 28\u001b[1;33m \u001b[0mrnd_search_cv\u001b[0m\u001b[1;33m.\u001b[0m\u001b[0mfit\u001b[0m\u001b[1;33m(\u001b[0m \u001b[0mX_train\u001b[0m\u001b[1;33m,\u001b[0m \u001b[0my_train\u001b[0m\u001b[1;33m,\u001b[0m \u001b[0mepochs\u001b[0m \u001b[1;33m=\u001b[0m \u001b[1;36m50\u001b[0m\u001b[1;33m,\u001b[0m \u001b[0mvalidation_data\u001b[0m \u001b[1;33m=\u001b[0m\u001b[1;33m(\u001b[0m\u001b[0mX_test\u001b[0m\u001b[1;33m,\u001b[0m \u001b[0my_test\u001b[0m\u001b[1;33m)\u001b[0m\u001b[1;33m,\u001b[0m \u001b[0mcallbacks\u001b[0m \u001b[1;33m=\u001b[0m\u001b[1;33m[\u001b[0m\u001b[0mcheckpoint_cb\u001b[0m\u001b[1;33m,\u001b[0m \u001b[0mearlystop_cb\u001b[0m\u001b[1;33m]\u001b[0m\u001b[1;33m)\u001b[0m\u001b[1;33m\u001b[0m\u001b[0m\n\u001b[0m",
      "\u001b[1;32mC:\\Developer\\Python\\Python366\\lib\\site-packages\\sklearn\\model_selection\\_search.py\u001b[0m in \u001b[0;36mfit\u001b[1;34m(self, X, y, groups, **fit_params)\u001b[0m\n\u001b[0;32m    734\u001b[0m             \u001b[1;31m# of the params are estimators as well.\u001b[0m\u001b[1;33m\u001b[0m\u001b[1;33m\u001b[0m\u001b[0m\n\u001b[0;32m    735\u001b[0m             self.best_estimator_ = clone(clone(base_estimator).set_params(\n\u001b[1;32m--> 736\u001b[1;33m                 **self.best_params_))\n\u001b[0m\u001b[0;32m    737\u001b[0m             \u001b[0mrefit_start_time\u001b[0m \u001b[1;33m=\u001b[0m \u001b[0mtime\u001b[0m\u001b[1;33m.\u001b[0m\u001b[0mtime\u001b[0m\u001b[1;33m(\u001b[0m\u001b[1;33m)\u001b[0m\u001b[1;33m\u001b[0m\u001b[0m\n\u001b[0;32m    738\u001b[0m             \u001b[1;32mif\u001b[0m \u001b[0my\u001b[0m \u001b[1;32mis\u001b[0m \u001b[1;32mnot\u001b[0m \u001b[1;32mNone\u001b[0m\u001b[1;33m:\u001b[0m\u001b[1;33m\u001b[0m\u001b[0m\n",
      "\u001b[1;32mC:\\Developer\\Python\\Python366\\lib\\site-packages\\sklearn\\base.py\u001b[0m in \u001b[0;36mclone\u001b[1;34m(estimator, safe)\u001b[0m\n\u001b[0;32m     80\u001b[0m             raise RuntimeError('Cannot clone object %s, as the constructor '\n\u001b[0;32m     81\u001b[0m                                \u001b[1;34m'either does not set or modifies parameter %s'\u001b[0m \u001b[1;33m%\u001b[0m\u001b[1;33m\u001b[0m\u001b[0m\n\u001b[1;32m---> 82\u001b[1;33m                                (estimator, name))\n\u001b[0m\u001b[0;32m     83\u001b[0m     \u001b[1;32mreturn\u001b[0m \u001b[0mnew_object\u001b[0m\u001b[1;33m\u001b[0m\u001b[0m\n\u001b[0;32m     84\u001b[0m \u001b[1;33m\u001b[0m\u001b[0m\n",
      "\u001b[1;31mRuntimeError\u001b[0m: Cannot clone object <keras.wrappers.scikit_learn.KerasRegressor object at 0x0000029D7D3C3E80>, as the constructor either does not set or modifies parameter learning_rate"
     ]
    }
   ],
   "source": [
    "# Multilayer Perceptron (Target - Rotor Temperature)\n",
    "\n",
    "# Clear existing models\n",
    "keras.backend.clear_session()\n",
    "\n",
    "# Parameter distribution\n",
    "param_distribs = { \n",
    "    \"n_hidden\": [1, 2, 4], \n",
    "    \"n_neurons\": np.arange(1, 100), \n",
    "    \"learning_rate\": reciprocal(3e-4, 3e-2)\n",
    "    }\n",
    "\n",
    "# Build model\n",
    "wrapped_model = keras_helpers.wrap_model()\n",
    "\n",
    "# Initialise Random Search\n",
    "rnd_search_cv = RandomizedSearchCV(wrapped_model, param_distribs, n_iter = 10, cv = 3)\n",
    "\n",
    "# Name model file\n",
    "model_id = keras_helpers.name_model()\n",
    "filepath_full = keras_helpers.make_save_string(model_id)\n",
    "\n",
    "# Set save & earlystop callbacks\n",
    "earlystop_cb = keras.callbacks.EarlyStopping(patience = 5)\n",
    "checkpoint_cb = keras.callbacks.ModelCheckpoint(filepath = filepath_full, save_best_only = True)\n",
    "\n",
    "# Train model\n",
    "rnd_search_cv.fit( X_train, y_train, epochs = 50, validation_data =(X_test, y_test), callbacks =[checkpoint_cb, earlystop_cb])"
   ]
  },
  {
   "cell_type": "code",
   "execution_count": 9,
   "metadata": {
    "tags": []
   },
   "outputs": [
    {
     "output_type": "stream",
     "name": "stdout",
     "text": "798456/798456 [==============================] - 10s 12us/step\n"
    },
    {
     "output_type": "execute_result",
     "data": {
      "text/plain": "0.11478357165518864"
     },
     "metadata": {},
     "execution_count": 9
    }
   ],
   "source": [
    "# Load model\n",
    "filepath = r'C:\\Developer\\electric_motor_thermal_modelling\\Models\\YC_model_2020_07_23-12_37_34.h5'\n",
    "\n",
    "model = keras.models.load_model(filepath)\n",
    "\n",
    "model.evaluate(rotor_test_data, rotor_test_label)"
   ]
  }
 ],
 "metadata": {
  "language_info": {
   "codemirror_mode": {
    "name": "ipython",
    "version": 3
   },
   "file_extension": ".py",
   "mimetype": "text/x-python",
   "name": "python",
   "nbconvert_exporter": "python",
   "pygments_lexer": "ipython3",
   "version": 3
  },
  "orig_nbformat": 2,
  "kernelspec": {
   "name": "python_defaultSpec_1595870140550",
   "display_name": "Python 3.6.6 64-bit"
  }
 },
 "nbformat": 4,
 "nbformat_minor": 2
}