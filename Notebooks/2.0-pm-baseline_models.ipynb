{
 "cells": [
  {
   "cell_type": "code",
   "execution_count": 1,
   "metadata": {},
   "outputs": [
    {
     "output_type": "error",
     "ename": "NameError",
     "evalue": "name 'sklearn' is not defined",
     "traceback": [
      "\u001b[1;31m---------------------------------------------------------------------------\u001b[0m",
      "\u001b[1;31mNameError\u001b[0m                                 Traceback (most recent call last)",
      "\u001b[1;32m<ipython-input-1-9917268e7e57>\u001b[0m in \u001b[0;36m<module>\u001b[1;34m\u001b[0m\n\u001b[0;32m     13\u001b[0m \u001b[1;33m\u001b[0m\u001b[0m\n\u001b[0;32m     14\u001b[0m \u001b[1;31m# Print versioning information\u001b[0m\u001b[1;33m\u001b[0m\u001b[1;33m\u001b[0m\u001b[0m\n\u001b[1;32m---> 15\u001b[1;33m \u001b[0mprint\u001b[0m\u001b[1;33m(\u001b[0m\u001b[0msklearn\u001b[0m\u001b[1;33m.\u001b[0m\u001b[0m__version__\u001b[0m\u001b[1;33m)\u001b[0m\u001b[1;33m\u001b[0m\u001b[0m\n\u001b[0m",
      "\u001b[1;31mNameError\u001b[0m: name 'sklearn' is not defined"
     ]
    }
   ],
   "source": [
    "# Module Importations\n",
    "import numpy as np\n",
    "import pandas as pd\n",
    "import time\n",
    "from sklearn.ensemble import RandomForestRegressor\n",
    "from sklearn.linear_model import LinearRegression\n",
    "from sklearn.metrics import mean_absolute_error\n",
    "from sklearn.metrics import mean_squared_error\n",
    "from sklearn.model_selection import cross_val_score\n",
    "from sklearn.preprocessing import PolynomialFeatures\n",
    "from sklearn.svm import SVR\n",
    "from sklearn.tree import DecisionTreeRegressor\n",
    "\n",
    "# Print versioning information\n",
    "print(sklearn.__version__)"
   ]
  },
  {
   "cell_type": "code",
   "execution_count": 2,
   "metadata": {},
   "outputs": [],
   "source": [
    "# Project Module Importations\n",
    "from src.data import load_data\n",
    "from src.data import split_data\n",
    "from src.features import hyperparameter_opt\n",
    "from src.models import model_evaluation\n",
    "from src.models import sklearn_helpers"
   ]
  },
  {
   "cell_type": "code",
   "execution_count": 3,
   "metadata": {
    "tags": []
   },
   "outputs": [],
   "source": [
    "# Load dataset\n",
    "original_dataset = load_data.load_motor_data()"
   ]
  },
  {
   "cell_type": "code",
   "execution_count": 4,
   "metadata": {},
   "outputs": [],
   "source": [
    "# Split data into training / evaluation sets\n",
    "training_set, test_set = split_data.split_train_test(original_dataset, 0.8)"
   ]
  },
  {
   "cell_type": "code",
   "execution_count": 5,
   "metadata": {
    "tags": []
   },
   "outputs": [
    {
     "output_type": "stream",
     "name": "stdout",
     "text": "ambient        coolant            u_d            u_q  \\\ncount  199614.000000  199614.000000  199614.000000  199614.000000   \nmean       -0.005043       0.005308       0.003792      -0.005359   \nstd         0.996490       1.002488       0.998747       1.001464   \nmin        -5.239872      -1.270450      -1.654002      -1.852853   \n25%        -0.601386      -1.037872      -0.831843      -0.924537   \n50%         0.266671      -0.178200       0.267391      -0.098490   \n75%         0.686838       0.673512       0.358587       0.848608   \nmax         2.954662       2.296845       2.273808       1.788773   \n\n         motor_speed         torque            i_d            i_q  \\\ncount  199614.000000  199614.000000  199614.000000  199614.000000   \nmean       -0.004852      -0.001687       0.004184      -0.001570   \nstd         1.001954       0.998525       0.999021       0.998389   \nmin        -1.353747      -3.339106      -3.235659      -3.329749   \n25%        -0.951892      -0.267419      -0.759524      -0.257273   \n50%        -0.140246      -0.186549       0.206151      -0.183473   \n75%         0.856986       0.548676       1.013975       0.501003   \nmax         2.024162       3.016479       1.060718       2.914179   \n\n                  pm    stator_yoke   stator_tooth  stator_winding  \ncount  199614.000000  199614.000000  199614.000000   199614.000000  \nmean       -0.004875       0.001077      -0.001664       -0.003221  \nstd         0.997822       1.002443       1.000849        0.998714  \nmin        -2.631581      -1.833552      -2.063137       -2.019349  \n25%        -0.677244      -0.747915      -0.761951       -0.725616  \n50%         0.095507      -0.057212       0.005475        0.008515  \n75%         0.682715       0.698267       0.772167        0.729825  \nmax         2.917456       2.443347       2.325405        2.633611  \n"
    }
   ],
   "source": [
    "# Drop profile id data column (both sets)\n",
    "training_set = training_set.drop(\"profile_id\", axis = 1)\n",
    "print(training_set.describe())\n",
    "\n",
    "test_set = test_set.drop(\"profile_id\", axis = 1)"
   ]
  },
  {
   "cell_type": "code",
   "execution_count": 6,
   "metadata": {},
   "outputs": [],
   "source": [
    "# Create rotor target\n",
    "rotor_training_data = training_set.drop(\"pm\", axis = 1)\n",
    "rotor_label_data = training_set[\"pm\"].copy()\n",
    "\n",
    "rotor_test_data = test_set.drop(\"pm\", axis = 1)\n",
    "rotor_test_label_data = test_set[\"pm\"].copy()"
   ]
  },
  {
   "cell_type": "code",
   "execution_count": 7,
   "metadata": {
    "tags": []
   },
   "outputs": [
    {
     "output_type": "stream",
     "name": "stdout",
     "text": "Save Path: C:\\Developer\\electric_motor_thermal_modelling\\Models\\YC_LinRegr_2020_08_18-13_36_53.pkl\nLinear Regression rmse mean (cv): 0.4749361664649533\nLinear Regression rmse std (cv): 0.0021400886517142672\nLinear Regression mae mean (cv): 0.3614280996261001\nLinear Regression mae (cv): 0.0016560246676062818\nPrediction Time: 0.140625\nLinear Regression rmse (Eval): 0.4753533122550699\nLinear Regression mae (Eval): 0.36201495208919415\nLinear Regression r2 (Eval): 0.7718320737434563\n"
    }
   ],
   "source": [
    "# Linear Regression Model (Target - Rotor Temperature)\n",
    "lin_reg = LinearRegression()\n",
    "lin_reg.fit(rotor_training_data, rotor_label_data)\n",
    "\n",
    "# Name model\n",
    "model_type = \"LinRegr\"\n",
    "model_name = sklearn_helpers.name_model(model_type)\n",
    "\n",
    "# Save model\n",
    "sklearn_helpers.save_model(lin_reg, model_name)\n",
    "\n",
    "# Compute RMSE via cross validation\n",
    "scores_mse = cross_val_score(lin_reg, rotor_training_data, rotor_label_data, scoring = \"neg_mean_squared_error\", cv = 5)\n",
    "scores_rmse = np.sqrt(-scores_mse)\n",
    "\n",
    "# Compute MAE via cross validation\n",
    "scores_mae = cross_val_score(lin_reg, rotor_training_data, rotor_label_data, scoring = \"neg_mean_absolute_error\", cv = 5)\n",
    "scores_mae = -1 * scores_mae\n",
    "\n",
    "# Print CV results\n",
    "model_name = \"Linear Regression\"\n",
    "print(model_name, \"rmse mean (cv):\", scores_rmse.mean())\n",
    "print(model_name, \"rmse std (cv):\", scores_rmse.std())\n",
    "\n",
    "print(model_name, \"mae mean (cv):\", scores_mae.mean())\n",
    "print(model_name, \"mae (cv):\", scores_mae.std())\n",
    "\n",
    "# Evaluation\n",
    "start_time = time.process_time()\n",
    "rotor_pred_eval = lin_reg.predict(rotor_test_data)\n",
    "end_time = time.process_time()\n",
    "print(\"Prediction Time:\", (end_time-start_time))\n",
    "\n",
    "model_evaluation.evaluate_model(model_name, rotor_test_label_data, rotor_pred_eval)"
   ]
  },
  {
   "cell_type": "code",
   "execution_count": 8,
   "metadata": {
    "tags": []
   },
   "outputs": [
    {
     "output_type": "stream",
     "name": "stdout",
     "text": "Save Path: C:\\Developer\\electric_motor_thermal_modelling\\Models\\YC_LinRegrPoly_2020_08_18-13_36_56.pkl\nLinear Regression - Polynomial rmse mean (cv): 0.41047276311126407\nLinear Regression - Polynomial rmse std (cv): 0.004807933470279054\nLinear Regression - Polynomial mae mean (cv): 0.30105790569514473\nLinear Regression - Polynomial mae std (cv): 0.0012163879552887916\nPrediction Time: 0.359375\nLinear Regression - Polynomial rmse (Eval): 0.4088304713024484\nLinear Regression - Polynomial mae (Eval): 0.30157356945924835\nLinear Regression - Polynomial r2 (Eval): 0.8312250214320183\n"
    }
   ],
   "source": [
    "# Polynomial Regression Model (Target - Rotor Temperature)\n",
    "lin_reg_poly = LinearRegression()\n",
    "\n",
    "# Create polynomial dataset\n",
    "poly_features = PolynomialFeatures(degree = 2, include_bias = False)\n",
    "rotor_training_poly = poly_features.fit_transform(rotor_training_data)\n",
    "\n",
    "lin_reg_poly.fit(rotor_training_poly, rotor_label_data)\n",
    "\n",
    "# Name model\n",
    "model_type = \"LinRegrPoly\"\n",
    "model_name = sklearn_helpers.name_model(model_type)\n",
    "\n",
    "# Save model\n",
    "sklearn_helpers.save_model(lin_reg_poly, model_name)\n",
    "\n",
    "# Compute RMSE via cross validation\n",
    "scores_mse = cross_val_score(lin_reg_poly, rotor_training_poly, rotor_label_data, scoring = \"neg_mean_squared_error\", cv = 5)\n",
    "scores_rmse = np.sqrt(-scores_mse)\n",
    "\n",
    "# Compute MAE via cross validation\n",
    "scores_mae = cross_val_score(lin_reg_poly, rotor_training_poly, rotor_label_data, scoring = \"neg_mean_absolute_error\", cv = 5)\n",
    "scores_mae = -1 * scores_mae\n",
    "\n",
    "# Print results\n",
    "model_name = \"Linear Regression - Polynomial\"\n",
    "print(model_name, \"rmse mean (cv):\", scores_rmse.mean())\n",
    "print(model_name, \"rmse std (cv):\", scores_rmse.std())\n",
    "\n",
    "print(model_name, \"mae mean (cv):\", scores_mae.mean())\n",
    "print(model_name, \"mae std (cv):\", scores_mae.std())\n",
    "\n",
    "# Evaluation\n",
    "rotor_test_poly = poly_features.fit_transform(rotor_test_data)\n",
    "\n",
    "start_time = time.process_time()\n",
    "rotor_pred_eval = lin_reg_poly.predict(rotor_test_poly)\n",
    "end_time = time.process_time()\n",
    "print(\"Prediction Time:\", (end_time-start_time))\n",
    "\n",
    "model_evaluation.evaluate_model(model_name, rotor_test_label_data, rotor_pred_eval)"
   ]
  },
  {
   "cell_type": "code",
   "execution_count": 12,
   "metadata": {
    "tags": []
   },
   "outputs": [
    {
     "output_type": "stream",
     "name": "stdout",
     "text": "Save Path: C:\\Developer\\electric_motor_thermal_modelling\\Models\\YC_TreeRegr_2020_08_18-13_47_54.pkl\nDecision Tree Regressor rmse mean (cv): 0.3504104857362644\nDecision Tree Regressor rmse std (cv): 0.005694952390642156\nDecision Tree Regressor mae mean (cv): 0.2382755489172744\nDecision Tree Regressor mae std (cv): 0.00283718682592299\nPrediction Time: 0.109375\nDecision Tree Regressor rmse (Eval): 0.3575495777190468\nDecision Tree Regressor mae (Eval): 0.2420279645954203\nDecision Tree Regressor r2 (Eval): 0.8709095587328388\n"
    }
   ],
   "source": [
    "# Decision Tree Regressor Model (Target - Rotor Temperature)\n",
    "tree_regr = DecisionTreeRegressor(max_depth = 10)\n",
    "tree_regr.fit(rotor_training_data, rotor_label_data)\n",
    "\n",
    "# Name model\n",
    "model_type = \"TreeRegr\"\n",
    "model_name = sklearn_helpers.name_model(model_type)\n",
    "\n",
    "# Save model\n",
    "sklearn_helpers.save_model(tree_regr, model_name)\n",
    "\n",
    "# Compute RMSE via cross validation\n",
    "scores_mse = cross_val_score(tree_regr, rotor_training_data, rotor_label_data, scoring = \"neg_mean_squared_error\", cv = 5)\n",
    "scores_rmse = np.sqrt(-scores_mse)\n",
    "\n",
    "# Compute MAE via cross validation\n",
    "scores_mae = cross_val_score(tree_regr, rotor_training_data, rotor_label_data, scoring = \"neg_mean_absolute_error\", cv = 5)\n",
    "scores_mae = -1 * scores_mae\n",
    "\n",
    "# Print results\n",
    "model_name = \"Decision Tree Regressor\"\n",
    "print(model_name, \"rmse mean (cv):\", scores_rmse.mean())\n",
    "print(model_name, \"rmse std (cv):\", scores_rmse.std())\n",
    "\n",
    "print(model_name, \"mae mean (cv):\", scores_mae.mean())\n",
    "print(model_name, \"mae std (cv):\", scores_mae.std())\n",
    "\n",
    "# Evaluation\n",
    "start_time = time.process_time()\n",
    "rotor_pred_eval = tree_regr.predict(rotor_test_data)\n",
    "end_time = time.process_time()\n",
    "print(\"Prediction Time:\", (end_time-start_time))\n",
    "\n",
    "model_evaluation.evaluate_model(model_name, rotor_test_label_data, rotor_pred_eval)"
   ]
  },
  {
   "cell_type": "code",
   "execution_count": 13,
   "metadata": {
    "tags": []
   },
   "outputs": [
    {
     "output_type": "stream",
     "name": "stdout",
     "text": "Save Path: C:\\Developer\\electric_motor_thermal_modelling\\Models\\YC_ForestRegr_2020_08_18-13_51_09.pkl\nRandom Forest Regressor rmse mean (cv): 0.3150629005588953\nRandom Forest Regressor rmse std (cv): 0.003849557906891769\nRandom Forest Regressor mae mean (cv): 0.21474772610078707\nRandom Forest Regressor mae std (cv): 0.001039992296539934\nPrediction Time: 7.90625\nRandom Forest Regressor rmse (Eval): 0.3175761336966866\nRandom Forest Regressor mae (Eval): 0.21709793443228992\nRandom Forest Regressor r2 (Eval): 0.8981602649706539\n"
    }
   ],
   "source": [
    "# Random Forest Regressor Model (Target - Rotor Temperature)\n",
    "forest_regr = RandomForestRegressor(max_depth = 10)\n",
    "forest_regr.fit(rotor_training_data, rotor_label_data)\n",
    "\n",
    "# Name model\n",
    "model_type = \"ForestRegr\"\n",
    "model_name = sklearn_helpers.name_model(model_type)\n",
    "\n",
    "# Save model\n",
    "sklearn_helpers.save_model(forest_regr, model_name)\n",
    "\n",
    "# Compute RMSE via cross validation\n",
    "scores_mse = cross_val_score(forest_regr, rotor_training_data, rotor_label_data, scoring = \"neg_mean_squared_error\", cv = 5)\n",
    "scores_rmse = np.sqrt(-scores_mse)\n",
    "\n",
    "# Compute MAE via cross validation\n",
    "scores_mae = cross_val_score(forest_regr, rotor_training_data, rotor_label_data, scoring = \"neg_mean_absolute_error\", cv = 5)\n",
    "scores_mae = -1 * scores_mae\n",
    "\n",
    "# Print results\n",
    "model_name = \"Random Forest Regressor\"\n",
    "print(model_name, \"rmse mean (cv):\", scores_rmse.mean())\n",
    "print(model_name, \"rmse std (cv):\", scores_rmse.std())\n",
    "\n",
    "print(model_name, \"mae mean (cv):\", scores_mae.mean())\n",
    "print(model_name, \"mae std (cv):\", scores_mae.std())\n",
    "\n",
    "# Evaluation\n",
    "start_time = time.process_time()\n",
    "rotor_pred_eval = forest_regr.predict(rotor_test_data)\n",
    "end_time = time.process_time()\n",
    "print(\"Prediction Time:\", (end_time-start_time))\n",
    "\n",
    "model_evaluation.evaluate_model(model_name, rotor_test_label_data, rotor_pred_eval)"
   ]
  },
  {
   "cell_type": "code",
   "execution_count": 14,
   "metadata": {
    "tags": []
   },
   "outputs": [
    {
     "output_type": "stream",
     "name": "stdout",
     "text": "Random Forest [Opt] - Best Params: {'max_features': 6, 'n_estimators': 30}\nRandom Forest [Opt] - Best Estimator: RandomForestRegressor(bootstrap=True, ccp_alpha=0.0, criterion='mse',\n                      max_depth=10, max_features=6, max_leaf_nodes=None,\n                      max_samples=None, min_impurity_decrease=0.0,\n                      min_impurity_split=None, min_samples_leaf=1,\n                      min_samples_split=2, min_weight_fraction_leaf=0.0,\n                      n_estimators=30, n_jobs=None, oob_score=False,\n                      random_state=None, verbose=0, warm_start=False)\nRandom Forest [Opt] - Best Score: 0.2932631799720049\nPrediction Time: 2.9375\nRandom Forest [Opt] rmse (Eval): 0.29560805972496706\nRandom Forest [Opt] mae (Eval): 0.2087737897080213\nRandom Forest [Opt] r2 (Eval): 0.9117623185065785\n"
    }
   ],
   "source": [
    "# Random Forest Regressor - Optimised Hyperparameters\n",
    "forest_regr = RandomForestRegressor(max_depth = 10)\n",
    "\n",
    "model_name = \"Random Forest [Opt]\"\n",
    "\n",
    "best_params, best_est, best_score = hyperparameter_opt.perform_gridsearch(model_name, forest_regr, rotor_training_data, rotor_label_data)\n",
    "\n",
    "# Evaluation\n",
    "start_time = time.process_time()\n",
    "rotor_pred_eval = best_est.predict(rotor_test_data)\n",
    "end_time = time.process_time()\n",
    "print(\"Prediction Time:\", (end_time-start_time))\n",
    "\n",
    "model_evaluation.evaluate_model(model_name, rotor_test_label_data, rotor_pred_eval)"
   ]
  }
 ],
 "metadata": {
  "language_info": {
   "codemirror_mode": {
    "name": "ipython",
    "version": 3
   },
   "file_extension": ".py",
   "mimetype": "text/x-python",
   "name": "python",
   "nbconvert_exporter": "python",
   "pygments_lexer": "ipython3",
   "version": "3.6.6-final"
  },
  "orig_nbformat": 2,
  "kernelspec": {
   "name": "python36664bitd546b3131dc04b45b27adb02c244c21c",
   "display_name": "Python 3.6.6 64-bit"
  }
 },
 "nbformat": 4,
 "nbformat_minor": 2
}