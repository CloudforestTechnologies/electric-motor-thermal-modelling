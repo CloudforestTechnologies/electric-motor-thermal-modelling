{
 "cells": [
  {
   "cell_type": "code",
   "execution_count": 11,
   "metadata": {},
   "outputs": [],
   "source": [
    "# Module Importations\n",
    "import numpy as np\n",
    "import pandas as pd\n",
    "from sklearn.ensemble import RandomForestRegressor\n",
    "from sklearn.linear_model import LinearRegression\n",
    "from sklearn.metrics import mean_absolute_error\n",
    "from sklearn.metrics import mean_squared_error\n",
    "from sklearn.model_selection import cross_val_score\n",
    "from sklearn.preprocessing import PolynomialFeatures\n",
    "from sklearn.svm import SVR\n",
    "from sklearn.tree import DecisionTreeRegressor"
   ]
  },
  {
   "cell_type": "code",
   "execution_count": 12,
   "metadata": {},
   "outputs": [],
   "source": [
    "# Project Module Importations\n",
    "from src.data import load_data\n",
    "from src.data import split_data\n",
    "from src.features import hyperparameter_opt\n",
    "from src.models import model_evaluation"
   ]
  },
  {
   "cell_type": "code",
   "execution_count": 13,
   "metadata": {
    "tags": []
   },
   "outputs": [],
   "source": [
    "# Load dataset.\n",
    "original_dataset = load_data.load_motor_data()"
   ]
  },
  {
   "cell_type": "code",
   "execution_count": 14,
   "metadata": {},
   "outputs": [],
   "source": [
    "# Split data into training / evaluation sets\n",
    "training_set, test_set = split_data.split_train_test(original_dataset, 0.8)"
   ]
  },
  {
   "cell_type": "code",
   "execution_count": 15,
   "metadata": {
    "tags": []
   },
   "outputs": [
    {
     "output_type": "stream",
     "name": "stdout",
     "text": "ambient        coolant            u_d            u_q  \\\ncount  199614.000000  199614.000000  199614.000000  199614.000000   \nmean       -0.005043       0.005308       0.003792      -0.005359   \nstd         0.996490       1.002488       0.998747       1.001464   \nmin        -5.239872      -1.270450      -1.654002      -1.852853   \n25%        -0.601386      -1.037872      -0.831843      -0.924537   \n50%         0.266671      -0.178200       0.267391      -0.098490   \n75%         0.686838       0.673512       0.358587       0.848608   \nmax         2.954662       2.296845       2.273808       1.788773   \n\n         motor_speed         torque            i_d            i_q  \\\ncount  199614.000000  199614.000000  199614.000000  199614.000000   \nmean       -0.004852      -0.001687       0.004184      -0.001570   \nstd         1.001954       0.998525       0.999021       0.998389   \nmin        -1.353747      -3.339106      -3.235659      -3.329749   \n25%        -0.951892      -0.267419      -0.759524      -0.257273   \n50%        -0.140246      -0.186549       0.206151      -0.183473   \n75%         0.856986       0.548676       1.013975       0.501003   \nmax         2.024162       3.016479       1.060718       2.914179   \n\n                  pm    stator_yoke   stator_tooth  stator_winding  \ncount  199614.000000  199614.000000  199614.000000   199614.000000  \nmean       -0.004875       0.001077      -0.001664       -0.003221  \nstd         0.997822       1.002443       1.000849        0.998714  \nmin        -2.631581      -1.833552      -2.063137       -2.019349  \n25%        -0.677244      -0.747915      -0.761951       -0.725616  \n50%         0.095507      -0.057212       0.005475        0.008515  \n75%         0.682715       0.698267       0.772167        0.729825  \nmax         2.917456       2.443347       2.325405        2.633611  \n"
    }
   ],
   "source": [
    "# Drop profile id data column (both sets)\n",
    "training_set = training_set.drop(\"profile_id\", axis = 1)\n",
    "print(training_set.describe())\n",
    "\n",
    "test_set = test_set.drop(\"profile_id\", axis = 1)"
   ]
  },
  {
   "cell_type": "code",
   "execution_count": 16,
   "metadata": {},
   "outputs": [],
   "source": [
    "# Create rotor target\n",
    "rotor_training_data = training_set.drop(\"pm\", axis = 1)\n",
    "rotor_label_data = training_set[\"pm\"].copy()\n",
    "\n",
    "rotor_test_data = test_set.drop(\"pm\", axis = 1)\n",
    "rotor_test_label_data = test_set[\"pm\"].copy()"
   ]
  },
  {
   "cell_type": "code",
   "execution_count": 17,
   "metadata": {
    "tags": []
   },
   "outputs": [
    {
     "output_type": "stream",
     "name": "stdout",
     "text": "Linear Regression Model RMSE Mean (train): 0.4749361664649533\nLinear Regression Model RMSE Standard Deviation (train): 0.0021400886517142672\nLinear Regression Model MAE Mean (train): 0.3614280996261001\nLinear Regression Model MAE Standard Deviation (train): 0.0016560246676062818\nrmse Evaluation: 0.4753533122550699\nmae Evaluation: 0.36201495208919415\nr2 Evaluation: 0.7718320737434564\n"
    }
   ],
   "source": [
    "# Linear Regression Model (Target - Rotor Temperature)\n",
    "lin_reg = LinearRegression()\n",
    "lin_reg.fit(rotor_training_data, rotor_label_data)\n",
    "\n",
    "# Compute RMSE via cross validation\n",
    "scores_mse = cross_val_score(lin_reg, rotor_training_data, rotor_label_data, scoring = \"neg_mean_squared_error\", cv = 5)\n",
    "scores_rmse = np.sqrt(-scores_mse)\n",
    "\n",
    "# Compute MAE via cross validation\n",
    "scores_mae = cross_val_score(lin_reg, rotor_training_data, rotor_label_data, scoring = \"neg_mean_absolute_error\", cv = 5)\n",
    "scores_mae = -1 * scores_mae\n",
    "\n",
    "# Evaluate on validation data\n",
    "\n",
    "#mse_eval = mean_squared_error(rotor_test_label_data, rotor_pred_eval)\n",
    "#rmse_eval = np.sqrt(mse_eval)\n",
    "#mae_eval = mean_absolute_error(rotor_test_label_data, rotor_pred_eval)\n",
    "#r2_eval = lin_reg.score(rotor_test_data, rotor_test_label_data)\n",
    "\n",
    "# Print CV results\n",
    "model_name = \"Linear Regression\"\n",
    "print(model_name, \"RMSE Mean (train):\", scores_rmse.mean())\n",
    "print(model_name, \"RMSE Standard Deviation (train):\", scores_rmse.std())\n",
    "\n",
    "print(model_name, \"MAE Mean (train):\", scores_mae.mean())\n",
    "print(model_name, \"MAE Standard Deviation (train):\", scores_mae.std())\n",
    "\n",
    "# Evaluation\n",
    "rotor_pred_eval = lin_reg.predict(rotor_test_data)\n",
    "\n",
    "\n",
    "#print(\"rmse Evaluation:\", rmse_eval)\n",
    "#print(\"mae Evaluation:\", mae_eval)\n",
    "#print(\"r2 Evaluation:\", r2_eval)"
   ]
  },
  {
   "cell_type": "code",
   "execution_count": 18,
   "metadata": {
    "tags": []
   },
   "outputs": [
    {
     "output_type": "stream",
     "name": "stdout",
     "text": "Linear Regression - Polynomial RMSE Mean: 0.41047276311126407\nLinear Regression - Polynomial RMSE Std: 0.004807933470279054\nLinear Regression - Polynomial MAE Mean: 0.30105790569514473\nLinear Regression - Polynomial MAE Std: 0.0012163879552887916\nrmse Evaluation: 0.4088304713024484\nmae Evaluation: 0.30157356945924835\nr2 Evaluation: 0.8312250214320183\n"
    }
   ],
   "source": [
    "# Polynomial Regression Model (Target - Rotor Temperature)\n",
    "lin_reg_poly = LinearRegression()\n",
    "\n",
    "# Create polynomial dataset\n",
    "poly_features = PolynomialFeatures(degree = 2, include_bias = False)\n",
    "rotor_training_poly = poly_features.fit_transform(rotor_training_data)\n",
    "\n",
    "lin_reg_poly.fit(rotor_training_poly, rotor_label_data)\n",
    "\n",
    "# Compute RMSE via cross validation\n",
    "scores_mse = cross_val_score(lin_reg_poly, rotor_training_poly, rotor_label_data, scoring = \"neg_mean_squared_error\", cv = 5)\n",
    "scores_rmse = np.sqrt(-scores_mse)\n",
    "\n",
    "# Compute MAE via cross validation\n",
    "scores_mae = cross_val_score(lin_reg_poly, rotor_training_poly, rotor_label_data, scoring = \"neg_mean_absolute_error\", cv = 5)\n",
    "scores_mae = -1 * scores_mae\n",
    "\n",
    "# Evaluate on validation data\n",
    "rotor_test_poly = poly_features.fit_transform(rotor_test_data)\n",
    "rotor_pred_eval = lin_reg_poly.predict(rotor_test_poly)\n",
    "mse_eval = mean_squared_error(rotor_test_label_data, rotor_pred_eval)\n",
    "rmse_eval = np.sqrt(mse_eval)\n",
    "mae_eval = mean_absolute_error(rotor_test_label_data, rotor_pred_eval)\n",
    "r2_eval = lin_reg_poly.score(rotor_test_poly, rotor_test_label_data)\n",
    "\n",
    "# Print results\n",
    "model_name = \"Linear Regression - Polynomial\"\n",
    "print(model_name, \"RMSE Mean:\", scores_rmse.mean())\n",
    "print(model_name, \"RMSE Std:\", scores_rmse.std())\n",
    "\n",
    "print(model_name, \"MAE Mean:\", scores_mae.mean())\n",
    "print(model_name, \"MAE Std:\", scores_mae.std())\n",
    "\n",
    "print(\"rmse Evaluation:\", rmse_eval)\n",
    "print(\"mae Evaluation:\", mae_eval)\n",
    "print(\"r2 Evaluation:\", r2_eval)"
   ]
  },
  {
   "cell_type": "code",
   "execution_count": 19,
   "metadata": {
    "tags": []
   },
   "outputs": [
    {
     "output_type": "stream",
     "name": "stdout",
     "text": "Decision Tree Regressor RMSE Mean: 0.12499158062819371\nDecision Tree Regressor RMSE Standard Deviation: 0.005620829891001395\nDecision Tree Regressor MAE Mean: 0.029249208973060603\nDecision Tree Regressor MAE Standard Deviation: 0.0012057811274619073\nrmse Evaluation: 0.10758677478832664\nmae Evaluation: 0.023559500162866433\nr2 Evaluation: 0.9883120236679765\n"
    }
   ],
   "source": [
    "# Decision Tree Regressor Model (Target - Rotor Temperature)\n",
    "tree_regr = DecisionTreeRegressor()\n",
    "tree_regr.fit(rotor_training_data, rotor_label_data)\n",
    "\n",
    "# Compute RMSE via cross validation\n",
    "scores_mse = cross_val_score(tree_regr, rotor_training_data, rotor_label_data, scoring = \"neg_mean_squared_error\", cv = 5)\n",
    "scores_rmse = np.sqrt(-scores_mse)\n",
    "\n",
    "# Compute MAE via cross validation\n",
    "scores_mae = cross_val_score(tree_regr, rotor_training_data, rotor_label_data, scoring = \"neg_mean_absolute_error\", cv = 5)\n",
    "scores_mae = -1 * scores_mae\n",
    "\n",
    "# Evaluate on validation data\n",
    "rotor_pred_eval = tree_regr.predict(rotor_test_data)\n",
    "mse_eval = mean_squared_error(rotor_test_label_data, rotor_pred_eval)\n",
    "rmse_eval = np.sqrt(mse_eval)\n",
    "mae_eval = mean_absolute_error(rotor_test_label_data, rotor_pred_eval)\n",
    "r2_eval = tree_regr.score(rotor_test_data, rotor_test_label_data)\n",
    "\n",
    "# Print results\n",
    "model_name = \"Decision Tree Regressor\"\n",
    "print(model_name, \"RMSE Mean:\", scores_rmse.mean())\n",
    "print(model_name, \"RMSE Standard Deviation:\", scores_rmse.std())\n",
    "\n",
    "print(model_name, \"MAE Mean:\", scores_mae.mean())\n",
    "print(model_name, \"MAE Standard Deviation:\", scores_mae.std())\n",
    "\n",
    "print(\"rmse Evaluation:\", rmse_eval)\n",
    "print(\"mae Evaluation:\", mae_eval)\n",
    "print(\"r2 Evaluation:\", r2_eval)"
   ]
  },
  {
   "cell_type": "code",
   "execution_count": 20,
   "metadata": {
    "tags": []
   },
   "outputs": [
    {
     "output_type": "stream",
     "name": "stdout",
     "text": "Random Forest Regressor RMSE Mean: 0.07598667321870968\nRandom Forest Regressor RMSE Standard Deviation: 0.0020540376265633397\nRandom Forest Regressor MAE Mean: 0.02930183606381942\nRandom Forest Regressor MAE Standard Deviation: 0.0004773759954893715\nrmse Evaluation: 0.06523092994576536\nmae Evaluation: 0.024322107164163935\nr2 Evaluation: 0.99570336277893\n"
    }
   ],
   "source": [
    "# Random Forest Regressor Model (Target - Rotor Temperature)\n",
    "forest_regr = RandomForestRegressor()\n",
    "forest_regr.fit(rotor_training_data, rotor_label_data)\n",
    "\n",
    "# Compute RMSE via cross validation\n",
    "scores_mse = cross_val_score(forest_regr, rotor_training_data, rotor_label_data, scoring = \"neg_mean_squared_error\", cv = 5)\n",
    "scores_rmse = np.sqrt(-scores_mse)\n",
    "\n",
    "# Compute MAE via cross validation\n",
    "scores_mae = cross_val_score(forest_regr, rotor_training_data, rotor_label_data, scoring = \"neg_mean_absolute_error\", cv = 5)\n",
    "scores_mae = -1 * scores_mae\n",
    "\n",
    "# Evaluate on validation data\n",
    "rotor_pred_eval = forest_regr.predict(rotor_test_data)\n",
    "mse_eval = mean_squared_error(rotor_test_label_data, rotor_pred_eval)\n",
    "rmse_eval = np.sqrt(mse_eval)\n",
    "mae_eval = mean_absolute_error(rotor_test_label_data, rotor_pred_eval)\n",
    "r2_eval = forest_regr.score(rotor_test_data, rotor_test_label_data)\n",
    "\n",
    "# Print results\n",
    "model_name = \"Random Forest Regressor\"\n",
    "print(model_name, \"RMSE Mean:\", scores_rmse.mean())\n",
    "print(model_name, \"RMSE Standard Deviation:\", scores_rmse.std())\n",
    "\n",
    "print(model_name, \"MAE Mean:\", scores_mae.mean())\n",
    "print(model_name, \"MAE Standard Deviation:\", scores_mae.std())\n",
    "\n",
    "print(\"rmse Evaluation:\", rmse_eval)\n",
    "print(\"mae Evaluation:\", mae_eval)\n",
    "print(\"r2 Evaluation:\", r2_eval)"
   ]
  },
  {
   "cell_type": "code",
   "execution_count": 21,
   "metadata": {
    "tags": []
   },
   "outputs": [
    {
     "output_type": "stream",
     "name": "stdout",
     "text": "Random Forest Regressor [Opt] - Best Params: {'bootstrap': False, 'max_features': 4, 'n_estimators': 10}\nRandom Forest Regressor [Opt] - Best Estimator: RandomForestRegressor(bootstrap=False, ccp_alpha=0.0, criterion='mse',\n                      max_depth=None, max_features=4, max_leaf_nodes=None,\n                      max_samples=None, min_impurity_decrease=0.0,\n                      min_impurity_split=None, min_samples_leaf=1,\n                      min_samples_split=2, min_weight_fraction_leaf=0.0,\n                      n_estimators=10, n_jobs=None, oob_score=False,\n                      random_state=None, verbose=0, warm_start=False)\nRandom Forest Regressor [Opt] - Best Score: 0.07212845512150008\n"
    },
    {
     "output_type": "error",
     "ename": "NotFittedError",
     "evalue": "This RandomForestRegressor instance is not fitted yet. Call 'fit' with appropriate arguments before using this estimator.",
     "traceback": [
      "\u001b[1;31m---------------------------------------------------------------------------\u001b[0m",
      "\u001b[1;31mNotFittedError\u001b[0m                            Traceback (most recent call last)",
      "\u001b[1;32m<ipython-input-21-86fe4e5f29b3>\u001b[0m in \u001b[0;36m<module>\u001b[1;34m\u001b[0m\n\u001b[0;32m      5\u001b[0m \u001b[1;33m\u001b[0m\u001b[0m\n\u001b[0;32m      6\u001b[0m \u001b[1;31m# Evaluate on validation data\u001b[0m\u001b[1;33m\u001b[0m\u001b[1;33m\u001b[0m\u001b[0m\n\u001b[1;32m----> 7\u001b[1;33m \u001b[0mrotor_pred_eval\u001b[0m \u001b[1;33m=\u001b[0m \u001b[0mforest_regr\u001b[0m\u001b[1;33m.\u001b[0m\u001b[0mpredict\u001b[0m\u001b[1;33m(\u001b[0m\u001b[0mrotor_test_data\u001b[0m\u001b[1;33m)\u001b[0m\u001b[1;33m\u001b[0m\u001b[0m\n\u001b[0m\u001b[0;32m      8\u001b[0m \u001b[0mmse_eval\u001b[0m \u001b[1;33m=\u001b[0m \u001b[0mmean_squared_error\u001b[0m\u001b[1;33m(\u001b[0m\u001b[0mrotor_test_label_data\u001b[0m\u001b[1;33m,\u001b[0m \u001b[0mrotor_pred_eval\u001b[0m\u001b[1;33m)\u001b[0m\u001b[1;33m\u001b[0m\u001b[0m\n\u001b[0;32m      9\u001b[0m \u001b[0mrmse_eval\u001b[0m \u001b[1;33m=\u001b[0m \u001b[0mnp\u001b[0m\u001b[1;33m.\u001b[0m\u001b[0msqrt\u001b[0m\u001b[1;33m(\u001b[0m\u001b[0mmse_eval\u001b[0m\u001b[1;33m)\u001b[0m\u001b[1;33m\u001b[0m\u001b[0m\n",
      "\u001b[1;32mC:\\Developer\\Python\\Python366\\lib\\site-packages\\sklearn\\ensemble\\_forest.py\u001b[0m in \u001b[0;36mpredict\u001b[1;34m(self, X)\u001b[0m\n\u001b[0;32m    762\u001b[0m             \u001b[0mThe\u001b[0m \u001b[0mpredicted\u001b[0m \u001b[0mvalues\u001b[0m\u001b[1;33m.\u001b[0m\u001b[1;33m\u001b[0m\u001b[0m\n\u001b[0;32m    763\u001b[0m         \"\"\"\n\u001b[1;32m--> 764\u001b[1;33m         \u001b[0mcheck_is_fitted\u001b[0m\u001b[1;33m(\u001b[0m\u001b[0mself\u001b[0m\u001b[1;33m)\u001b[0m\u001b[1;33m\u001b[0m\u001b[0m\n\u001b[0m\u001b[0;32m    765\u001b[0m         \u001b[1;31m# Check data\u001b[0m\u001b[1;33m\u001b[0m\u001b[1;33m\u001b[0m\u001b[0m\n\u001b[0;32m    766\u001b[0m         \u001b[0mX\u001b[0m \u001b[1;33m=\u001b[0m \u001b[0mself\u001b[0m\u001b[1;33m.\u001b[0m\u001b[0m_validate_X_predict\u001b[0m\u001b[1;33m(\u001b[0m\u001b[0mX\u001b[0m\u001b[1;33m)\u001b[0m\u001b[1;33m\u001b[0m\u001b[0m\n",
      "\u001b[1;32mC:\\Developer\\Python\\Python366\\lib\\site-packages\\sklearn\\utils\\validation.py\u001b[0m in \u001b[0;36mcheck_is_fitted\u001b[1;34m(estimator, attributes, msg, all_or_any)\u001b[0m\n\u001b[0;32m    965\u001b[0m \u001b[1;33m\u001b[0m\u001b[0m\n\u001b[0;32m    966\u001b[0m     \u001b[1;32mif\u001b[0m \u001b[1;32mnot\u001b[0m \u001b[0mattrs\u001b[0m\u001b[1;33m:\u001b[0m\u001b[1;33m\u001b[0m\u001b[0m\n\u001b[1;32m--> 967\u001b[1;33m         \u001b[1;32mraise\u001b[0m \u001b[0mNotFittedError\u001b[0m\u001b[1;33m(\u001b[0m\u001b[0mmsg\u001b[0m \u001b[1;33m%\u001b[0m \u001b[1;33m{\u001b[0m\u001b[1;34m'name'\u001b[0m\u001b[1;33m:\u001b[0m \u001b[0mtype\u001b[0m\u001b[1;33m(\u001b[0m\u001b[0mestimator\u001b[0m\u001b[1;33m)\u001b[0m\u001b[1;33m.\u001b[0m\u001b[0m__name__\u001b[0m\u001b[1;33m}\u001b[0m\u001b[1;33m)\u001b[0m\u001b[1;33m\u001b[0m\u001b[0m\n\u001b[0m\u001b[0;32m    968\u001b[0m \u001b[1;33m\u001b[0m\u001b[0m\n\u001b[0;32m    969\u001b[0m \u001b[1;33m\u001b[0m\u001b[0m\n",
      "\u001b[1;31mNotFittedError\u001b[0m: This RandomForestRegressor instance is not fitted yet. Call 'fit' with appropriate arguments before using this estimator."
     ]
    }
   ],
   "source": [
    "# Random Forest Regressor - Optimised Hyperparameters\n",
    "forest_regr = RandomForestRegressor()\n",
    "\n",
    "best_params, best_est, best_score = hyperparameter_opt.perform_gridsearch(\"Random Forest Regressor [Opt]\", forest_regr, rotor_training_data, rotor_label_data)\n",
    "\n",
    "# Evaluate on validation data\n",
    "rotor_pred_eval = forest_regr.predict(rotor_test_data)\n",
    "mse_eval = mean_squared_error(rotor_test_label_data, rotor_pred_eval)\n",
    "rmse_eval = np.sqrt(mse_eval)\n",
    "mae_eval = mean_absolute_error(rotor_test_label_data, rotor_pred_eval)\n",
    "r2_eval = forest_regr .score(rotor_test_data, rotor_test_label_data)\n",
    "\n",
    "print(\"rmse Evaluation:\", rmse_eval)\n",
    "print(\"mae Evaluation:\", mae_eval)\n",
    "print(\"r2 Evaluation:\", r2_eval)"
   ]
  }
 ],
 "metadata": {
  "language_info": {
   "codemirror_mode": {
    "name": "ipython",
    "version": 3
   },
   "file_extension": ".py",
   "mimetype": "text/x-python",
   "name": "python",
   "nbconvert_exporter": "python",
   "pygments_lexer": "ipython3",
   "version": "3.6.6-final"
  },
  "orig_nbformat": 2,
  "kernelspec": {
   "name": "python36664bitd546b3131dc04b45b27adb02c244c21c",
   "display_name": "Python 3.6.6 64-bit"
  }
 },
 "nbformat": 4,
 "nbformat_minor": 2
}