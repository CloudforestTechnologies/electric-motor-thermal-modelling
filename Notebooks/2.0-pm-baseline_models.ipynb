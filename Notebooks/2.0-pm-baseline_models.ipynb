{
 "cells": [
  {
   "cell_type": "code",
   "execution_count": 1,
   "metadata": {},
   "outputs": [],
   "source": [
    "# Module Importations\n",
    "import numpy as np\n",
    "import pandas as pd\n",
    "from sklearn.ensemble import RandomForestRegressor\n",
    "from sklearn.linear_model import LinearRegression\n",
    "from sklearn.metrics import mean_absolute_error\n",
    "from sklearn.metrics import mean_squared_error\n",
    "from sklearn.model_selection import cross_val_score\n",
    "from sklearn.tree import DecisionTreeRegressor"
   ]
  },
  {
   "cell_type": "code",
   "execution_count": 2,
   "metadata": {},
   "outputs": [],
   "source": [
    "# Project Module Importations\n",
    "from src.data import load_data"
   ]
  },
  {
   "cell_type": "code",
   "execution_count": 5,
   "metadata": {
    "tags": []
   },
   "outputs": [
    {
     "output_type": "stream",
     "name": "stdout",
     "text": "ambient   coolant       u_d       u_q  motor_speed    torque  \\\n0      -0.752143 -1.118446  0.327935 -1.297858    -1.222428 -0.250182   \n1      -0.771263 -1.117021  0.329665 -1.297686    -1.222429 -0.249133   \n2      -0.782892 -1.116681  0.332771 -1.301822    -1.222428 -0.249431   \n3      -0.780935 -1.116764  0.333700 -1.301852    -1.222430 -0.248636   \n4      -0.774043 -1.116775  0.335206 -1.303118    -1.222429 -0.248701   \n...          ...       ...       ...       ...          ...       ...   \n998065 -0.047497  0.341638  0.331475 -1.246114    -1.222428 -0.255640   \n998066 -0.048839  0.320022  0.331701 -1.250655    -1.222437 -0.255640   \n998067 -0.042350  0.307415  0.330946 -1.246852    -1.222430 -0.255640   \n998068 -0.039433  0.302082  0.330987 -1.249505    -1.222432 -0.255640   \n998069 -0.043803  0.312666  0.330830 -1.246591    -1.222431 -0.255640   \n\n             i_d       i_q        pm  stator_yoke  stator_tooth  \\\n0       1.029572 -0.245860 -2.522071    -1.831422     -2.066143   \n1       1.029509 -0.245832 -2.522418    -1.830969     -2.064859   \n2       1.029448 -0.245818 -2.522673    -1.830400     -2.064073   \n3       1.032845 -0.246955 -2.521639    -1.830333     -2.063137   \n4       1.031807 -0.246610 -2.521900    -1.830498     -2.062795   \n...          ...       ...       ...          ...           ...   \n998065  1.029142 -0.245722  0.429853     1.018568      0.836084   \n998066  1.029148 -0.245736  0.429751     1.013417      0.834438   \n998067  1.029191 -0.245701  0.429439     1.002906      0.833936   \n998068  1.029147 -0.245727  0.429558     0.999157      0.830504   \n998069  1.029141 -0.245722  0.429166     0.987163      0.828046   \n\n        stator_winding  profile_id  \n0            -2.018033           4  \n1            -2.017631           4  \n2            -2.017343           4  \n3            -2.017632           4  \n4            -2.018145           4  \n...                ...         ...  \n998065        0.494725          72  \n998066        0.494279          72  \n998067        0.492666          72  \n998068        0.490581          72  \n998069        0.489382          72  \n\n[998070 rows x 13 columns]\n"
    }
   ],
   "source": [
    "# Load dataset.\n",
    "original_dataset = load_data.load_motor_data()\n",
    "\n",
    "print(original_dataset)"
   ]
  },
  {
   "cell_type": "code",
   "execution_count": null,
   "metadata": {},
   "outputs": [],
   "source": [
    "def split_train_test(data, test_ratio):\n",
    "    \"\"\"Split Training & Test Data\n",
    "    ======================================\n",
    "    Splits original dataset into training and evaluation data.\n",
    "    \n",
    "    Args:\n",
    "        data (dataframe) - Original test data.\n",
    "        test_ratio (int) - Ratio for splitting dataset as training percentage.\n",
    "        \n",
    "    Returns:\n",
    "        data_train (dataframe) - Dataframe with training data slice.\n",
    "        data_test (dataframe) - Dataframe with testing data slice.\n",
    "    \"\"\"\n",
    "\n",
    "    # Random seed setting ensures identical data split between calls\n",
    "    np.random.seed(42)\n",
    "    shuffled_indices = np.random.permutation(len(data))\n",
    "\n",
    "    test_set_size = int(len(data) * test_ratio)\n",
    "\n",
    "    # Create slices of test and training indices\n",
    "    train_indices = shuffled_indices[test_set_size:]\n",
    "    test_indices = shuffled_indices[:test_set_size]\n",
    "\n",
    "    return data.iloc[train_indices], data.iloc[test_indices]"
   ]
  },
  {
   "cell_type": "code",
   "execution_count": null,
   "metadata": {},
   "outputs": [],
   "source": [
    "# Split data into training and test sets\n",
    "training_set, test_set = split_train_test(original_dataset, 0.8)"
   ]
  },
  {
   "cell_type": "code",
   "execution_count": null,
   "metadata": {
    "tags": []
   },
   "outputs": [],
   "source": [
    "# Drop profile id data column\n",
    "training_set = training_set.drop(\"profile_id\", axis = 1)\n",
    "print(training_set.describe())"
   ]
  },
  {
   "cell_type": "code",
   "execution_count": null,
   "metadata": {},
   "outputs": [],
   "source": [
    "# Create rotor target\n",
    "rotor_training_data = training_set.drop(\"pm\", axis = 1)\n",
    "rotor_label_data = training_set[\"pm\"].copy()"
   ]
  },
  {
   "cell_type": "code",
   "execution_count": null,
   "metadata": {
    "tags": []
   },
   "outputs": [],
   "source": [
    "# Linear Regression Model (Target - Rotor Temperature)\n",
    "lin_reg = LinearRegression()\n",
    "lin_reg.fit(rotor_training_data, rotor_label_data)\n",
    "\n",
    "# Compute RMSE via cross validation\n",
    "scores_mse = cross_val_score(lin_reg, rotor_training_data, rotor_label_data, scoring = \"neg_mean_squared_error\", cv = 5)\n",
    "scores_rmse = np.sqrt(-scores_mse)\n",
    "\n",
    "# Compute MAE via cross validation\n",
    "scores_mae = cross_val_score(lin_reg, rotor_training_data, rotor_label_data, scoring = \"neg_mean_absolute_error\", cv = 5)\n",
    "scores_mae = -1 * scores_mae\n",
    "\n",
    "# Print results\n",
    "model_name = \"Linear Regression Model\"\n",
    "print(model_name, \"RMSE Mean:\", scores_rmse.mean())\n",
    "print(model_name, \"RMSE Standard Deviation:\", scores_rmse.std())\n",
    "\n",
    "print(model_name, \"MAE Mean:\", scores_mae.mean())\n",
    "print(model_name, \"MAE Standard Deviation:\", scores_mae.std())"
   ]
  },
  {
   "cell_type": "code",
   "execution_count": null,
   "metadata": {
    "tags": []
   },
   "outputs": [],
   "source": [
    "# Decision Tree Regressor Model (Target - Rotor Temperature)\n",
    "tree_regr = DecisionTreeRegressor()\n",
    "tree_regr.fit(rotor_training_data, rotor_label_data)\n",
    "\n",
    "# Compute RMSE via cross validation\n",
    "scores_mse = cross_val_score(tree_regr, rotor_training_data, rotor_label_data, scoring = \"neg_mean_squared_error\", cv = 5)\n",
    "scores_rmse = np.sqrt(-scores_mse)\n",
    "\n",
    "# Compute MAE via cross validation\n",
    "scores_mae = cross_val_score(tree_regr, rotor_training_data, rotor_label_data, scoring = \"neg_mean_absolute_error\", cv = 5)\n",
    "scores_mae = -1 * scores_mae\n",
    "\n",
    "# Print results\n",
    "model_name = \"Decision Tree Regressor\"\n",
    "print(model_name, \"RMSE Mean:\", scores_rmse.mean())\n",
    "print(model_name, \"RMSE Standard Deviation:\", scores_rmse.std())\n",
    "\n",
    "print(model_name, \"MAE Mean:\", scores_mae.mean())\n",
    "print(model_name, \"MAE Standard Deviation:\", scores_mae.std())"
   ]
  },
  {
   "cell_type": "code",
   "execution_count": null,
   "metadata": {
    "tags": []
   },
   "outputs": [],
   "source": [
    "# Random Forest Regressor Model (Target - Rotor Temperature)\n",
    "forest_regr = RandomForestRegressor()\n",
    "forest_regr.fit(rotor_training_data, rotor_label_data)\n",
    "\n",
    "# Compute RMSE via cross validation\n",
    "scores_mse = cross_val_score(forest_regr, rotor_training_data, rotor_label_data, scoring = \"neg_mean_squared_error\", cv = 5)\n",
    "scores_rmse = np.sqrt(-scores_mse)\n",
    "\n",
    "# Compute MAE via cross validation\n",
    "scores_mae = cross_val_score(forest_regr, rotor_training_data, rotor_label_data, scoring = \"neg_mean_absolute_error\", cv = 5)\n",
    "scores_mae = -1 * scores_mae\n",
    "\n",
    "# Print results\n",
    "model_name = \"Random Forest Regressor\"\n",
    "print(model_name, \"RMSE Mean:\", scores_rmse.mean())\n",
    "print(model_name, \"RMSE Standard Deviation:\", scores_rmse.std())\n",
    "\n",
    "print(model_name, \"MAE Mean:\", scores_mae.mean())\n",
    "print(model_name, \"MAE Standard Deviation:\", scores_mae.std())"
   ]
  },
  {
   "cell_type": "code",
   "execution_count": null,
   "metadata": {},
   "outputs": [],
   "source": []
  }
 ],
 "metadata": {
  "language_info": {
   "codemirror_mode": {
    "name": "ipython",
    "version": 3
   },
   "file_extension": ".py",
   "mimetype": "text/x-python",
   "name": "python",
   "nbconvert_exporter": "python",
   "pygments_lexer": "ipython3",
   "version": "3.6.6-final"
  },
  "orig_nbformat": 2,
  "kernelspec": {
   "name": "python36664bitd546b3131dc04b45b27adb02c244c21c",
   "display_name": "Python 3.6.6 64-bit"
  }
 },
 "nbformat": 4,
 "nbformat_minor": 2
}