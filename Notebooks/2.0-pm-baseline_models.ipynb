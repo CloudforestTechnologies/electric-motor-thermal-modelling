{
 "cells": [
  {
   "cell_type": "code",
   "execution_count": 1,
   "metadata": {},
   "outputs": [
    {
     "output_type": "error",
     "ename": "NameError",
     "evalue": "name 'sklearn' is not defined",
     "traceback": [
      "\u001b[1;31m---------------------------------------------------------------------------\u001b[0m",
      "\u001b[1;31mNameError\u001b[0m                                 Traceback (most recent call last)",
      "\u001b[1;32m<ipython-input-1-9917268e7e57>\u001b[0m in \u001b[0;36m<module>\u001b[1;34m\u001b[0m\n\u001b[0;32m     13\u001b[0m \u001b[1;33m\u001b[0m\u001b[0m\n\u001b[0;32m     14\u001b[0m \u001b[1;31m# Print versioning information\u001b[0m\u001b[1;33m\u001b[0m\u001b[1;33m\u001b[0m\u001b[0m\n\u001b[1;32m---> 15\u001b[1;33m \u001b[0mprint\u001b[0m\u001b[1;33m(\u001b[0m\u001b[0msklearn\u001b[0m\u001b[1;33m.\u001b[0m\u001b[0m__version__\u001b[0m\u001b[1;33m)\u001b[0m\u001b[1;33m\u001b[0m\u001b[0m\n\u001b[0m",
      "\u001b[1;31mNameError\u001b[0m: name 'sklearn' is not defined"
     ]
    }
   ],
   "source": [
    "# Module Importations\n",
    "import numpy as np\n",
    "import pandas as pd\n",
    "import time\n",
    "from sklearn.ensemble import RandomForestRegressor\n",
    "from sklearn.linear_model import LinearRegression\n",
    "from sklearn.metrics import mean_absolute_error\n",
    "from sklearn.metrics import mean_squared_error\n",
    "from sklearn.model_selection import cross_val_score\n",
    "from sklearn.preprocessing import PolynomialFeatures\n",
    "from sklearn.svm import SVR\n",
    "from sklearn.tree import DecisionTreeRegressor\n",
    "\n",
    "# Print versioning information\n",
    "print(sklearn.__version__)"
   ]
  },
  {
   "cell_type": "code",
   "execution_count": 2,
   "metadata": {},
   "outputs": [],
   "source": [
    "# Project Module Importations\n",
    "from src.data import load_data\n",
    "from src.data import split_data\n",
    "from src.features import hyperparameter_opt\n",
    "from src.models import model_evaluation\n",
    "from src.models import sklearn_helpers"
   ]
  },
  {
   "cell_type": "code",
   "execution_count": 3,
   "metadata": {
    "tags": []
   },
   "outputs": [],
   "source": [
    "# Load dataset\n",
    "original_dataset = load_data.load_motor_data()"
   ]
  },
  {
   "cell_type": "code",
   "execution_count": 4,
   "metadata": {},
   "outputs": [],
   "source": [
    "# Split data into training / evaluation sets\n",
    "training_set, test_set = split_data.split_train_test(original_dataset, 0.8)"
   ]
  },
  {
   "cell_type": "code",
   "execution_count": 5,
   "metadata": {
    "tags": []
   },
   "outputs": [
    {
     "output_type": "stream",
     "name": "stdout",
     "text": "ambient        coolant            u_d            u_q  \\\ncount  199614.000000  199614.000000  199614.000000  199614.000000   \nmean       -0.005043       0.005308       0.003792      -0.005359   \nstd         0.996490       1.002488       0.998747       1.001464   \nmin        -5.239872      -1.270450      -1.654002      -1.852853   \n25%        -0.601386      -1.037872      -0.831843      -0.924537   \n50%         0.266671      -0.178200       0.267391      -0.098490   \n75%         0.686838       0.673512       0.358587       0.848608   \nmax         2.954662       2.296845       2.273808       1.788773   \n\n         motor_speed         torque            i_d            i_q  \\\ncount  199614.000000  199614.000000  199614.000000  199614.000000   \nmean       -0.004852      -0.001687       0.004184      -0.001570   \nstd         1.001954       0.998525       0.999021       0.998389   \nmin        -1.353747      -3.339106      -3.235659      -3.329749   \n25%        -0.951892      -0.267419      -0.759524      -0.257273   \n50%        -0.140246      -0.186549       0.206151      -0.183473   \n75%         0.856986       0.548676       1.013975       0.501003   \nmax         2.024162       3.016479       1.060718       2.914179   \n\n                  pm    stator_yoke   stator_tooth  stator_winding  \ncount  199614.000000  199614.000000  199614.000000   199614.000000  \nmean       -0.004875       0.001077      -0.001664       -0.003221  \nstd         0.997822       1.002443       1.000849        0.998714  \nmin        -2.631581      -1.833552      -2.063137       -2.019349  \n25%        -0.677244      -0.747915      -0.761951       -0.725616  \n50%         0.095507      -0.057212       0.005475        0.008515  \n75%         0.682715       0.698267       0.772167        0.729825  \nmax         2.917456       2.443347       2.325405        2.633611  \n"
    }
   ],
   "source": [
    "# Drop profile id data column (both sets)\n",
    "training_set = training_set.drop(\"profile_id\", axis = 1)\n",
    "print(training_set.describe())\n",
    "\n",
    "test_set = test_set.drop(\"profile_id\", axis = 1)"
   ]
  },
  {
   "cell_type": "code",
   "execution_count": 6,
   "metadata": {},
   "outputs": [],
   "source": [
    "# Create rotor target\n",
    "rotor_training_data = training_set.drop(\"pm\", axis = 1)\n",
    "rotor_label_data = training_set[\"pm\"].copy()\n",
    "\n",
    "rotor_test_data = test_set.drop(\"pm\", axis = 1)\n",
    "rotor_test_label_data = test_set[\"pm\"].copy()"
   ]
  },
  {
   "cell_type": "code",
   "execution_count": 7,
   "metadata": {
    "tags": []
   },
   "outputs": [
    {
     "output_type": "stream",
     "name": "stdout",
     "text": "Save Path: C:\\Developer\\electric_motor_thermal_modelling\\Models\\YC_LinRegr_2020_08_18-13_35_36.pkl\nLinear Regression rmse mean (cv): 0.4749361664649533\nLinear Regression rmse std (cv): 0.0021400886517142672\nLinear Regression mae mean (cv): 0.3614280996261001\nLinear Regression mae (cv): 0.0016560246676062818\nPrediction Time: 0.078125\nLinear Regression rmse (Eval): 0.4753533122550699\nLinear Regression mae (Eval): 0.36201495208919415\nLinear Regression r2 (Eval): 0.7718320737434563\n"
    }
   ],
   "source": [
    "# Linear Regression Model (Target - Rotor Temperature)\n",
    "lin_reg = LinearRegression()\n",
    "lin_reg.fit(rotor_training_data, rotor_label_data)\n",
    "\n",
    "# Name model\n",
    "model_type = \"LinRegr\"\n",
    "model_name = sklearn_helpers.name_model(model_type)\n",
    "\n",
    "# Save model\n",
    "sklearn_helpers.save_model(lin_reg, model_name)\n",
    "\n",
    "# Compute RMSE via cross validation\n",
    "scores_mse = cross_val_score(lin_reg, rotor_training_data, rotor_label_data, scoring = \"neg_mean_squared_error\", cv = 5)\n",
    "scores_rmse = np.sqrt(-scores_mse)\n",
    "\n",
    "# Compute MAE via cross validation\n",
    "scores_mae = cross_val_score(lin_reg, rotor_training_data, rotor_label_data, scoring = \"neg_mean_absolute_error\", cv = 5)\n",
    "scores_mae = -1 * scores_mae\n",
    "\n",
    "# Print CV results\n",
    "model_name = \"Linear Regression\"\n",
    "print(model_name, \"rmse mean (cv):\", scores_rmse.mean())\n",
    "print(model_name, \"rmse std (cv):\", scores_rmse.std())\n",
    "\n",
    "print(model_name, \"mae mean (cv):\", scores_mae.mean())\n",
    "print(model_name, \"mae (cv):\", scores_mae.std())\n",
    "\n",
    "# Evaluation\n",
    "start_time = time.process_time()\n",
    "rotor_pred_eval = lin_reg.predict(rotor_test_data)\n",
    "end_time = time.process_time()\n",
    "print(\"Prediction Time:\", (end_time-start_time))\n",
    "\n",
    "model_evaluation.evaluate_model(model_name, rotor_test_label_data, rotor_pred_eval)"
   ]
  },
  {
   "cell_type": "code",
   "execution_count": 8,
   "metadata": {
    "tags": []
   },
   "outputs": [
    {
     "output_type": "error",
     "ename": "KeyboardInterrupt",
     "evalue": "",
     "traceback": [
      "\u001b[1;31m---------------------------------------------------------------------------\u001b[0m",
      "\u001b[1;31mKeyboardInterrupt\u001b[0m                         Traceback (most recent call last)",
      "\u001b[1;32m<ipython-input-8-51378344f1e0>\u001b[0m in \u001b[0;36m<module>\u001b[1;34m\u001b[0m\n\u001b[0;32m      6\u001b[0m \u001b[0mrotor_training_poly\u001b[0m \u001b[1;33m=\u001b[0m \u001b[0mpoly_features\u001b[0m\u001b[1;33m.\u001b[0m\u001b[0mfit_transform\u001b[0m\u001b[1;33m(\u001b[0m\u001b[0mrotor_training_data\u001b[0m\u001b[1;33m)\u001b[0m\u001b[1;33m\u001b[0m\u001b[0m\n\u001b[0;32m      7\u001b[0m \u001b[1;33m\u001b[0m\u001b[0m\n\u001b[1;32m----> 8\u001b[1;33m \u001b[0mlin_reg_poly\u001b[0m\u001b[1;33m.\u001b[0m\u001b[0mfit\u001b[0m\u001b[1;33m(\u001b[0m\u001b[0mrotor_training_poly\u001b[0m\u001b[1;33m,\u001b[0m \u001b[0mrotor_label_data\u001b[0m\u001b[1;33m)\u001b[0m\u001b[1;33m\u001b[0m\u001b[0m\n\u001b[0m\u001b[0;32m      9\u001b[0m \u001b[1;33m\u001b[0m\u001b[0m\n\u001b[0;32m     10\u001b[0m \u001b[1;31m# Name model\u001b[0m\u001b[1;33m\u001b[0m\u001b[1;33m\u001b[0m\u001b[0m\n",
      "\u001b[1;32mC:\\Developer\\Python\\Python366\\lib\\site-packages\\sklearn\\linear_model\\_base.py\u001b[0m in \u001b[0;36mfit\u001b[1;34m(self, X, y, sample_weight)\u001b[0m\n\u001b[0;32m    531\u001b[0m         \u001b[1;32melse\u001b[0m\u001b[1;33m:\u001b[0m\u001b[1;33m\u001b[0m\u001b[0m\n\u001b[0;32m    532\u001b[0m             \u001b[0mself\u001b[0m\u001b[1;33m.\u001b[0m\u001b[0mcoef_\u001b[0m\u001b[1;33m,\u001b[0m \u001b[0mself\u001b[0m\u001b[1;33m.\u001b[0m\u001b[0m_residues\u001b[0m\u001b[1;33m,\u001b[0m \u001b[0mself\u001b[0m\u001b[1;33m.\u001b[0m\u001b[0mrank_\u001b[0m\u001b[1;33m,\u001b[0m \u001b[0mself\u001b[0m\u001b[1;33m.\u001b[0m\u001b[0msingular_\u001b[0m \u001b[1;33m=\u001b[0m\u001b[0;31m \u001b[0m\u001b[0;31m\\\u001b[0m\u001b[1;33m\u001b[0m\u001b[0m\n\u001b[1;32m--> 533\u001b[1;33m                 \u001b[0mlinalg\u001b[0m\u001b[1;33m.\u001b[0m\u001b[0mlstsq\u001b[0m\u001b[1;33m(\u001b[0m\u001b[0mX\u001b[0m\u001b[1;33m,\u001b[0m \u001b[0my\u001b[0m\u001b[1;33m)\u001b[0m\u001b[1;33m\u001b[0m\u001b[0m\n\u001b[0m\u001b[0;32m    534\u001b[0m             \u001b[0mself\u001b[0m\u001b[1;33m.\u001b[0m\u001b[0mcoef_\u001b[0m \u001b[1;33m=\u001b[0m \u001b[0mself\u001b[0m\u001b[1;33m.\u001b[0m\u001b[0mcoef_\u001b[0m\u001b[1;33m.\u001b[0m\u001b[0mT\u001b[0m\u001b[1;33m\u001b[0m\u001b[0m\n\u001b[0;32m    535\u001b[0m \u001b[1;33m\u001b[0m\u001b[0m\n",
      "\u001b[1;32mC:\\Developer\\Python\\Python366\\lib\\site-packages\\scipy\\linalg\\basic.py\u001b[0m in \u001b[0;36mlstsq\u001b[1;34m(a, b, cond, overwrite_a, overwrite_b, check_finite, lapack_driver)\u001b[0m\n\u001b[0;32m   1214\u001b[0m                 \u001b[0mlwork\u001b[0m\u001b[1;33m,\u001b[0m \u001b[0miwork\u001b[0m \u001b[1;33m=\u001b[0m \u001b[0m_compute_lwork\u001b[0m\u001b[1;33m(\u001b[0m\u001b[0mlapack_lwork\u001b[0m\u001b[1;33m,\u001b[0m \u001b[0mm\u001b[0m\u001b[1;33m,\u001b[0m \u001b[0mn\u001b[0m\u001b[1;33m,\u001b[0m \u001b[0mnrhs\u001b[0m\u001b[1;33m,\u001b[0m \u001b[0mcond\u001b[0m\u001b[1;33m)\u001b[0m\u001b[1;33m\u001b[0m\u001b[0m\n\u001b[0;32m   1215\u001b[0m                 x, s, rank, info = lapack_func(a1, b1, lwork,\n\u001b[1;32m-> 1216\u001b[1;33m                                                iwork, cond, False, False)\n\u001b[0m\u001b[0;32m   1217\u001b[0m             \u001b[1;32melse\u001b[0m\u001b[1;33m:\u001b[0m  \u001b[1;31m# complex data\u001b[0m\u001b[1;33m\u001b[0m\u001b[0m\n\u001b[0;32m   1218\u001b[0m                 lwork, rwork, iwork = _compute_lwork(lapack_lwork, m, n,\n",
      "\u001b[1;31mKeyboardInterrupt\u001b[0m: "
     ]
    }
   ],
   "source": [
    "# Polynomial Regression Model (Target - Rotor Temperature)\n",
    "lin_reg_poly = LinearRegression()\n",
    "\n",
    "# Create polynomial dataset\n",
    "poly_features = PolynomialFeatures(degree = 2, include_bias = False)\n",
    "rotor_training_poly = poly_features.fit_transform(rotor_training_data)\n",
    "\n",
    "lin_reg_poly.fit(rotor_training_poly, rotor_label_data)\n",
    "\n",
    "# Name model\n",
    "model_type = \"LinRegrPoly\"\n",
    "model_name = sklearn_helpers.name_model(model_type)\n",
    "\n",
    "# Save model\n",
    "sklearn_helpers.save_model(lin_reg_poly, model_name)\n",
    "\n",
    "# Compute RMSE via cross validation\n",
    "scores_mse = cross_val_score(lin_reg_poly, rotor_training_poly, rotor_label_data, scoring = \"neg_mean_squared_error\", cv = 5)\n",
    "scores_rmse = np.sqrt(-scores_mse)\n",
    "\n",
    "# Compute MAE via cross validation\n",
    "scores_mae = cross_val_score(lin_reg_poly, rotor_training_poly, rotor_label_data, scoring = \"neg_mean_absolute_error\", cv = 5)\n",
    "scores_mae = -1 * scores_mae\n",
    "\n",
    "# Print results\n",
    "model_name = \"Linear Regression - Polynomial\"\n",
    "print(model_name, \"rmse mean (cv):\", scores_rmse.mean())\n",
    "print(model_name, \"rmse std (cv):\", scores_rmse.std())\n",
    "\n",
    "print(model_name, \"mae mean (cv):\", scores_mae.mean())\n",
    "print(model_name, \"mae std (cv):\", scores_mae.std())\n",
    "\n",
    "# Evaluation\n",
    "rotor_test_poly = poly_features.fit_transform(rotor_test_data)\n",
    "\n",
    "start_time = time.process_time()\n",
    "rotor_pred_eval = lin_reg_poly.predict(rotor_test_poly)\n",
    "end_time = time.process_time()\n",
    "print(\"Prediction Time:\", (end_time-start_time))\n",
    "\n",
    "model_evaluation.evaluate_model(model_name, rotor_test_label_data, rotor_pred_eval)"
   ]
  },
  {
   "cell_type": "code",
   "execution_count": 9,
   "metadata": {
    "tags": []
   },
   "outputs": [
    {
     "output_type": "stream",
     "name": "stdout",
     "text": "Decision Tree Regressor rmse mean (cv): 0.12499158062819371\nDecision Tree Regressor rmse std (cv): 0.005620829891001395\nDecision Tree Regressor mae mean (cv): 0.029249208973060603\nDecision Tree Regressor mae std (cv): 0.0012057811274619073\nDecision Tree Regressor rmse (Eval): 0.10758677478832664\nDecision Tree Regressor mae (Eval): 0.023559500162866433\nDecision Tree Regressor r2 (Eval): 0.9883120236679765\n"
    }
   ],
   "source": [
    "# Decision Tree Regressor Model (Target - Rotor Temperature)\n",
    "tree_regr = DecisionTreeRegressor(max_depth = 10)\n",
    "tree_regr.fit(rotor_training_data, rotor_label_data)\n",
    "\n",
    "# Name model\n",
    "model_type = \"TreeRegr\"\n",
    "model_name = sklearn_helpers.name_model(model_type)\n",
    "\n",
    "# Save model\n",
    "sklearn_helpers.save_model(tree_reg, model_name)\n",
    "\n",
    "# Compute RMSE via cross validation\n",
    "scores_mse = cross_val_score(tree_regr, rotor_training_data, rotor_label_data, scoring = \"neg_mean_squared_error\", cv = 5)\n",
    "scores_rmse = np.sqrt(-scores_mse)\n",
    "\n",
    "# Compute MAE via cross validation\n",
    "scores_mae = cross_val_score(tree_regr, rotor_training_data, rotor_label_data, scoring = \"neg_mean_absolute_error\", cv = 5)\n",
    "scores_mae = -1 * scores_mae\n",
    "\n",
    "# Print results\n",
    "model_name = \"Decision Tree Regressor\"\n",
    "print(model_name, \"rmse mean (cv):\", scores_rmse.mean())\n",
    "print(model_name, \"rmse std (cv):\", scores_rmse.std())\n",
    "\n",
    "print(model_name, \"mae mean (cv):\", scores_mae.mean())\n",
    "print(model_name, \"mae std (cv):\", scores_mae.std())\n",
    "\n",
    "# Evaluation\n",
    "start_time = time.process_time()\n",
    "rotor_pred_eval = tree_regr.predict(rotor_test_data)\n",
    "end_time = time.process_time()\n",
    "print(\"Prediction Time:\", (end_time-start_time))\n",
    "\n",
    "model_evaluation.evaluate_model(model_name, rotor_test_label_data, rotor_pred_eval)"
   ]
  },
  {
   "cell_type": "code",
   "execution_count": 10,
   "metadata": {
    "tags": []
   },
   "outputs": [
    {
     "output_type": "stream",
     "name": "stdout",
     "text": "Random Forest Regressor rmse mean (cv): 0.07598667321870968\nRandom Forest Regressor rmse std (cv): 0.0020540376265633397\nRandom Forest Regressor mae mean (cv): 0.02930183606381942\nRandom Forest Regressor mae std (cv): 0.0004773759954893715\nRandom Forest Regressor rmse (Eval): 0.06523092994576536\nRandom Forest Regressor mae (Eval): 0.024322107164163935\nRandom Forest Regressor r2 (Eval): 0.99570336277893\n"
    }
   ],
   "source": [
    "# Random Forest Regressor Model (Target - Rotor Temperature)\n",
    "forest_regr = RandomForestRegressor(max_depth = 10)\n",
    "forest_regr.fit(rotor_training_data, rotor_label_data)\n",
    "\n",
    "# Name model\n",
    "model_type = \"ForestRegr\"\n",
    "model_name = sklearn_helpers.name_model(model_type)\n",
    "\n",
    "# Save model\n",
    "sklearn_helpers.save_model(forest_reg, model_name)\n",
    "\n",
    "# Compute RMSE via cross validation\n",
    "scores_mse = cross_val_score(forest_regr, rotor_training_data, rotor_label_data, scoring = \"neg_mean_squared_error\", cv = 5)\n",
    "scores_rmse = np.sqrt(-scores_mse)\n",
    "\n",
    "# Compute MAE via cross validation\n",
    "scores_mae = cross_val_score(forest_regr, rotor_training_data, rotor_label_data, scoring = \"neg_mean_absolute_error\", cv = 5)\n",
    "scores_mae = -1 * scores_mae\n",
    "\n",
    "# Print results\n",
    "model_name = \"Random Forest Regressor\"\n",
    "print(model_name, \"rmse mean (cv):\", scores_rmse.mean())\n",
    "print(model_name, \"rmse std (cv):\", scores_rmse.std())\n",
    "\n",
    "print(model_name, \"mae mean (cv):\", scores_mae.mean())\n",
    "print(model_name, \"mae std (cv):\", scores_mae.std())\n",
    "\n",
    "# Evaluation\n",
    "start_time = time.process_time()\n",
    "rotor_pred_eval = forest_regr.predict(rotor_test_data)\n",
    "end_time = time.process_time()\n",
    "print(\"Prediction Time:\", (end_time-start_time))\n",
    "\n",
    "model_evaluation.evaluate_model(model_name, rotor_test_label_data, rotor_pred_eval)"
   ]
  },
  {
   "cell_type": "code",
   "execution_count": 11,
   "metadata": {
    "tags": []
   },
   "outputs": [
    {
     "output_type": "stream",
     "name": "stdout",
     "text": "Random Forest [Opt] - Best Params: {'bootstrap': False, 'max_features': 4, 'n_estimators': 10}\nRandom Forest [Opt] - Best Estimator: RandomForestRegressor(bootstrap=False, ccp_alpha=0.0, criterion='mse',\n                      max_depth=None, max_features=4, max_leaf_nodes=None,\n                      max_samples=None, min_impurity_decrease=0.0,\n                      min_impurity_split=None, min_samples_leaf=1,\n                      min_samples_split=2, min_weight_fraction_leaf=0.0,\n                      n_estimators=10, n_jobs=None, oob_score=False,\n                      random_state=None, verbose=0, warm_start=False)\nRandom Forest [Opt] - Best Score: 0.07212845512150008\nRandom Forest [Opt] rmse (Eval): 0.06284784765185081\nRandom Forest [Opt] mae (Eval): 0.024614091106496365\nRandom Forest [Opt] r2 (Eval): 0.9960115664165891\n"
    }
   ],
   "source": [
    "# Random Forest Regressor - Optimised Hyperparameters\n",
    "forest_regr = RandomForestRegressor(max_depth = 10)\n",
    "\n",
    "model_name = \"Random Forest [Opt]\"\n",
    "\n",
    "best_params, best_est, best_score = hyperparameter_opt.perform_gridsearch(model_name, forest_regr, rotor_training_data, rotor_label_data)\n",
    "\n",
    "# Evaluation\n",
    "start_time = time.process_time()\n",
    "rotor_pred_eval = best_est.predict(rotor_test_data)\n",
    "end_time = time.process_time()\n",
    "print(\"Prediction Time:\", (end_time-start_time))\n",
    "\n",
    "model_evaluation.evaluate_model(model_name, rotor_test_label_data, rotor_pred_eval)"
   ]
  }
 ],
 "metadata": {
  "language_info": {
   "codemirror_mode": {
    "name": "ipython",
    "version": 3
   },
   "file_extension": ".py",
   "mimetype": "text/x-python",
   "name": "python",
   "nbconvert_exporter": "python",
   "pygments_lexer": "ipython3",
   "version": "3.6.6-final"
  },
  "orig_nbformat": 2,
  "kernelspec": {
   "name": "python36664bitd546b3131dc04b45b27adb02c244c21c",
   "display_name": "Python 3.6.6 64-bit"
  }
 },
 "nbformat": 4,
 "nbformat_minor": 2
}