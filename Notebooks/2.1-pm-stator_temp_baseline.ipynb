{
 "metadata": {
  "language_info": {
   "codemirror_mode": {
    "name": "ipython",
    "version": 3
   },
   "file_extension": ".py",
   "mimetype": "text/x-python",
   "name": "python",
   "nbconvert_exporter": "python",
   "pygments_lexer": "ipython3",
   "version": 3
  },
  "orig_nbformat": 2,
  "kernelspec": {
   "name": "python_defaultSpec_1597132937922",
   "display_name": "Python 3.6.6 64-bit"
  }
 },
 "nbformat": 4,
 "nbformat_minor": 2,
 "cells": [
  {
   "cell_type": "code",
   "execution_count": 1,
   "metadata": {
    "tags": []
   },
   "outputs": [
    {
     "output_type": "stream",
     "name": "stdout",
     "text": "0.22.2.post1\n"
    }
   ],
   "source": [
    "# Module Importations\n",
    "import numpy as np\n",
    "import pandas as pd\n",
    "import sklearn\n",
    "import time\n",
    "from sklearn.ensemble import RandomForestRegressor\n",
    "from sklearn.linear_model import LinearRegression\n",
    "from sklearn.model_selection import cross_val_score\n",
    "from sklearn.tree import DecisionTreeRegressor\n",
    "\n",
    "# Print versioning information\n",
    "print(sklearn.__version__)"
   ]
  },
  {
   "cell_type": "code",
   "execution_count": 2,
   "metadata": {},
   "outputs": [],
   "source": [
    "# Project Module Importations\n",
    "from src.data import load_data\n",
    "from src.data import split_data\n",
    "from src.models import model_evaluation\n",
    "from src.models import sklearn_helpers "
   ]
  },
  {
   "cell_type": "code",
   "execution_count": 3,
   "metadata": {},
   "outputs": [],
   "source": [
    "# Load dataset\n",
    "original_dataset = load_data.load_motor_data()"
   ]
  },
  {
   "cell_type": "code",
   "execution_count": 4,
   "metadata": {},
   "outputs": [],
   "source": [
    "# Split data into training / evaluation sets\n",
    "training_set, evaluation_set = split_data.split_train_test(original_dataset, 0.8)"
   ]
  },
  {
   "cell_type": "code",
   "execution_count": 5,
   "metadata": {
    "tags": []
   },
   "outputs": [
    {
     "output_type": "stream",
     "name": "stdout",
     "text": "ambient        coolant            u_d            u_q  \\\ncount  199614.000000  199614.000000  199614.000000  199614.000000   \nmean       -0.005043       0.005308       0.003792      -0.005359   \nstd         0.996490       1.002488       0.998747       1.001464   \nmin        -5.239872      -1.270450      -1.654002      -1.852853   \n25%        -0.601386      -1.037872      -0.831843      -0.924537   \n50%         0.266671      -0.178200       0.267391      -0.098490   \n75%         0.686838       0.673512       0.358587       0.848608   \nmax         2.954662       2.296845       2.273808       1.788773   \n\n         motor_speed         torque            i_d            i_q  \\\ncount  199614.000000  199614.000000  199614.000000  199614.000000   \nmean       -0.004852      -0.001687       0.004184      -0.001570   \nstd         1.001954       0.998525       0.999021       0.998389   \nmin        -1.353747      -3.339106      -3.235659      -3.329749   \n25%        -0.951892      -0.267419      -0.759524      -0.257273   \n50%        -0.140246      -0.186549       0.206151      -0.183473   \n75%         0.856986       0.548676       1.013975       0.501003   \nmax         2.024162       3.016479       1.060718       2.914179   \n\n                  pm    stator_yoke   stator_tooth  stator_winding  \ncount  199614.000000  199614.000000  199614.000000   199614.000000  \nmean       -0.004875       0.001077      -0.001664       -0.003221  \nstd         0.997822       1.002443       1.000849        0.998714  \nmin        -2.631581      -1.833552      -2.063137       -2.019349  \n25%        -0.677244      -0.747915      -0.761951       -0.725616  \n50%         0.095507      -0.057212       0.005475        0.008515  \n75%         0.682715       0.698267       0.772167        0.729825  \nmax         2.917456       2.443347       2.325405        2.633611  \n"
    }
   ],
   "source": [
    "# Drop profile id data (both sets)\n",
    "training_set = training_set.drop(\"profile_id\", axis = 1)\n",
    "print(training_set.describe())\n",
    "\n",
    "evaluation_set = evaluation_set.drop(\"profile_id\", axis = 1)"
   ]
  },
  {
   "cell_type": "code",
   "execution_count": 6,
   "metadata": {
    "tags": []
   },
   "outputs": [],
   "source": [
    "# Create targets dataset (Stator yoke, tooth and winding temperature)\n",
    "\n",
    "# Training Set\n",
    "stator_training_data = training_set.drop([\"stator_yoke\", \"stator_tooth\", \"stator_winding\"], axis = 1)\n",
    "\n",
    "stator_label_data = training_set[[\"stator_yoke\", \"stator_tooth\", \"stator_winding\"]].copy()\n",
    "\n",
    "# Evaluation Set\n",
    "stator_eval_data = evaluation_set.drop([\"stator_yoke\", \"stator_tooth\", \"stator_winding\"], axis = 1)\n",
    "\n",
    "stator_eval_label = evaluation_set[[\"stator_yoke\", \"stator_tooth\", \"stator_winding\"]].copy()"
   ]
  },
  {
   "cell_type": "code",
   "execution_count": 8,
   "metadata": {
    "tags": []
   },
   "outputs": [
    {
     "output_type": "stream",
     "name": "stdout",
     "text": "[4.2768993, 4.3885418000000005, 4.6529601]\n4.4394670666666665\n"
    }
   ],
   "source": [
    "# Evaluation metric (mean of ranges)\n",
    "\n",
    "def return_column_range(dataframe, column_name):\n",
    "    column_range = dataframe[column_name].max() - dataframe[column_name].min()\n",
    "    return column_range\n",
    "\n",
    "def ranges_mean(ranges_list):\n",
    "    ranges_mean_value = sum(ranges_list) / len(ranges_list)\n",
    "    return ranges_mean_value\n",
    "\n",
    "# Claculate mean of each data column\n",
    "ranges_sum = []\n",
    "\n",
    "range_yoke = return_column_range(stator_label_data, \"stator_yoke\")\n",
    "ranges_sum.append(range_yoke)\n",
    "\n",
    "range_tooth = return_column_range(stator_label_data, \"stator_tooth\")\n",
    "ranges_sum.append(range_tooth)\n",
    "\n",
    "range_winding = return_column_range(stator_label_data, \"stator_winding\")\n",
    "ranges_sum.append(range_winding)\n",
    "print(ranges_sum)\n",
    "\n",
    "# Claculate mean of ranges\n",
    "ranges_mean = ranges_mean(ranges_sum)\n",
    "print(ranges_mean)"
   ]
  },
  {
   "cell_type": "code",
   "execution_count": 9,
   "metadata": {
    "tags": []
   },
   "outputs": [
    {
     "output_type": "stream",
     "name": "stdout",
     "text": "Save Path: C:\\Developer\\electric_motor_thermal_modelling\\Models\\YC_[MO]LinRegr_2020_08_11-11_02_22.pkl\n[MO]LinRegr rmse mean (cv): 0.38052400693843447\n[MO]LinRegr rmse std (cv): 0.002518489673301722\n[MO]LinRegr Percent Err (cv): 8.571389340751377\n[MO]LinRegr mae mean (cv): 0.27681278148007504\n[MO]LinRegr mae std (cv): 0.0013704624881080666\n[MO]LinRegr Percent Err (cv): 6.235270525115471\nPrediction Time: 0.078125\n[MO]LinRegr rmse (Eval): 0.38016795502001005\n[MO]LinRegr mae (Eval): 0.2765778162024338\n[MO]LinRegr r2 (Eval): 0.8551919747563934\n"
    }
   ],
   "source": [
    "# Linear Regression Model (Target - Yoke/Tooth/Winding Temperature)\n",
    "lin_reg = LinearRegression()\n",
    "lin_reg.fit(stator_training_data, stator_label_data)\n",
    "\n",
    "# Name model\n",
    "model_type = \"[MO]LinRegr\"\n",
    "model_name = sklearn_helpers.name_model(model_type)\n",
    "\n",
    "# Save model\n",
    "sklearn_helpers.save_model(lin_reg, model_name)\n",
    "\n",
    "# Compute RMSE via cross valiation\n",
    "scores_mse = cross_val_score(lin_reg, stator_training_data, stator_label_data, scoring = \"neg_mean_squared_error\", cv = 5)\n",
    "scores_rmse = np.sqrt(-scores_mse)\n",
    "\n",
    "# Compute MAE via cross validation\n",
    "scores_mae = cross_val_score(lin_reg, stator_training_data, stator_label_data, scoring = \"neg_mean_absolute_error\", cv = 5)\n",
    "scores_mae = -1 * scores_mae\n",
    "\n",
    "# Print CV results\n",
    "print(model_type, \"rmse mean (cv):\", scores_rmse.mean())\n",
    "print(model_type, \"rmse std (cv):\", scores_rmse.std())\n",
    "print(model_type, \"Percent Err (cv):\", ((scores_rmse.mean()/ranges_mean)*100))\n",
    "\n",
    "print(model_type, \"mae mean (cv):\", scores_mae.mean())\n",
    "print(model_type, \"mae std (cv):\", scores_mae.std())\n",
    "print(model_type, \"Percent Err (cv):\", ((scores_mae.mean()/ranges_mean)*100))\n",
    "\n",
    "# Evaluation\n",
    "start_time = time.process_time()\n",
    "stator_pred_eval = lin_reg.predict(stator_eval_data)\n",
    "end_time = time.process_time()\n",
    "print(\"Prediction Time:\", (end_time-start_time))\n",
    "\n",
    "model_evaluation.evaluate_model(model_type, stator_eval_label, stator_pred_eval)"
   ]
  },
  {
   "cell_type": "code",
   "execution_count": 39,
   "metadata": {
    "tags": []
   },
   "outputs": [
    {
     "output_type": "stream",
     "name": "stdout",
     "text": "(Multi-Output) Decision Tree Regressor rmse mean (cv): 0.12072972832880532\n(Multi-Output) Decision Tree Regressor rmse std (cv): 0.003910139730143068\n(Multi-Output) Decision Tree Regressor Percent Err (cv): 2.7194644428222814\n(Multi-Output) Decision Tree Regressor mae mean (cv): 0.033279959589592456\n(Multi-Output) Decision Tree Regressor mae std (cv): 0.0006864421996982308\n(Multi-Output) Decision Tree Regressor Percent Err (cv): 0.7496386185511319\n(Multi-Output) Decision Tree Regressor rmse (Eval): 0.11091435219019949\n(Multi-Output) Decision Tree Regressor mae (Eval): 0.028154961854548462\n(Multi-Output) Decision Tree Regressor r2 (Eval): 0.9876740610641462\n"
    }
   ],
   "source": [
    "# Decision Tree Regressor Model (Target - Yoke/Tooth/Winding Temperature)\n",
    "tree_reg = DecisionTreeRegressor()\n",
    "tree_reg.fit(stator_training_data, stator_label_data)\n",
    "\n",
    "# Name model\n",
    "model_type = \"[MO]TreeRegr\"\n",
    "model_name = sklearn_helpers.name_model(model_type)\n",
    "\n",
    "# Save model\n",
    "sklearn_helpers.save_model(tree_reg, model_name)\n",
    "\n",
    "# Compute RMSE via cross valiation\n",
    "scores_mse = cross_val_score(tree_reg, stator_training_data, stator_label_data, scoring = \"neg_mean_squared_error\", cv = 5)\n",
    "scores_rmse = np.sqrt(-scores_mse)\n",
    "\n",
    "# Compute MAE via cross validation\n",
    "scores_mae = cross_val_score(tree_reg, stator_training_data, stator_label_data, scoring = \"neg_mean_absolute_error\", cv = 5)\n",
    "scores_mae = -1 * scores_mae\n",
    "\n",
    "# Print CV results\n",
    "model_name = \"(Multi-Output) Decision Tree Regressor\"\n",
    "print(model_name, \"rmse mean (cv):\", scores_rmse.mean())\n",
    "print(model_name, \"rmse std (cv):\", scores_rmse.std())\n",
    "print(model_name, \"Percent Err (cv):\", ((scores_rmse.mean()/ranges_mean)*100))\n",
    "\n",
    "print(model_name, \"mae mean (cv):\", scores_mae.mean())\n",
    "print(model_name, \"mae std (cv):\", scores_mae.std())\n",
    "print(model_name, \"Percent Err (cv):\", ((scores_mae.mean()/ranges_mean)*100))\n",
    "\n",
    "# Evaluation\n",
    "start_time = time.process_time()\n",
    "stator_pred_eval = tree_reg.predict(stator_eval_data)\n",
    "end_time = time.process_time()\n",
    "print(\"Prediction Time:\", (end_time-start_time))\n",
    "\n",
    "model_evaluation.evaluate_model(model_name, stator_eval_label, stator_pred_eval)"
   ]
  },
  {
   "cell_type": "code",
   "execution_count": 41,
   "metadata": {
    "tags": []
   },
   "outputs": [
    {
     "output_type": "stream",
     "name": "stdout",
     "text": "(Multi-Output) Random Forest Regressor rmse mean (cv): 0.08195011489006596\n(Multi-Output) Random Forest Regressor rmse std (cv): 0.0018287740887306444\n(Multi-Output) Random Forest Regressor Percent Err (cv): 1.8459448771538576\n(Multi-Output) Random Forest Regressor mae mean (cv): 0.03131729587239264\n(Multi-Output) Random Forest Regressor mae std (cv): 0.00033060547953988505\n(Multi-Output) Random Forest Regressor Percent Err (cv): 0.7054291743154419\n(Multi-Output) Random Forest Regressor rmse (Eval): 0.07456924123853544\n(Multi-Output) Random Forest Regressor mae (Eval): 0.027295399097267747\n(Multi-Output) Random Forest Regressor r2 (Eval): 0.9944285533635128\n"
    }
   ],
   "source": [
    "# Random Forest Regressor Model (Target - Yoke/Tooth/Winding Temperature)\n",
    "forest_reg = RandomForestRegressor()\n",
    "forest_reg.fit(stator_training_data, stator_label_data)\n",
    "\n",
    "# Name model\n",
    "model_type = \"[MO]ForestRegr\"\n",
    "model_name = sklearn_helpers.name_model(model_type)\n",
    "\n",
    "# Save model\n",
    "sklearn_helpers.save_model(forest_reg, model_name)\n",
    "\n",
    "# Compute RMSE via cross valiation\n",
    "scores_mse = cross_val_score(forest_reg, stator_training_data, stator_label_data, scoring = \"neg_mean_squared_error\", cv = 5)\n",
    "scores_rmse = np.sqrt(-scores_mse)\n",
    "\n",
    "# Compute MAE via cross validation\n",
    "scores_mae = cross_val_score(forest_reg, stator_training_data, stator_label_data, scoring = \"neg_mean_absolute_error\", cv = 5)\n",
    "scores_mae = -1 * scores_mae\n",
    "\n",
    "# Print CV results\n",
    "model_name = \"(Multi-Output) Random Forest Regressor\"\n",
    "print(model_name, \"rmse mean (cv):\", scores_rmse.mean())\n",
    "print(model_name, \"rmse std (cv):\", scores_rmse.std())\n",
    "print(model_name, \"Percent Err (cv):\", ((scores_rmse.mean()/ranges_mean)*100))\n",
    "\n",
    "print(model_name, \"mae mean (cv):\", scores_mae.mean())\n",
    "print(model_name, \"mae std (cv):\", scores_mae.std())\n",
    "print(model_name, \"Percent Err (cv):\", ((scores_mae.mean()/ranges_mean)*100))\n",
    "\n",
    "# Evaluation\n",
    "start_time = time.process_time()\n",
    "stator_pred_eval = forest_reg.predict(stator_eval_data)\n",
    "end_time = time.process_time()\n",
    "print(\"Prediction Time:\", (end_time-start_time))\n",
    "\n",
    "model_evaluation.evaluate_model(model_name, stator_eval_label, stator_pred_eval)"
   ]
  },
  {
   "cell_type": "code",
   "execution_count": null,
   "metadata": {},
   "outputs": [],
   "source": []
  }
 ]
}