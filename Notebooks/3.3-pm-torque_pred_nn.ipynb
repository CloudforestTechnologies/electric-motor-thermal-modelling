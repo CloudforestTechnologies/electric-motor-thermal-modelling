{
 "metadata": {
  "language_info": {
   "codemirror_mode": {
    "name": "ipython",
    "version": 3
   },
   "file_extension": ".py",
   "mimetype": "text/x-python",
   "name": "python",
   "nbconvert_exporter": "python",
   "pygments_lexer": "ipython3",
   "version": "3.6.6-final"
  },
  "orig_nbformat": 2,
  "kernelspec": {
   "name": "Python 3.6.6 64-bit",
   "display_name": "Python 3.6.6 64-bit",
   "metadata": {
    "interpreter": {
     "hash": "3f92393cf9312ed24f4ccae2fdf5dee1635074d2034ccfaec2d070f8b1ae4f04"
    }
   }
  }
 },
 "nbformat": 4,
 "nbformat_minor": 2,
 "cells": [
  {
   "cell_type": "code",
   "execution_count": 1,
   "metadata": {
    "tags": []
   },
   "outputs": [
    {
     "output_type": "stream",
     "name": "stderr",
     "text": "Using TensorFlow backend.\nkeras Version 2.3.1\n"
    }
   ],
   "source": [
    "# Module Importations\n",
    "from sklearn.metrics import mean_absolute_error\n",
    "from sklearn.metrics import mean_squared_error\n",
    "from sklearn.model_selection import train_test_split\n",
    "import keras\n",
    "import numpy as np\n",
    "import time\n",
    "\n",
    "print('sklearn Version', sklearn.__version__)\n",
    "print('keras Version', keras.__version__)"
   ]
  },
  {
   "cell_type": "code",
   "execution_count": 2,
   "metadata": {},
   "outputs": [],
   "source": [
    "# Custom Module Imports\n",
    "from src.data import load_data\n",
    "from src.data import split_data\n",
    "from src.models import model_evaluation\n",
    "from src.models import keras_helpers "
   ]
  },
  {
   "cell_type": "code",
   "execution_count": 3,
   "metadata": {},
   "outputs": [],
   "source": [
    "# Load Dataset\n",
    "original_dataset = load_data.load_motor_data()"
   ]
  },
  {
   "cell_type": "code",
   "execution_count": 4,
   "metadata": {},
   "outputs": [],
   "source": [
    "# Split Data into Training & Evaluation Sets\n",
    "train_set, eval_set = split_data.split_train_test(original_dataset, 0.8)"
   ]
  },
  {
   "cell_type": "code",
   "execution_count": 5,
   "metadata": {},
   "outputs": [],
   "source": [
    "# Drop Profile ID (Cleaning)\n",
    "train_set = train_set.drop(\"profile_id\", axis = 1)\n",
    "eval_set = eval_set.drop(\"profile_id\", axis = 1)"
   ]
  },
  {
   "cell_type": "code",
   "execution_count": 6,
   "metadata": {},
   "outputs": [],
   "source": [
    "# Create Torque Target Dataset\n",
    "torque_train_data = train_set.drop(\"torque\", axis = 1)\n",
    "torque_label_data = train_set[\"torque\"].copy()\n",
    "\n",
    "torque_eval_data = eval_set.drop(\"torque\", axis = 1)\n",
    "torque_eval_label = eval_set[\"torque\"].copy()"
   ]
  },
  {
   "cell_type": "code",
   "execution_count": 7,
   "metadata": {
    "tags": []
   },
   "outputs": [
    {
     "output_type": "stream",
     "name": "stdout",
     "text": "Torque range: 6.3629233\n"
    }
   ],
   "source": [
    "# Create Evaluation Metric (Range)\n",
    "\n",
    "# Calculate arithmetic range of torque readings\n",
    "torque_range = original_dataset[\"torque\"].max() - original_dataset[\"torque\"].min()\n",
    "\n",
    "print(\"Torque range:\", torque_range)"
   ]
  },
  {
   "cell_type": "code",
   "execution_count": 11,
   "metadata": {
    "tags": []
   },
   "outputs": [
    {
     "output_type": "stream",
     "name": "stdout",
     "text": "(159691, 11)\n"
    }
   ],
   "source": [
    "# Create Train / Test Arrays\n",
    "X_train, X_test, y_train, y_test = train_test_split(torque_train_data, torque_label_data, test_size = 0.2, random_state = 0)\n",
    "\n",
    "print(X_train.shape)"
   ]
  },
  {
   "cell_type": "code",
   "execution_count": null,
   "metadata": {},
   "outputs": [],
   "source": [
    "# Multilayer Perceptron NN (Target - Torque)\n",
    "\n",
    "# Clear existing models\n",
    "keras.backend.clear_session()\n",
    "\n",
    "# Investigate impact of parameter distribution\n",
    "param_distribs = {\n",
    "    \"n_hidden\": [1, 4, 8],\n",
    "    \"n_neurons\": np.arange(1, 100),\n",
    "    \"learning_rate\": reciprocals(3e-4, 3e-2)\n",
    "    }\n",
    "\n",
    "# Build model\n",
    "wrapped_model = keras_helpers.wrap_model()\n",
    "\n",
    "# Initialise random search\n",
    "rnd_search_cv = RandomizedSearchCV(wrapped_model, param_distribs, n_iter = 10, cv = 3)\n",
    "\n",
    "# Name model\n",
    "model_type = \"MLP-Torque\"\n",
    "model_id = keras_helpers.name_model(model_type)\n",
    "filepath_full = keras_helpers.make_save_string(model_id)\n",
    "\n",
    "# Implement save and earlystop callbacks\n",
    "earlystop_cb = keras.callbacks.EarlyStopping(patience = 5)\n",
    "checkpoint_cb = keras.callbacks.ModelCheckpoint(filepath = filepath_full, save_best_only = True)\n",
    "\n",
    "# Train model\n",
    "rnd_search_cv.fit(X_train, y_train, epochs = 100, validation_data = (X_test, y_test), callbacks = [checkpoint_cb, earlystop_cb])"
   ]
  }
 ]
}