{
 "metadata": {
  "language_info": {
   "codemirror_mode": {
    "name": "ipython",
    "version": 3
   },
   "file_extension": ".py",
   "mimetype": "text/x-python",
   "name": "python",
   "nbconvert_exporter": "python",
   "pygments_lexer": "ipython3",
   "version": "3.6.6-final"
  },
  "orig_nbformat": 2,
  "kernelspec": {
   "name": "python_defaultSpec_1597753715001",
   "display_name": "Python 3.6.6 64-bit"
  }
 },
 "nbformat": 4,
 "nbformat_minor": 2,
 "cells": [
  {
   "cell_type": "code",
   "execution_count": 1,
   "metadata": {
    "tags": []
   },
   "outputs": [
    {
     "output_type": "stream",
     "name": "stderr",
     "text": "Using TensorFlow backend.\nkeras.__version__= 2.3.1\n"
    }
   ],
   "source": [
    "# Module Importations\n",
    "from scipy.stats import reciprocal\n",
    "from sklearn.metrics import mean_absolute_error\n",
    "from sklearn.metrics import mean_squared_error\n",
    "from sklearn.model_selection import train_test_split\n",
    "from sklearn.model_selection import RandomizedSearchCV\n",
    "import keras\n",
    "import numpy as np\n",
    "import time\n",
    "\n",
    "print('keras.__version__=', keras.__version__)"
   ]
  },
  {
   "cell_type": "code",
   "execution_count": 8,
   "metadata": {},
   "outputs": [],
   "source": [
    "# Project Module Importations\n",
    "from src.data import load_data\n",
    "from src.data import split_data\n",
    "from src.models import keras_helpers\n",
    "from src.models import model_evaluation"
   ]
  },
  {
   "cell_type": "code",
   "execution_count": 9,
   "metadata": {},
   "outputs": [],
   "source": [
    "# Load dataset\n",
    "original_dataset = load_data.load_motor_data()"
   ]
  },
  {
   "cell_type": "code",
   "execution_count": 10,
   "metadata": {},
   "outputs": [],
   "source": [
    "# Split data into training / evaluation sets\n",
    "training_set, evaluation_set = split_data.split_train_test(original_dataset, 0.8)"
   ]
  },
  {
   "cell_type": "code",
   "execution_count": 11,
   "metadata": {},
   "outputs": [],
   "source": [
    "# Drop profile id data column\n",
    "training_set = training_set.drop(\"profile_id\", axis = 1)\n",
    "evaluation_set = evaluation_set.drop(\"profile_id\", axis = 1)"
   ]
  },
  {
   "cell_type": "code",
   "execution_count": 12,
   "metadata": {},
   "outputs": [],
   "source": [
    "# Create targets dataset (Stator yoke, tooth and winding temperature)\n",
    "\n",
    "# Training Set\n",
    "stator_training_data = training_set.drop([\"stator_yoke\", \"stator_tooth\", \"stator_winding\"], axis = 1)\n",
    "\n",
    "stator_label_data = training_set[[\"stator_yoke\", \"stator_tooth\", \"stator_winding\"]].copy()\n",
    "\n",
    "# Evaluation Set\n",
    "stator_eval_data = evaluation_set.drop([\"stator_yoke\", \"stator_tooth\", \"stator_winding\"], axis = 1)\n",
    "\n",
    "stator_eval_label = evaluation_set[[\"stator_yoke\", \"stator_tooth\", \"stator_winding\"]].copy()"
   ]
  },
  {
   "cell_type": "code",
   "execution_count": 13,
   "metadata": {
    "tags": []
   },
   "outputs": [
    {
     "output_type": "stream",
     "name": "stdout",
     "text": "X_train: (159691, 9) Y_train: (159691, 3)\n"
    }
   ],
   "source": [
    "# Create train & test arrays\n",
    "X_train, X_test, y_train, y_test = train_test_split(stator_training_data, stator_label_data, test_size = 0.2, random_state = 0)\n",
    "\n",
    "print(\"X_train:\", X_train.shape, \"Y_train:\", y_train.shape)"
   ]
  },
  {
   "cell_type": "code",
   "execution_count": 8,
   "metadata": {
    "tags": []
   },
   "outputs": [
    {
     "output_type": "error",
     "ename": "NameError",
     "evalue": "name 'keras_helpers' is not defined",
     "traceback": [
      "\u001b[1;31m---------------------------------------------------------------------------\u001b[0m",
      "\u001b[1;31mNameError\u001b[0m                                 Traceback (most recent call last)",
      "\u001b[1;32m<ipython-input-8-b45c7c9a0c83>\u001b[0m in \u001b[0;36m<module>\u001b[1;34m\u001b[0m\n\u001b[0;32m     15\u001b[0m \u001b[1;33m\u001b[0m\u001b[0m\n\u001b[0;32m     16\u001b[0m \u001b[1;31m# Build model\u001b[0m\u001b[1;33m\u001b[0m\u001b[1;33m\u001b[0m\u001b[0m\n\u001b[1;32m---> 17\u001b[1;33m \u001b[0mwrapped_model\u001b[0m \u001b[1;33m=\u001b[0m \u001b[0mkeras_helpers\u001b[0m\u001b[1;33m.\u001b[0m\u001b[0mwrap_model\u001b[0m\u001b[1;33m(\u001b[0m\u001b[1;33m)\u001b[0m\u001b[1;33m\u001b[0m\u001b[0m\n\u001b[0m\u001b[0;32m     18\u001b[0m \u001b[1;33m\u001b[0m\u001b[0m\n\u001b[0;32m     19\u001b[0m \u001b[1;31m# Initialise random search\u001b[0m\u001b[1;33m\u001b[0m\u001b[1;33m\u001b[0m\u001b[0m\n",
      "\u001b[1;31mNameError\u001b[0m: name 'keras_helpers' is not defined"
     ]
    }
   ],
   "source": [
    "# Multilayer Perceptron (Target - Stator Temperatures)\n",
    "\n",
    "# Clear existing models\n",
    "keras.backend.clear_session()\n",
    "\n",
    "# Define parameter distribution\n",
    "param_distribs = {\n",
    "    \"n_hidden\": [1, 4, 8],\n",
    "    \"n_neurons\": np.arange(1, 100),\n",
    "    \"learning_rate\": reciprocal(3e-4, 3e-2),\n",
    "    }\n",
    "\n",
    "#    \"input_shape\": [9],\n",
    "#    \"output_shape\": [3]\n",
    "\n",
    "# Build model\n",
    "wrapped_model = keras_helpers.wrap_model()\n",
    "\n",
    "# Initialise random search\n",
    "rnd_search_cv = RandomizedSearchCV(wrapped_model, param_distribs, n_iter = 10, cv = 3)\n",
    "\n",
    "# Name model\n",
    "model_type = \"MLP-StatorTemps\"\n",
    "model_id = keras_helpers.name_model(model_type)\n",
    "filepath_full = keras_helpers.make_save_string(model_id)\n",
    "\n",
    "# Set save & early stop callbacks\n",
    "earlystop_cb = keras.callbacks.EarlyStopping(patience = 5)\n",
    "checkpoint_cb = keras.callbacks.ModelCheckpoint(filepath = filepath_full, save_best_only = True)\n",
    "\n",
    "# Train model\n",
    "rnd_search_cv.fit( X_train, y_train, epochs = 50, validation_data =(X_test, y_test), callbacks =[checkpoint_cb, earlystop_cb])"
   ]
  },
  {
   "cell_type": "code",
   "execution_count": 15,
   "metadata": {
    "tags": []
   },
   "outputs": [
    {
     "output_type": "stream",
     "name": "stdout",
     "text": "Prediction Time: 14.265625\nMLP - Stator rmse (Eval): 0.22798583686673063\nMLP - Stator mae (Eval): 0.14750733649272577\nMLP - Stator r2 (Eval): 0.9479234362492818\n"
    }
   ],
   "source": [
    "# Model Evaluation\n",
    "\n",
    "# Load model\n",
    "filepath = r'C:\\Developer\\electric_motor_thermal_modelling\\Models\\YC_MLP-StatorTemps_2020_08_18-11_35_56.h5'\n",
    "\n",
    "model = keras.models.load_model(filepath)\n",
    "\n",
    "# Evaluation\n",
    "start_time = time.process_time()\n",
    "stator_pred_eval = model.predict(stator_eval_data)\n",
    "end_time = time.process_time()\n",
    "print(\"Prediction Time:\", (end_time-start_time))\n",
    "\n",
    "model_name = \"MLP - Stator\"\n",
    "model_evaluation.evaluate_model(model_name, stator_eval_label, stator_pred_eval)\n",
    "#model.evaluate(stator_test_data, stator_test_label)"
   ]
  },
  {
   "cell_type": "code",
   "execution_count": null,
   "metadata": {},
   "outputs": [],
   "source": []
  }
 ]
}