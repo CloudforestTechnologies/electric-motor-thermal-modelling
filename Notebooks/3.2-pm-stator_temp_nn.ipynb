{
 "metadata": {
  "language_info": {
   "codemirror_mode": {
    "name": "ipython",
    "version": 3
   },
   "file_extension": ".py",
   "mimetype": "text/x-python",
   "name": "python",
   "nbconvert_exporter": "python",
   "pygments_lexer": "ipython3",
   "version": "3.6.6-final"
  },
  "orig_nbformat": 2,
  "kernelspec": {
   "name": "python_defaultSpec_1597742836260",
   "display_name": "Python 3.6.6 64-bit"
  }
 },
 "nbformat": 4,
 "nbformat_minor": 2,
 "cells": [
  {
   "cell_type": "code",
   "execution_count": 1,
   "metadata": {
    "tags": []
   },
   "outputs": [
    {
     "output_type": "stream",
     "name": "stderr",
     "text": "Using TensorFlow backend.\nkeras.__version__= 2.3.1\n"
    }
   ],
   "source": [
    "# Module Importations\n",
    "from scipy.stats import reciprocal\n",
    "from sklearn.metrics import mean_absolute_error\n",
    "from sklearn.metrics import mean_squared_error\n",
    "from sklearn.model_selection import train_test_split\n",
    "from sklearn.model_selection import RandomizedSearchCV\n",
    "import keras\n",
    "import numpy as np\n",
    "import time\n",
    "\n",
    "print('keras.__version__=', keras.__version__)"
   ]
  },
  {
   "cell_type": "code",
   "execution_count": 2,
   "metadata": {},
   "outputs": [],
   "source": [
    "# Project Module Importations\n",
    "from src.data import load_data\n",
    "from src.data import split_data\n",
    "from src.models import keras_helpers\n",
    "from src.models import model_evaluation"
   ]
  },
  {
   "cell_type": "code",
   "execution_count": 4,
   "metadata": {},
   "outputs": [],
   "source": [
    "# Load dataset\n",
    "original_dataset = load_data.load_motor_data()"
   ]
  },
  {
   "cell_type": "code",
   "execution_count": 5,
   "metadata": {},
   "outputs": [],
   "source": [
    "# Split data into training / evaluation sets\n",
    "training_set, evaluation_set = split_data.split_train_test(original_dataset, 0.8)"
   ]
  },
  {
   "cell_type": "code",
   "execution_count": 6,
   "metadata": {},
   "outputs": [],
   "source": [
    "# Drop profile id data column\n",
    "training_set = training_set.drop(\"profile_id\", axis = 1)\n",
    "evaluation_set = evaluation_set.drop(\"profile_id\", axis = 1)"
   ]
  },
  {
   "cell_type": "code",
   "execution_count": 7,
   "metadata": {},
   "outputs": [],
   "source": [
    "# Create targets dataset (Stator yoke, tooth and winding temperature)\n",
    "\n",
    "# Training Set\n",
    "stator_training_data = training_set.drop([\"stator_yoke\", \"stator_tooth\", \"stator_winding\"], axis = 1)\n",
    "\n",
    "stator_label_data = training_set[[\"stator_yoke\", \"stator_tooth\", \"stator_winding\"]].copy()\n",
    "\n",
    "# Evaluation Set\n",
    "stator_eval_data = evaluation_set.drop([\"stator_yoke\", \"stator_tooth\", \"stator_winding\"], axis = 1)\n",
    "\n",
    "stator_eval_label = evaluation_set[[\"stator_yoke\", \"stator_tooth\", \"stator_winding\"]].copy()"
   ]
  },
  {
   "cell_type": "code",
   "execution_count": 8,
   "metadata": {
    "tags": []
   },
   "outputs": [
    {
     "output_type": "stream",
     "name": "stdout",
     "text": "X_train: (159691, 9) Y_train: (159691, 3)\n"
    }
   ],
   "source": [
    "# Create train & test arrays\n",
    "X_train, X_test, y_train, y_test = train_test_split(stator_training_data, stator_label_data, test_size = 0.2, random_state = 0)\n",
    "\n",
    "print(\"X_train:\", X_train.shape, \"Y_train:\", y_train.shape)"
   ]
  },
  {
   "cell_type": "code",
   "execution_count": null,
   "metadata": {},
   "outputs": [],
   "source": [
    "# Multilayer Perceptron (Target - Stator Temperatures)\n",
    "\n",
    "# Clear existing models\n",
    "\n",
    "# Define parameter distribution\n",
    "\n",
    "# Build model\n",
    "\n",
    "# Initialise random search\n",
    "\n",
    "# Name model\n",
    "\n",
    "# Set save & early stop callbacks\n",
    "\n",
    "# Train model"
   ]
  },
  {
   "cell_type": "code",
   "execution_count": null,
   "metadata": {},
   "outputs": [],
   "source": [
    "# Model Evaluation"
   ]
  }
 ]
}