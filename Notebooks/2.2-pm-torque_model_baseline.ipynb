{
 "metadata": {
  "language_info": {
   "codemirror_mode": {
    "name": "ipython",
    "version": 3
   },
   "file_extension": ".py",
   "mimetype": "text/x-python",
   "name": "python",
   "nbconvert_exporter": "python",
   "pygments_lexer": "ipython3",
   "version": "3.6.6-final"
  },
  "orig_nbformat": 2,
  "kernelspec": {
   "name": "python_defaultSpec_1599750882855",
   "display_name": "Python 3.6.6 64-bit"
  }
 },
 "nbformat": 4,
 "nbformat_minor": 2,
 "cells": [
  {
   "cell_type": "code",
   "execution_count": 13,
   "metadata": {
    "tags": []
   },
   "outputs": [
    {
     "output_type": "stream",
     "name": "stdout",
     "text": "0.22.2.post1\n"
    }
   ],
   "source": [
    "# Module Importations\n",
    "import numpy as np\n",
    "import pandas as pd\n",
    "import sklearn\n",
    "import time\n",
    "from sklearn.ensemble import RandomForestRegressor\n",
    "from sklearn.linear_model import LinearRegression\n",
    "from sklearn.metrics import mean_absolute_error\n",
    "from sklearn.metrics import mean_squared_error\n",
    "from sklearn.model_selection import cross_val_score\n",
    "from sklearn.preprocessing import PolynomialFeatures\n",
    "from sklearn.svm import SVR\n",
    "from sklearn.tree import DecisionTreeRegressor\n",
    "\n",
    "# Print versioning information\n",
    "print(sklearn.__version__)"
   ]
  },
  {
   "cell_type": "code",
   "execution_count": 14,
   "metadata": {},
   "outputs": [],
   "source": [
    "# Project Module Importations\n",
    "from src.data import load_data\n",
    "from src.data import split_data\n",
    "from src.features import hyperparameter_opt\n",
    "from src.models import model_evaluation\n",
    "from src.models import sklearn_helpers"
   ]
  },
  {
   "cell_type": "code",
   "execution_count": 15,
   "metadata": {},
   "outputs": [],
   "source": [
    "# Load dataset\n",
    "original_dataset = load_data.load_motor_data()"
   ]
  },
  {
   "cell_type": "code",
   "execution_count": 16,
   "metadata": {},
   "outputs": [],
   "source": [
    "# Split data into training / evaluation sets\n",
    "train_set, eval_set = split_data.split_train_test(original_dataset, 0.8)"
   ]
  },
  {
   "cell_type": "code",
   "execution_count": 17,
   "metadata": {
    "tags": []
   },
   "outputs": [],
   "source": [
    "# Drop profile id data column (both sets)\n",
    "train_set = train_set.drop(\"profile_id\", axis = 1)\n",
    "\n",
    "eval_set = eval_set.drop(\"profile_id\", axis = 1)"
   ]
  },
  {
   "cell_type": "code",
   "execution_count": 18,
   "metadata": {},
   "outputs": [],
   "source": [
    "# Create torque target datasets\n",
    "torque_train_data = train_set.drop(\"torque\", axis = 1)\n",
    "torque_label_data = train_set[\"torque\"].copy()\n",
    "\n",
    "torque_eval_data = eval_set.drop(\"torque\", axis = 1)\n",
    "torque_eval_label = eval_set[\"torque\"].copy()"
   ]
  },
  {
   "cell_type": "code",
   "execution_count": 19,
   "metadata": {
    "tags": []
   },
   "outputs": [
    {
     "output_type": "stream",
     "name": "stdout",
     "text": "Save Path: C:\\Developer\\electric_motor_thermal_modelling\\Models\\YC_LinRegr_Torque_2020_09_10-16_43_15.pkl\nLinear Regression rmse mean (cv): 0.06137364641945211\nLinear Regression mae mean (cv): 0.041007579675782946\nPrediction Time: 0.015625\nLinear Regression rmse (Eval): 0.0617094388532186\nLinear Regression mae (Eval): 0.040985584127677104\nLinear Regression r2 (Eval): 0.9961747621952894\n"
    }
   ],
   "source": [
    "# Lin Reg Model (Target: Torque, Data: All)\n",
    "lin_reg = LinearRegression()\n",
    "lin_reg.fit(torque_train_data, torque_label_data)\n",
    "\n",
    "# Name Model\n",
    "model_type = \"LinRegr_Torque\"\n",
    "model_name = sklearn_helpers.name_model(model_type)\n",
    "\n",
    "# Save Model\n",
    "sklearn_helpers.save_model(lin_reg, model_name)\n",
    "\n",
    "# Compute RMSE via cross validation\n",
    "scores_mse = cross_val_score(lin_reg, torque_train_data, torque_label_data, scoring = \"neg_mean_squared_error\", cv = 5)\n",
    "scores_rmse = np.sqrt(-scores_mse)\n",
    "\n",
    "# Compute MAE via cross validation\n",
    "scores_mae = cross_val_score(lin_reg, torque_train_data, torque_label_data, scoring = \"neg_mean_absolute_error\", cv = 5)\n",
    "scores_mae = -1 * scores_mae\n",
    "\n",
    "# Print cross validation results\n",
    "model_name = \"Linear Regression\"\n",
    "print(model_name, \"rmse mean (cv):\", scores_rmse.mean())\n",
    "print(model_name, \"mae mean (cv):\", scores_mae.mean())\n",
    "\n",
    "# Evaluate model\n",
    "start_time = time.process_time()\n",
    "torque_pred_eval = lin_reg.predict(torque_eval_data)\n",
    "end_time = time.process_time()\n",
    "print(\"Prediction Time:\", (end_time - start_time))\n",
    "\n",
    "model_evaluation.evaluate_model(model_name, torque_eval_label, torque_pred_eval)"
   ]
  },
  {
   "cell_type": "code",
   "execution_count": null,
   "metadata": {},
   "outputs": [],
   "source": []
  }
 ]
}