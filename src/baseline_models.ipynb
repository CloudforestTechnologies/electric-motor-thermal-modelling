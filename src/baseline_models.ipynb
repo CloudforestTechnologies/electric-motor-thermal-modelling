{
 "cells": [
  {
   "cell_type": "code",
   "execution_count": 99,
   "metadata": {},
   "outputs": [],
   "source": [
    "# Module Importations\n",
    "import numpy as np\n",
    "import pandas as pd\n",
    "from sklearn.tree import DecisionTreeRegressor\n",
    "from sklearn.linear_model import LinearRegression\n",
    "from sklearn.metrics import mean_absolute_error\n",
    "from sklearn.metrics import mean_squared_error\n",
    "from sklearn.model_selection import cross_val_score"
   ]
  },
  {
   "cell_type": "code",
   "execution_count": 100,
   "metadata": {},
   "outputs": [],
   "source": [
    "def load_motor_data():\n",
    "    \"\"\"Load Dataset\n",
    "    ======================================\n",
    "    Loads dataset from user-specified directory.\n",
    "    \n",
    "    Args:\n",
    "        None.\n",
    "        \n",
    "    Returns:\n",
    "        dataframe (dataframe) - Dataframe loaded with data from csv.\n",
    "    \"\"\"\n",
    "\n",
    "    file_string = r'C:\\Users\\ASUS-PC\\OneDrive\\Cloudforest Technologies\\M. Projects\\Yellow Cuckoo\\pmsm_temperature_data.csv'\n",
    "    return pd.read_csv(file_string)"
   ]
  },
  {
   "cell_type": "code",
   "execution_count": 101,
   "metadata": {},
   "outputs": [],
   "source": [
    "# Load dataset.\n",
    "original_dataset = load_motor_data()"
   ]
  },
  {
   "cell_type": "code",
   "execution_count": 102,
   "metadata": {},
   "outputs": [],
   "source": [
    "def split_train_test(data, test_ratio):\n",
    "    \"\"\"Split Training & Test Data\n",
    "    ======================================\n",
    "    Splits original dataset into training and evaluation data.\n",
    "    \n",
    "    Args:\n",
    "        data (dataframe) - Original test data.\n",
    "        test_ratio (int) - Ratio for splitting dataset as training percentage.\n",
    "        \n",
    "    Returns:\n",
    "        data_train (dataframe) - Dataframe with training data slice.\n",
    "        data_test (dataframe) - Dataframe with testing data slice.\n",
    "    \"\"\"\n",
    "\n",
    "    # Random seed setting ensures identical data split between calls\n",
    "    np.random.seed(42)\n",
    "    shuffled_indices = np.random.permutation(len(data))\n",
    "\n",
    "    test_set_size = int(len(data) * test_ratio)\n",
    "\n",
    "    # Create slices of test and training indices\n",
    "    train_indices = shuffled_indices[test_set_size:]\n",
    "    test_indices = shuffled_indices[:test_set_size]\n",
    "\n",
    "    return data.iloc[train_indices], data.iloc[test_indices]"
   ]
  },
  {
   "cell_type": "code",
   "execution_count": 103,
   "metadata": {},
   "outputs": [],
   "source": [
    "# Split data into training and test sets\n",
    "training_set, test_set = split_train_test(original_dataset, 0.8)"
   ]
  },
  {
   "cell_type": "code",
   "execution_count": null,
   "metadata": {},
   "outputs": [],
   "source": [
    "def evaluate_model(classifier, training_data, label_data):\n",
    "    \"\"\"Evaluate Model\n",
    "    ======================================\n",
    "    Evaluates a given model in terms of MSE/MAE using a cross validation approach.\n",
    "    \n",
    "    Args:\n",
    "        classifier (classifier) - Trained model to be evaluated.\n",
    "        training_data (dataframe) - Training data used in cross validation.\n",
    "        label_data (dataframe) - Label data used in cross validation.\n",
    "        \n",
    "    Returns:\n",
    "        None\n",
    "    \"\"\"\n",
    "\n",
    "    "
   ]
  },
  {
   "cell_type": "code",
   "execution_count": 104,
   "metadata": {
    "tags": []
   },
   "outputs": [
    {
     "output_type": "stream",
     "name": "stdout",
     "text": "ambient        coolant            u_d            u_q  \\\ncount  199614.000000  199614.000000  199614.000000  199614.000000   \nmean       -0.005043       0.005308       0.003792      -0.005359   \nstd         0.996490       1.002488       0.998747       1.001464   \nmin        -5.239872      -1.270450      -1.654002      -1.852853   \n25%        -0.601386      -1.037872      -0.831843      -0.924537   \n50%         0.266671      -0.178200       0.267391      -0.098490   \n75%         0.686838       0.673512       0.358587       0.848608   \nmax         2.954662       2.296845       2.273808       1.788773   \n\n         motor_speed         torque            i_d            i_q  \\\ncount  199614.000000  199614.000000  199614.000000  199614.000000   \nmean       -0.004852      -0.001687       0.004184      -0.001570   \nstd         1.001954       0.998525       0.999021       0.998389   \nmin        -1.353747      -3.339106      -3.235659      -3.329749   \n25%        -0.951892      -0.267419      -0.759524      -0.257273   \n50%        -0.140246      -0.186549       0.206151      -0.183473   \n75%         0.856986       0.548676       1.013975       0.501003   \nmax         2.024162       3.016479       1.060718       2.914179   \n\n                  pm    stator_yoke   stator_tooth  stator_winding  \ncount  199614.000000  199614.000000  199614.000000   199614.000000  \nmean       -0.004875       0.001077      -0.001664       -0.003221  \nstd         0.997822       1.002443       1.000849        0.998714  \nmin        -2.631581      -1.833552      -2.063137       -2.019349  \n25%        -0.677244      -0.747915      -0.761951       -0.725616  \n50%         0.095507      -0.057212       0.005475        0.008515  \n75%         0.682715       0.698267       0.772167        0.729825  \nmax         2.917456       2.443347       2.325405        2.633611  \n"
    }
   ],
   "source": [
    "# Drop profile id data column\n",
    "training_set = training_set.drop(\"profile_id\", axis = 1)\n",
    "print(training_set.describe())"
   ]
  },
  {
   "cell_type": "code",
   "execution_count": 105,
   "metadata": {},
   "outputs": [],
   "source": [
    "# Create rotor target\n",
    "rotor_training_data = training_set.drop(\"pm\", axis = 1)\n",
    "rotor_label_data = training_set[\"pm\"].copy()"
   ]
  },
  {
   "cell_type": "code",
   "execution_count": 106,
   "metadata": {},
   "outputs": [
    {
     "output_type": "execute_result",
     "data": {
      "text/plain": "LinearRegression(copy_X=True, fit_intercept=True, n_jobs=None, normalize=False)"
     },
     "metadata": {},
     "execution_count": 106
    }
   ],
   "source": [
    "# Train linear regression model on rotor target\n",
    "lin_reg = LinearRegression()\n",
    "\n",
    "lin_reg.fit(rotor_training_data, rotor_label_data)"
   ]
  },
  {
   "cell_type": "code",
   "execution_count": 107,
   "metadata": {},
   "outputs": [],
   "source": [
    "# Make set of predictions based on model\n",
    "rotor_predictions = lin_reg.predict(rotor_training_data)"
   ]
  },
  {
   "cell_type": "code",
   "execution_count": 108,
   "metadata": {
    "tags": []
   },
   "outputs": [
    {
     "output_type": "stream",
     "name": "stdout",
     "text": "0.47491094691649194\n"
    }
   ],
   "source": [
    "# Calculate MSE predictions\n",
    "lin_predictions_mse = mean_squared_error(rotor_label_data, rotor_predictions)\n",
    "\n",
    "lin_predictions_rmse = np.sqrt(lin_predictions_mse)\n",
    "\n",
    "print(lin_predictions_rmse)"
   ]
  },
  {
   "cell_type": "code",
   "execution_count": 109,
   "metadata": {
    "tags": []
   },
   "outputs": [
    {
     "output_type": "stream",
     "name": "stdout",
     "text": "0.36140747961973113\n"
    }
   ],
   "source": [
    "# Calculate MAE performance\n",
    "lin_predictions_mae = mean_absolute_error(rotor_label_data, rotor_predictions)\n",
    "\n",
    "print(lin_predictions_mae)"
   ]
  },
  {
   "cell_type": "code",
   "execution_count": 110,
   "metadata": {
    "tags": []
   },
   "outputs": [
    {
     "output_type": "stream",
     "name": "stdout",
     "text": "0.0001159730573360942\n5.8323517104136404e-05\n"
    }
   ],
   "source": [
    "# Create Decision Tree Regressor model\n",
    "tree_regr = DecisionTreeRegressor()\n",
    "\n",
    "tree_regr.fit(rotor_training_data, rotor_label_data)\n",
    "\n",
    "# Create set of predictions\n",
    "tree_regr_pred = tree_regr.predict(rotor_training_data)\n",
    "\n",
    "# Evaluate predictions - MSE\n",
    "tree_regr_mse = mean_squared_error(rotor_label_data, tree_regr_pred)\n",
    "tree_regr_rmse = np.sqrt(tree_regr_mse)\n",
    "print(tree_regr_rmse)\n",
    "\n",
    "# Evaluate predictions - MAE\n",
    "tree_regr_mae = mean_absolute_error(rotor_label_data, tree_regr_pred)\n",
    "print(tree_regr_mae)"
   ]
  },
  {
   "cell_type": "code",
   "execution_count": null,
   "metadata": {},
   "outputs": [],
   "source": []
  }
 ],
 "metadata": {
  "language_info": {
   "codemirror_mode": {
    "name": "ipython",
    "version": 3
   },
   "file_extension": ".py",
   "mimetype": "text/x-python",
   "name": "python",
   "nbconvert_exporter": "python",
   "pygments_lexer": "ipython3",
   "version": "3.6.6-final"
  },
  "orig_nbformat": 2,
  "kernelspec": {
   "name": "python36664bitd546b3131dc04b45b27adb02c244c21c",
   "display_name": "Python 3.6.6 64-bit"
  }
 },
 "nbformat": 4,
 "nbformat_minor": 2
}