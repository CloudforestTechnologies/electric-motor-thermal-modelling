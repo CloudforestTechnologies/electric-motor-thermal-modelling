{
 "cells": [
  {
   "cell_type": "code",
   "execution_count": 27,
   "metadata": {},
   "outputs": [],
   "source": [
    "# Module Importations\n",
    "import pandas as pd"
   ]
  },
  {
   "cell_type": "code",
   "execution_count": 28,
   "metadata": {},
   "outputs": [],
   "source": [
    "def load_motor_data():\n",
    "    file_string = r'C:\\Users\\ASUS-PC\\OneDrive\\Cloudforest Technologies\\M. Projects\\Yellow Cuckoo\\pmsm_temperature_data.csv'\n",
    "    return pd.read_csv(file_string)"
   ]
  },
  {
   "cell_type": "code",
   "execution_count": 29,
   "metadata": {},
   "outputs": [],
   "source": [
    "# Load dataset.\n",
    "original_dataset = load_motor_data()"
   ]
  },
  {
   "cell_type": "code",
   "execution_count": 30,
   "metadata": {},
   "outputs": [
    {
     "output_type": "stream",
     "name": "stdout",
     "text": "<class 'pandas.core.frame.DataFrame'>\nRangeIndex: 998070 entries, 0 to 998069\nData columns (total 13 columns):\nambient           998070 non-null float64\ncoolant           998070 non-null float64\nu_d               998070 non-null float64\nu_q               998070 non-null float64\nmotor_speed       998070 non-null float64\ntorque            998070 non-null float64\ni_d               998070 non-null float64\ni_q               998070 non-null float64\npm                998070 non-null float64\nstator_yoke       998070 non-null float64\nstator_tooth      998070 non-null float64\nstator_winding    998070 non-null float64\nprofile_id        998070 non-null int64\ndtypes: float64(12), int64(1)\nmemory usage: 99.0 MB\nNone\n"
    }
   ],
   "source": [
    "# View motor dataset macro data\n",
    "print(original_dataset.info())"
   ]
  },
  {
   "cell_type": "code",
   "execution_count": 31,
   "metadata": {},
   "outputs": [
    {
     "output_type": "stream",
     "name": "stdout",
     "text": "ambient        coolant            u_d            u_q  \\\ncount  998070.000000  998070.000000  998070.000000  998070.000000   \nmean       -0.003905       0.004723       0.004780      -0.005690   \nstd         0.993127       1.002423       0.997878       1.002330   \nmin        -8.573954      -1.429349      -1.655373      -1.861463   \n25%        -0.599385      -1.037925      -0.826359      -0.927390   \n50%         0.266157      -0.177187       0.267542      -0.099818   \n75%         0.686675       0.650709       0.358491       0.852625   \nmax         2.967117       2.649032       2.274734       1.793498   \n\n         motor_speed         torque            i_d            i_q  \\\ncount  998070.000000  998070.000000  998070.000000  998070.000000   \nmean       -0.006336      -0.003333       0.006043      -0.003194   \nstd         1.001229       0.997907       0.998994       0.997912   \nmin        -1.371529      -3.345953      -3.245874      -3.341639   \n25%        -0.951892      -0.266917      -0.756296      -0.257269   \n50%        -0.140246      -0.187246       0.213935      -0.190076   \n75%         0.853584       0.547171       1.013975       0.499260   \nmax         2.024164       3.016971       1.060937       2.914185   \n\n                  pm    stator_yoke   stator_tooth  stator_winding  \\\ncount  998070.000000  998070.000000  998070.000000   998070.000000   \nmean       -0.004396       0.000609      -0.002208       -0.003935   \nstd         0.995686       1.001049       0.999597        0.998343   \nmin        -2.631991      -1.834688      -2.066143       -2.019973   \n25%        -0.672308      -0.747265      -0.761951       -0.725622   \n50%         0.094367      -0.057226       0.005085        0.006536   \n75%         0.680691       0.697344       0.772239        0.725660   \nmax         2.917456       2.449158       2.326668        2.653781   \n\n          profile_id  \ncount  998070.000000  \nmean       50.732001  \nstd        22.073125  \nmin         4.000000  \n25%        32.000000  \n50%        56.000000  \n75%        68.000000  \nmax        81.000000  \n"
    }
   ],
   "source": [
    "# View motor dataset statistics\n",
    "print(original_dataset.describe())"
   ]
  },
  {
   "cell_type": "code",
   "execution_count": 32,
   "metadata": {},
   "outputs": [
    {
     "output_type": "stream",
     "name": "stdout",
     "text": "ambient   coolant       u_d       u_q  motor_speed    torque       i_d  \\\n0 -0.752143 -1.118446  0.327935 -1.297858    -1.222428 -0.250182  1.029572   \n1 -0.771263 -1.117021  0.329665 -1.297686    -1.222429 -0.249133  1.029509   \n2 -0.782892 -1.116681  0.332771 -1.301822    -1.222428 -0.249431  1.029448   \n3 -0.780935 -1.116764  0.333700 -1.301852    -1.222430 -0.248636  1.032845   \n4 -0.774043 -1.116775  0.335206 -1.303118    -1.222429 -0.248701  1.031807   \n\n        i_q        pm  stator_yoke  stator_tooth  stator_winding  profile_id  \n0 -0.245860 -2.522071    -1.831422     -2.066143       -2.018033           4  \n1 -0.245832 -2.522418    -1.830969     -2.064859       -2.017631           4  \n2 -0.245818 -2.522673    -1.830400     -2.064073       -2.017343           4  \n3 -0.246955 -2.521639    -1.830333     -2.063137       -2.017632           4  \n4 -0.246610 -2.521900    -1.830498     -2.062795       -2.018145           4  \n"
    }
   ],
   "source": [
    "# Peek at motor dataset\n",
    "print(original_dataset.head(5))"
   ]
  },
  {
   "cell_type": "code",
   "execution_count": null,
   "metadata": {},
   "outputs": [],
   "source": []
  }
 ],
 "metadata": {
  "language_info": {
   "codemirror_mode": {
    "name": "ipython",
    "version": 3
   },
   "file_extension": ".py",
   "mimetype": "text/x-python",
   "name": "python",
   "nbconvert_exporter": "python",
   "pygments_lexer": "ipython3",
   "version": "3.6.6-final"
  },
  "orig_nbformat": 2,
  "kernelspec": {
   "name": "python36664bitd546b3131dc04b45b27adb02c244c21c",
   "display_name": "Python 3.6.6 64-bit"
  }
 },
 "nbformat": 4,
 "nbformat_minor": 2
}